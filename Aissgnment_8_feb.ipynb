{
  "nbformat": 4,
  "nbformat_minor": 0,
  "metadata": {
    "colab": {
      "provenance": []
    },
    "kernelspec": {
      "name": "python3",
      "display_name": "Python 3"
    },
    "language_info": {
      "name": "python"
    }
  },
  "cells": [
    {
      "cell_type": "markdown",
      "source": [
        "Q1. What is Abstraction in OOps? Explain with an example.\n",
        "\n",
        "ANS -Q1.Abstraction in python is defined as a process of handling complexity by hiding unnecessary information from the user. This is one of the core concepts of object-oriented programming (OOP) languages. That enables the user to implement even more complex logic on top of the provided abstraction without understanding or even thinking about all the hidden background/back-end complexity. "
      ],
      "metadata": {
        "id": "yFE4CBLltE-G"
      }
    },
    {
      "cell_type": "code",
      "execution_count": 7,
      "metadata": {
        "id": "dnlCj7kfsJ_v"
      },
      "outputs": [],
      "source": [
        "import abc\n",
        "class pwskills:\n",
        "  @abc.abstractmethod\n",
        "  def student_details(self):\n",
        "    pass\n",
        "  @abc.abstractmethod\n",
        "  def student_assignment(self):\n",
        "    pass\n",
        "  @abc.abstractmethod  \n",
        "  def student_marks(self):\n",
        "    pass"
      ]
    },
    {
      "cell_type": "code",
      "source": [
        "class student_details(pwskills):\n",
        "    \n",
        "    def students_details(self):\n",
        "        return 'this will show student detail'\n",
        "    \n",
        "    def student_assignemnt(self):\n",
        "      return \"this will show student assignment \""
      ],
      "metadata": {
        "id": "9PlRxJ__uwLg"
      },
      "execution_count": 8,
      "outputs": []
    },
    {
      "cell_type": "code",
      "source": [
        "sd= student_details()\n",
        "sd.student_details()"
      ],
      "metadata": {
        "id": "hsMYsAGfxDkv"
      },
      "execution_count": 13,
      "outputs": []
    },
    {
      "cell_type": "markdown",
      "source": [
        "Q2. Differentiate between Abstraction and Encapsulation. Explain with an example.\n",
        "\n",
        "ans-\n",
        "Abstraction\n",
        "\n",
        "It deals with only the relevant details by hiding the irrelevant ones to reduce complexity thereby increasing efficiency.\t\n",
        "\n",
        "It refers to the idea of hiding data which is not required for presentation purposes.\n",
        "\n",
        "It focuses on what rather than how.\n",
        "\n",
        "It hides the unnecessary details on the design level.\t\n",
        "\n",
        "Information and data is separated from the relevant data.\n",
        "\n",
        "It deals with ideas rather than events.\t\n",
        "\n",
        "It’s implemented using abstract class and interface."
      ],
      "metadata": {
        "id": "24yGrl38zDFq"
      }
    },
    {
      "cell_type": "markdown",
      "source": [
        "\n",
        "Encapsulation\n",
        "\n",
        "It binds the data and information together into a single entity to protect the data from external sources.\n",
        "\n",
        "It hides the data and code in order to restrict unwanted access.\n",
        "\n",
        "hides the internal mechanics of how it does something.\n",
        "\n",
        "It also hides the details but on the implementation level. \n",
        "\n",
        "Information is hidden inside a capsule for close access\n",
        "\n",
        "It’s implemented using protected, private, and package-private access modifiers.\n",
        "\n",
        "The idea is to protect the data from outside world. "
      ],
      "metadata": {
        "id": "sdIJFwj3zpfs"
      }
    },
    {
      "cell_type": "markdown",
      "source": [
        "Q3. What is abc module in python? Why is it used?\n",
        " \n",
        " ans-\n",
        " Have you ever thought about checking whether the objects you are using adheres to a particular specification? It is necessary to verify whether an object implements a given method or property, especially while creating a library where other developers make use of it. A developer can use hasattr or isinstance methods to check whether the input conforms to a particular identity. But sometimes it is inconvenient to use those methods to check a myriad of different properties and methods.    \n",
        "\n",
        "As a solution to this inconvenience, Python introduced a concept called abstract base class (abc). In this section, we will discuss the abstract base class and its importance.  \n",
        "\n",
        "Abstract Base Class\n",
        "Declaring an Abstract Base Class\n",
        "Why declare an Abstract Base Class?\n",
        "Abstract Properties\n",
        "Built-In Abstract Classes\n",
        "\n",
        "To understand the need to declare a virtual subclass, we need to consider the example of a list-like object where you don’t want to put a restriction of only considering list or tuple. Before that let’s see how to use isinstance to check against a list or tuple of class. \n",
        "\n",
        "isinstance([], (list, tuple))\n",
        "This isinstance check meets the purpose if you are accepting only a list or tuple. But here the case is different, there is no such restriction. So, this solution is not extensible for a developer who uses your library to send something else other than a list or tuple. Here comes the importance of abstract class. Let’s understand through the below code.\n",
        "\n"
      ],
      "metadata": {
        "id": "A-QkdKkM3s8m"
      }
    },
    {
      "cell_type": "markdown",
      "source": [
        "Q4. How can we achieve data abstraction?\n",
        "\n",
        "  In Python, abstraction can be achieved by having/using abstract classes and methods in our programs."
      ],
      "metadata": {
        "id": "9KQt4AC-4k9i"
      }
    },
    {
      "cell_type": "markdown",
      "source": [
        "Q5. Can we create an instance of an abstract class? Explain your answer.\n",
        "An abstract class can be considered as a blueprint for other classes. It allows you to create a set of methods that must be created within any child classes built from the abstract class. A class which contains one or more abstract methods is called an abstract class. An abstract method is a method that has a declaration but does not have an implementation. While we are designing large functional units we use an abstract class. When we want to provide a common interface for different implementations of a component, we use an abstract class. "
      ],
      "metadata": {
        "id": "nWTJGPS05GrR"
      }
    },
    {
      "cell_type": "code",
      "source": [],
      "metadata": {
        "id": "KQAJg34a1XNS"
      },
      "execution_count": null,
      "outputs": []
    }
  ]
}