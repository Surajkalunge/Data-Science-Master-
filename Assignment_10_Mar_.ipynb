{
  "nbformat": 4,
  "nbformat_minor": 0,
  "metadata": {
    "colab": {
      "provenance": []
    },
    "kernelspec": {
      "name": "python3",
      "display_name": "Python 3"
    },
    "language_info": {
      "name": "python"
    }
  },
  "cells": [
    {
      "cell_type": "markdown",
      "source": [
        "Q1: What is Estimation Statistics? Explain point estimate and interval estimate.\n",
        "\n",
        "Estimation statistics, or simply estimation, is a data analysis framework that uses a combination of effect sizes, confidence intervals, precision planning, and meta-analysis to plan experiments, analyze data and interpret results. It complements hypothesis testing approaches such as null hypothesis significance testing (NHST), by going beyond the question is an effect present or not, and provides information about how large an effect is.\n",
        "\n",
        "Point Estimates\n",
        "\n",
        "A point estimate is a sample statistic calculated using the sample data to estimate the most likely value of the corresponding unknown population parameter. In other words, we derive the point estimate from a single value in the sample and use it to estimate the population value.\n",
        "\n",
        "For instance, if we use a value of x̅ to estimate the mean µ of a population.\n",
        "\n",
        "x̅ = Σx/n\n",
        "\n",
        "For example, 62 is the average (x̅) mark achieved by a sample of 15 students randomly collected from a class of 150 students, which is considered the mean mark of the entire class. Since it is in the single numeric form, it is a point estimator.\n",
        "\n",
        "Point and Interval Estimation\n",
        "\n",
        "The basic drawback of point estimates is that no information is available regarding their reliability. In fact, the probability that a single sample statistic is equal to the population parameter is very unlikely.\n",
        "\n",
        "Take a sample, find x̅. x̅ is a close approximation of μ. But, depending on your sample size, that may not be a good point estimate. For instance, ‘s’ is a good approximation of ‘σ.’ So, if we want stronger confidence in our estimate range, we need to do a confidence interval.\n",
        "\n",
        "Interval Estimates\n",
        "\n",
        "A confidence interval estimate is a range of values constructed from sample data so that the population parameter is likely to occur within the range at a specified probability. Accordingly, the specified probability is the level of confidence.\n",
        "\n",
        "Broader and probably more accurate than a point estimate\n",
        "Used with inferential statistics to develop a confidence interval – where we believe with a certain degree of confidence that the population parameter lies.\n",
        "Any parameter estimate that is based on a sample statistic has some amount of sampling error.\n",
        "In statistics, interval estimation is using sample data to calculate an interval of possible values of an unknown population parameter."
      ],
      "metadata": {
        "id": "vUEsU9BL1m7w"
      }
    },
    {
      "cell_type": "markdown",
      "source": [
        "Q2. Write a Python function to estimate the population mean using a sample mean and standard\n",
        "deviation."
      ],
      "metadata": {
        "id": "Uy2uC4nN23i3"
      }
    },
    {
      "cell_type": "code",
      "execution_count": null,
      "metadata": {
        "id": "oVL5ltd1TNzu",
        "colab": {
          "base_uri": "https://localhost:8080/"
        },
        "outputId": "b8261182-8b50-4cac-bfe2-cabbcceab73f"
      },
      "outputs": [
        {
          "output_type": "stream",
          "name": "stdout",
          "text": [
            "Population mean: 4.0\n"
          ]
        }
      ],
      "source": [
        "import math\n",
        "\n",
        "def population_mean(sample_mean, sample_std, sample_size):\n",
        "    std_error = sample_std / math.sqrt(sample_size)\n",
        "    z_value = 1.96 # assume a 95% confidence level and use the corresponding z-value\n",
        "    margin_of_error = z_value * std_error \n",
        "    lower_bound = sample_mean - margin_of_error \n",
        "    upper_bound = sample_mean + margin_of_error \n",
        "    return ((lower_bound + upper_bound) / 2)\n",
        "result = population_mean(4,10,40000)\n",
        "\n",
        "print(f\"Population mean: {result}\")"
      ]
    },
    {
      "cell_type": "markdown",
      "source": [
        "Q3: What is Hypothesis testing? Why is it used? State the importance of Hypothesis testing.\n",
        "\n",
        "Hypothesis testing is an act in statistics whereby an analyst tests an assumption regarding a population parameter. The methodology employed by the analyst depends on the nature of the data used and the reason for the analysis.\n",
        "\n",
        "Hypothesis testing is used to assess the plausibility of a hypothesis by using sample data. Such data may come from a larger population, or from a data-generating process. The word \"population\" will be used for both of these cases in the following descriptions.\n",
        "\n",
        "Hypothesis testing is used to assess the plausibility of a hypothesis by using sample data.\n",
        "The test provides evidence concerning the plausibility of the hypothesis, given the data.\n",
        "Statistical analysts test a hypothesis by measuring and examining a random sample of the population being analyzed.\n",
        "\n",
        "Hypothesis testing is the process used to evaluate the strength of evidence from the sample and provides a framework for making determinations related to the population, ie, it provides a method for understanding how reliably one can extrapolate observed findings in a sample under study to the larger population from\n",
        "\n",
        "According to the San Jose State University Statistics Department, hypothesis testing is one of the most important concepts in statistics because it is how you decide if something really happened, or if certain treatments have positive effects, or if groups differ from each other or if one variable predicts another. In short, you want to proof if your data is statistically significant and unlikely to have occurred by chance alone. In essence then, a hypothesis test is a test of significance.\n",
        "\n"
      ],
      "metadata": {
        "id": "_6swBrYv5z5K"
      }
    },
    {
      "cell_type": "markdown",
      "source": [
        "Q4. Create a hypothesis that states whether the average weight of male college students is greater than\n",
        "the average weight of female college students.\n",
        "\n",
        "null hypothesis:\n",
        "\n",
        "the average weirht of male college students is not greater than the average weight of female college students \n",
        "\n",
        "alternate hypothesis:\n",
        "\n",
        "the average weight of male college students is greater than\n",
        "the average weight of female college students."
      ],
      "metadata": {
        "id": "TLzVJsGCBW9C"
      }
    },
    {
      "cell_type": "markdown",
      "source": [
        "Q5. Write a Python script to conduct a hypothesis test on the difference between two population means,\n",
        "given a sample from each population."
      ],
      "metadata": {
        "id": "tEstAu_ACVQx"
      }
    },
    {
      "cell_type": "code",
      "source": [
        "import numpy as np\n",
        "from scipy.stats import ttest_ind\n",
        "\n",
        "# create two random samples\n",
        "sample1 = np.random.normal(10, 2, 100)\n",
        "sample2 = np.random.normal(10, 2, 100)\n",
        "\n",
        "# conduct t-test\n",
        "t_stat, p_val = ttest_ind(sample1, sample2)\n",
        "\n",
        "# print results\n",
        "print(\"t-statistic: \", t_stat)\n",
        "print(\"p-value: \", p_val)\n",
        "\n",
        "# check if p-value is significant at 5% level\n",
        "if p_val < 0.05:\n",
        "    print(\"Reject null hypothesis\")\n",
        "else:\n",
        "    print(\"Fail to reject null hypothesis\")"
      ],
      "metadata": {
        "colab": {
          "base_uri": "https://localhost:8080/"
        },
        "id": "69hexaQA5bZd",
        "outputId": "21daaf19-0cad-4fb4-a924-a7cc5036d169"
      },
      "execution_count": null,
      "outputs": [
        {
          "output_type": "stream",
          "name": "stdout",
          "text": [
            "t-statistic:  0.828259962163519\n",
            "p-value:  0.40852053511970243\n",
            "Fail to reject null hypothesis\n"
          ]
        }
      ]
    },
    {
      "cell_type": "markdown",
      "source": [
        "Q6: What is a null and alternative hypothesis? Give some examples.\n",
        "\n",
        "\n",
        "The null hypothesis is the claim that there’s no effect in the population.\n",
        "\n",
        "If the sample provides enough evidence against the claim that there’s no effect in the population (p ≤ α), then we can reject the null hypothesis. Otherwise, we fail to reject the null hypothesis.\n",
        "\n",
        "Although “fail to reject” may sound awkward, it’s the only wording that statisticians accept. Be careful not to say you “prove” or “accept” the null hypothesis.\n",
        "\n",
        "Example: Population on trial\n",
        "Think of a statistical test as being like a legal trial. The population is accused of the “crime” of having an effect, and the sample is the criminal evidence. In the United States and many other countries, a person accused of a crime is assumed to be innocent until proven guilty. Similarly, we start by assuming the population is “innocent” of having an effect.\n",
        "In other words, the null hypothesis (i.e., that there is no effect) is assumed to be true until the sample provides enough evidence to reject it.\n",
        "\n",
        "Null hypotheses often include phrases such as “no effect,” “no difference,” or “no relationship.” When written in mathematical terms, they always include an equality (usually =, but sometimes ≥ or ≤).\n",
        "\n",
        "You can never know with complete certainty whether there is an effect in the population. Some percentage of the time, your inference about the population will be incorrect. When you incorrectly reject the null hypothesis, it’s called a type I error. When you incorrectly fail to reject it, it’s a type II error.\n",
        "\n",
        "\n",
        "The alternative hypothesis (Ha) is the other answer to your research question. It claims that there’s an effect in the population.\n",
        "\n",
        "Often, your alternative hypothesis is the same as your research hypothesis. In other words, it’s the claim that you expect or hope will be true.\n",
        "\n",
        "The alternative hypothesis is the complement to the null hypothesis. Null and alternative hypotheses are exhaustive, meaning that together they cover every possible outcome. They are also mutually exclusive, meaning that only one can be true at a time.\n",
        " example\n",
        " \n",
        "Does tooth flossing affect the number of cavities?\n",
        "\n",
        "Does the amount of text highlighted in a textbook affect exam scores?"
      ],
      "metadata": {
        "id": "N4Qhw8SwDbjN"
      }
    },
    {
      "cell_type": "markdown",
      "source": [
        "Q7: Write down the steps involved in hypothesis testing.\n",
        "\n",
        "State your research hypothesis as a null hypothesis and alternate hypothesis (Ho) and (Ha or H1).\n",
        "\n",
        "Collect data in a way designed to test the hypothesis.\n",
        "\n",
        "Perform an appropriate statistical test.\n",
        "\n",
        "Decide whether to reject or fail to reject your null hypothesis.\n",
        "\n",
        "Present the findings in your results and discussion section.\n",
        "\n",
        "In hypothesis testing, there are certain steps one must follow. Below these are summarized into six such steps to conducting a test of a hypothesis.\n",
        "\n",
        "Set up the hypotheses and check conditions: Each hypothesis test includes two hypotheses about the population. One is the null hypothesis, notated as \n",
        ", which is a statement of a particular parameter value. This hypothesis is assumed to be true until there is evidence to suggest otherwise. The second hypothesis is called the alternative, or research hypothesis, notated as \n",
        ". The alternative hypothesis is a statement of a range of alternative values in which the parameter may fall. One must also check that any conditions (assumptions) needed to run the test have been satisfied e.g. normality of data, independence, and number of success and failure outcomes.\n",
        "\n",
        "Decide on the significance level, \n",
        ": This value is used as a probability cutoff for making decisions about the null hypothesis. This alpha value represents the probability we are willing to place on our test for making an incorrect decision in regards to rejecting the null hypothesis. The most common \n",
        " value is 0.05 or 5%. Other popular choices are 0.01 (1%) and 0.1 (10%).\n",
        "\n",
        "Calculate the test statistic: Gather sample data and calculate a test statistic where the sample statistic is compared to the parameter value. The test statistic is calculated under the assumption the null hypothesis is true and incorporates a measure of standard error and assumptions (conditions) related to the sampling distribution.\n",
        "\n",
        "Calculate probability value (p-value), or find the rejection region: A p-value is found by using the test statistic to calculate the probability of the sample data producing such a test statistic or one more extreme. The rejection region is found by using alpha to find a critical value; the rejection region is the area that is more extreme than the critical value. We discuss the p-value and rejection region in more detail in the next section.\n",
        "\n",
        "Make a decision about the null hypothesis: In this step, we decide to either reject the null hypothesis or decide to fail to reject the null hypothesis. Notice we do not make a decision where we will accept the null hypothesis.\n",
        "State an overall conclusion: Once we have found the p-value or rejection region, and made a statistical decision about the null hypothesis (i.e. we will reject the null or fail to reject the null), we then want to summarize our results into an overall conclusion for our test."
      ],
      "metadata": {
        "id": "KdcN4jk7EO0u"
      }
    },
    {
      "cell_type": "markdown",
      "source": [
        "Q8. Define p-value and explain its significance in hypothesis testing.\n",
        "\n",
        "n statistics, the p-value is the probability of obtaining results at least as extreme as the observed results of a statistical hypothesis test, assuming that the null hypothesis is correct. The p-value serves as an alternative to rejection points to provide the smallest level of significance at which the null hypothesis would be rejected. A smaller p-value means that there is stronger evidence in favor of the alternative hypothesis.\n",
        "\n",
        "P-value is often used to promote credibility for studies or reports by government agencies. For example, the U.S. Census Bureau stipulates that any analysis with a p-value greater than 0.10 must be accompanied by a statement that the difference is not statistically different from zero. The Census Bureau also has standards in place stipulating which p-values are acceptable for various publications\n",
        "\n",
        "A p-value less than 0.05 is typically considered to be statistically significant, in which case the null hypothesis should be rejected. A p-value greater than 0.05 means that deviation from the null hypothesis is not statistically significant, and the null hypothesis is not rejected.\n",
        "\n",
        "The p value is a number, calculated from a statistical test, that describes how likely you are to have found a particular set of observations if the null hypothesis were true. P values are used in hypothesis testing to help decide whether to reject the null hypothesis"
      ],
      "metadata": {
        "id": "0zP2zvYwEwPV"
      }
    },
    {
      "cell_type": "markdown",
      "source": [
        "Q9. Generate a Student's t-distribution plot using Python's matplotlib library, with the degrees of freedom parameter set to 10."
      ],
      "metadata": {
        "id": "MpDzZInluqLh"
      }
    },
    {
      "cell_type": "code",
      "source": [
        "from scipy.stats import t\n",
        "import matplotlib.pyplot as plt\n",
        "\n",
        "#generate t distribution with sample size 10000\n",
        "x = t.rvs(df=10, size=10000)\n",
        "\n",
        "plt.hist(x, density=True, edgecolor='black', bins=20)"
      ],
      "metadata": {
        "colab": {
          "base_uri": "https://localhost:8080/",
          "height": 459
        },
        "id": "dwrcu5m8DbSJ",
        "outputId": "8a284695-748b-48c4-c152-f54dc62ff4e5"
      },
      "execution_count": null,
      "outputs": [
        {
          "output_type": "execute_result",
          "data": {
            "text/plain": [
              "(array([1.85444061e-04, 1.85444061e-04, 9.27220304e-04, 3.33799309e-03,\n",
              "        6.30509807e-03, 1.83589620e-02, 4.30230221e-02, 9.53182472e-02,\n",
              "        1.98796033e-01, 3.09320693e-01, 3.83683762e-01, 3.43813289e-01,\n",
              "        2.34772181e-01, 1.25545629e-01, 5.26661133e-02, 2.29950635e-02,\n",
              "        8.90131492e-03, 4.07976934e-03, 1.66899655e-03, 5.56332182e-04]),\n",
              " array([-5.7312971 , -5.19205093, -4.65280476, -4.11355858, -3.57431241,\n",
              "        -3.03506624, -2.49582007, -1.95657389, -1.41732772, -0.87808155,\n",
              "        -0.33883537,  0.2004108 ,  0.73965697,  1.27890314,  1.81814932,\n",
              "         2.35739549,  2.89664166,  3.43588783,  3.97513401,  4.51438018,\n",
              "         5.05362635]),\n",
              " <BarContainer object of 20 artists>)"
            ]
          },
          "metadata": {},
          "execution_count": 1
        },
        {
          "output_type": "display_data",
          "data": {
            "text/plain": [
              "<Figure size 432x288 with 1 Axes>"
            ],
            "image/png": "[encoded data removed]"
          },
          "metadata": {
            "needs_background": "light"
          }
        }
      ]
    },
    {
      "cell_type": "markdown",
      "source": [
        "Q10. Write a Python program to calculate the two-sample t-test for independent samples, given two\n",
        "random samples of equal size and a null hypothesis that the population means are equal.\n"
      ],
      "metadata": {
        "id": "o3T_m0bTwoK-"
      }
    },
    {
      "cell_type": "code",
      "source": [
        "import numpy as np\n",
        "\n",
        "group1 = np.array([14, 15, 15, 16, 13, 8, 14, 17, 16, 14, 19, 20, 21, 15, 15, 16, 16, 13, 14, 12])\n",
        "group2 = np.array([15, 17, 14, 17, 14, 8, 12, 19, 19, 14, 17, 22, 24, 16, 13, 16, 13, 18, 15, 13])\n",
        "#find variance for each group\n",
        "print(np.var(group1), np.var(group2))"
      ],
      "metadata": {
        "colab": {
          "base_uri": "https://localhost:8080/"
        },
        "id": "-HdAC0IgDJ6z",
        "outputId": "b105238a-07db-4127-dd01-cf8a75c6826b"
      },
      "execution_count": null,
      "outputs": [
        {
          "output_type": "stream",
          "name": "stdout",
          "text": [
            "7.727500000000001 12.260000000000002\n"
          ]
        }
      ]
    },
    {
      "cell_type": "code",
      "source": [
        "import scipy.stats as stats\n",
        "\n",
        "#perform two sample t-test with equal variances\n",
        "stats.ttest_ind(a=group1, b=group2, equal_var=True)\n",
        "\n"
      ],
      "metadata": {
        "colab": {
          "base_uri": "https://localhost:8080/"
        },
        "id": "KwaAifX-yFW4",
        "outputId": "b71d9eb7-b09b-49a5-f789-5c3e842d8b63"
      },
      "execution_count": null,
      "outputs": [
        {
          "output_type": "execute_result",
          "data": {
            "text/plain": [
              "Ttest_indResult(statistic=-0.6337397070250238, pvalue=0.5300471010405257)"
            ]
          },
          "metadata": {},
          "execution_count": 7
        }
      ]
    },
    {
      "cell_type": "code",
      "source": [
        "alpha = 0.05\n",
        "if 0.53004 < alpha:\n",
        "    print(\"Reject the null hypothesis\")\n",
        "else:\n",
        "    print(\"Fail to reject the null hypothesis\")"
      ],
      "metadata": {
        "colab": {
          "base_uri": "https://localhost:8080/"
        },
        "id": "WvOMrGhwyNtg",
        "outputId": "f43f2749-fa29-47f6-ee44-569292486c15"
      },
      "execution_count": null,
      "outputs": [
        {
          "output_type": "stream",
          "name": "stdout",
          "text": [
            "Fail to reject the null hypothesis\n"
          ]
        }
      ]
    },
    {
      "cell_type": "markdown",
      "source": [
        "Q11: What is Student’s t distribution? When to use the t-Distribution.\n",
        "\n",
        "The t-distribution, also known as the Student’s t-distribution, is a type of probability distribution that is similar to the normal distribution with its bell shape but has heavier tails. It is used for estimating population parameters for small sample sizes or unknown variances. T-distributions have a greater chance for extreme values than normal distributions, and as a result have fatter tails.\n",
        "\n",
        "You must use the t-distribution table when working problems when the population standard deviation (σ) is not known and the sample size is small (n<30)\n"
      ],
      "metadata": {
        "id": "RU7gUD43zVuC"
      }
    },
    {
      "cell_type": "markdown",
      "source": [
        "Q12: What is t-statistic? State the formula for t-statistic.\n",
        "\n",
        "e need to know about the t-test. A t-test is a statistical test that is usually used to compare the measured means of two groups that we have taken. A test acts as one of the hypothesis testing tools, which allows testing of our assumption to a population.\n",
        "Usually, a t-test depends on the t-statistic, the t-distribution (which is similar to normal distribution), and the degrees of freedom to find the statistical significance.\n",
        "And the term statistic is a quantity that can be obtained finally from a sample of a population. Example for a statistic: In a school, We are taking a sample of 100\n",
        " students out of 1000\n",
        " students. And then we are looking at the average height of our sample students. The resulting average is the statistic of our assumed sample.\n",
        "A t-statistic is commonly used in a t-test to accept or reject the null hypothesis.\n",
        "Formula used:\n",
        "![geogebra-export--7-9218705377612374794.png](data:image/png;base64,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)\n",
        "\n",
        "\n",
        "Where,\n",
        "x¯  =  Denotes the mean of the sample,\n",
        "\n",
        "μ =Denotes the mean of the population,\n",
        "\n",
        "\n",
        "s=denotes the standard deviation of the sample,\n",
        "\n",
        "n=is the sample size, and\n",
        "\n",
        "t=is t-statistic"
      ],
      "metadata": {
        "id": "Rv4sKTWQ0D_W"
      }
    },
    {
      "cell_type": "markdown",
      "source": [
        "Q13. A coffee shop owner wants to estimate the average daily revenue for their shop. They take a random\n",
        "sample of 50 days and find the sample mean revenue to be $500 with a standard deviation of $50.\n",
        "Estimate the population mean revenue with a 95% confidence interval.\n",
        "\n",
        "![cigeneralized.jpg](data:image/jpeg;base64,/9j/4AAQSkZJRgABAAEAYABgAAD//gAfTEVBRCBUZWNobm9sb2dpZXMgSW5jLiBWMS4wMQD/2wCEAAUFBQgFCAwHBwwMCQkJDA0MDAwMDQ0NDQ0NDQ0NDQ0NDQ0NDQ0NDQ0NDQ0NDQ0NDQ0NDQ0NDQ0NDQ0NDQ0NDQ0BBQgICgcKDAcHDA0MCgwNDQ0NDQ0NDQ0NDQ0NDQ0NDQ0NDQ0NDQ0NDQ0NDQ0NDQ0NDQ0NDQ0NDQ0NDQ0NDQ0NDf/EAaIAAAEFAQEBAQEBAAAAAAAAAAABAgMEBQYHCAkKCwEAAwEBAQEBAQEBAQAAAAAAAAECAwQFBgcICQoLEAACAQMDAgQDBQUEBAAAAX0BAgMABBEFEiExQQYTUWEHInEUMoGRoQgjQrHBFVLR8CQzYnKCCQoWFxgZGiUmJygpKjQ1Njc4OTpDREVGR0hJSlNUVVZXWFlaY2RlZmdoaWpzdHV2d3h5eoOEhYaHiImKkpOUlZaXmJmaoqOkpaanqKmqsrO0tba3uLm6wsPExcbHyMnK0tPU1dbX2Nna4eLj5OXm5+jp6vHy8/T19vf4+foRAAIBAgQEAwQHBQQEAAECdwABAgMRBAUhMQYSQVEHYXETIjKBCBRCkaGxwQkjM1LwFWJy0QoWJDThJfEXGBkaJicoKSo1Njc4OTpDREVGR0hJSlNUVVZXWFlaY2RlZmdoaWpzdHV2d3h5eoKDhIWGh4iJipKTlJWWl5iZmqKjpKWmp6ipqrKztLW2t7i5usLDxMXGx8jJytLT1NXW19jZ2uLj5OXm5+jp6vLz9PX29/j5+v/AABEIAHcCCAMBEQACEQEDEQH/2gAMAwEAAhEDEQA/APsugAoAKACgAoAKACgAoAKACgAoAKACgAoAKACgAoAKACgAoAKACgAoAKACgAoAKACgAoAKACgAoAKACgAoAKACgAoAKACgAoAKACgAoAKACgAoAKACgAoAKACgAoAKACgAoAKACgAoAKACgAoAKACgAoAKACgAoAKACgAoAKACgAoAKACgAoAKACgAoAKACgAoAKACgAoAKACgAoAKACgAoAKACgAoAKACgAoAKACgAoAKACgAoAKACgAoAKACgAoAKACgAoAKACgAoAKACgAoAKACgAoAKACgAoAKACgAoAKACgAoAKACgAoAKACgAoAKACgAoAKACgAoAKACgAoAKACgAoAKACgAoAKACgAoAKACgDzLxz8XPDvw/PkanO0l2V3ra26+ZNjsW5WOLP8AD5rpuAJXdg4APDr79rW0iYCy0maZOcma6SAj0wqQXAOR1+YY9+tAHrXwk+LL/FJbyQ2B06OxMKh/tBnErS+aSoP2eEKYxGpYAscSLkLxkA9koAKACgAoAKACgAoAKACgAoAKACgAoAKACgAoAKACgAoAKACgAoAKACgAoAKAPMvHPxc8O/D8+Rqc7SXZXetrbr5k2OxblY4s/wAPmum4Ald2DgA8Ovv2tbSJgLLSZpk5yZrpICPTCpBcA5HX5hj360AetfCT4sv8UlvJDYHTo7EwqH+0GcStL5pKg/Z4QpjEalgCxxIuQvGQD2SgAoAKACgAoAKACgAoAKACgAoAKACgAoAKACgAoAKACgAoAKACgAoAKACgAoAKACgAoAKACgAoA5rxnrp8MaJfaugDvZWssqKeAXVDsB9i+0H2oA+dfgP8M7bV7X/hNvEif2hqGoyySwC5XcsarIR55RhhpZJFLIxGEjCNFjdmgDU+K2qHw5478L3GnbUubhzZ3Cr8vmWs9xDEsbhSCygyTPGGyiygOFJBoA+m6ACgAoAKACgAoAKACgAoAKACgAoAKACgAoAKACgAoAKACgAoAKACgAoAKACgDmvGeunwxol9q6AO9layyop4BdUOwH2L7QfagD51+A/wzttXtf8AhNvEif2hqGoyySwC5XcsarIR55RhhpZJFLIxGEjCNFjdmgDU+K2qHw5478L3GnbUubhzZ3Cr8vmWs9xDEsbhSCygyTPGGyiygOFJBoA+m6ACgAoAKACgAoAKACgAoAKACgDwrVfH+r+MNUm8O+AxCos22X+rzgSQWxOQVtowSJ51IJXcGjLKVK7CZVAPWvDulXGjWa2t5eTanOCzPcThFdixyQFjVVRF6IoztXA3HGaAPO/iB8R9a8H6hHZaX4fvddhkt1ma4tjOER2klQwny7O4Xcqxq5y4OJF+UDBYA4X/AIXl4q/6EvVfzu//AJV0AdN4O+Kuv+JNWg0y/wDDGoaTbT+ZvvJzceVFshkkXdvsIV/eMixDMq/M4xk4UgHudABQAUAFABQAUAFABQAUAfIfhPxN49+JuuakNF1ZNP0SzupUin+xWk6bDI4gjh3Q5mfygruWmG1WVifnQEA9Lv8Awx400u3lvLvxisNvbo0kkj6HYBURASzE+Z0AFAHjPws8dePPiB4g+xw6qZNJspBLdTvY2MZe2Eh2JsWAmOW6ClQokJiG9wz+X8wB9h6zfz6ZaPdW1tLfyx7cW8DRLI4LANtMzxx5VSXwXBYLtXLECgDyS++J9tYeILeSe8aDSZtLmY2Utvsuf7QjubdUiELRC9+1PFPhbb7rKokRCMvQB6voGqTazZJeXFrPpzyFv9HudnnKoYhC4jdwpdQGKE7kJKnkZIBsUAFAHOeL9AHinRr3Ry/lG9t5IVkIyEZlOxyuRkK2CQCMgYyOtAHjfhDxXrXgLSLXw5q+gard3lmpt4ptOgiuLSVFcrE7TCYeSChTc0qr/E5VeVUATwb4A1vxB4lPjvxkiWlxEpj0/T0cSfZ4wHVDK6kqSqu7AZJaSRpGWLCxqAfRFABQAUAFABQAUAeQfED4j614P1COy0vw/e67DJbrM1xbGcIjtJKhhPl2dwu5VjVzlwcSL8oGCwBwv/C8vFX/AEJeq/nd/wDyroA6bwd8Vdf8SatBpl/4Y1DSbafzN95ObjyotkMki7t9hCv7xkWIZlX5nGMnCkA9zoAKACgCG5uYrOJ7i4dIYYUaSSSRgiIiAs7u7EKqqoLMzEBQCSQBQBW0zVrLWYRdadcQ3kBJUS28qTRkrwwDxsy5B4Izkd6AL9ABQAUAFAHyH4T8TePfibrmpDRdWTT9Es7qVIp/sVpOmwyOII4d0OZn8oK7lphtVlYn50BAPS7/AMMeNNLt5by78YrDb26NJJI+h2AVEQEsxPmdABQB4z8LPHXjz4geIPscOqmTSbKQS3U72NjGXthIdibFgJjlugpUKJCYhvcM/l/MAfXXiDWZdCgW5itLm/TzAsq2oR5IosMWm8pnV5gmAPLhEkzbvkRsUAeVx/E+Gw17UoZ7p762eDT30rT4IUa6kmkW5S5ihjVEnZhJADN9pYC2ZsSGJeKAPZNNuZby1iuLiF7SWWNXeCQozxMwBaNmRmQlTxlTg+3QAF2gAoA5zxfoA8U6Ne6OX8o3tvJCshGQjMp2OVyMhWwSARkDGR1oA8b8IeK9a8BaRa+HNX0DVbu8s1NvFNp0EVxaSorlYnaYTDyQUKbmlVf4nKryqgCeDfAGt+IPEp8d+MkS0uIlMen6ejiT7PGA6oZXUlSVV3YDJLSSNIyxYWNQD6IoAKAOV8W6JqOt2yppGozaPdQsXSWOOKVHO0gJNFKpDx85wCpBwecYoA4Lwl8Rr+HVR4T8ZwxWOssC1tPAT9jvo8nBhLnckmBjyzyxDfLG2IqAPZ6ACgAoAKACgAoA8V+PfjSTwb4Yl+yMUvNRcWcLqSGjEis0soIZWUrErKjKSyyvG2MAkAHU/C7wbF4G8PWumqipcGNZrtl/juZFBlJJALbeI0JA/doowMUAeg0AeQeNPjh4Z8DXo0y9kmuLpSoljtY1k8gMMgyszxoMDBKIzygFT5eCKAPS9E1m08Q2MOp6dIJrW6QSROARlT6ggFWByrKQCrAggEUAea3vxu8N2uuw+GoGnvb2e4W1LW0QeGKZmVQskjOmcM2GMKyhCrBypUigD16gAoAKACgAoAKACgAoAjlj81GjyV3qVyuMjIxkZBGR1GQRnsaAOZ8F+DrDwHpkejaWH8iJncvKVaWR3bLPIyqiluijCKAqqAOKAPlf47+PLnxpqcXw/wDDX+kbp1juvL5EtwrArDuGQI7YgvO3RXX5iohbIB9MfDrwLa/D3R4tKttry/fuZgMGacgB35ydoxtjUk7UAHXNAHS65BqFxZyRaRNFa3jBRHNNEZkT5huYxh49zbN2zLbQ+0sGXIIB4tJ4CI8W24Dag0yaPcO+tENvF49zAsf70obXcsaT7bLZ5SxSMfKIbNAHs+hQajbWaRavNDd3alg00ERgR13HY3lmSTa5TaXAbbvJCjaASAa9ABQAUAFABQAUAFABQAUAFABQB5B40+OHhnwNejTL2Sa4ulKiWO1jWTyAwyDKzPGgwMEojPKAVPl4IoA9L0TWbTxDYw6np0gmtbpBJE4BGVPqCAVYHKspAKsCCARQB5re/G7w3a67D4agae9vZ7hbUtbRB4YpmZVCySM6ZwzYYwrKEKsHKlSKAPXqACgAoA4z4j/8irrP/YKv/wD0kloA81/Zq/5EyH/r6uf/AEOgD32gAoAKAI5Y/NRo8ld6lcrjIyMZGQRkdRkEZ7GgDmfBfg6w8B6ZHo2lh/IiZ3LylWlkd2yzyMqopboowigKqgDigD5X+O/jy58aanF8P/DX+kbp1juvL5EtwrArDuGQI7YgvO3RXX5iohbIB9MfDrwLa/D3R4tKttry/fuZgMGacgB35ydoxtjUk7UAHXNAG14jsdT1G3W30m7TTneRRNOYRNIIMNvEAZhGkxO3ZJIkiLyTGTigDyHSvAskXiXWH0xr3TZ4bXTlttTkSSVbiYrcSXPmmceVfI26BZwGDR+WqRvCyggA9y05bpLWJb9o5LoRqJnhVkiaTA3mNGZ2VM52hmJx1x0oAuUAFABQAUAFABQAUAFAHiPx88KLrvhuXU7ceXqOif6bbTqSkkaxkNOFdRuXMa+YoGP3sUZyuMgA7L4ZeLj438OWesONs8sZScAYAniYxSkAFsK7KZEGSQjrnByAAd5QAUAFABQAUAfJXx6uV1Dxh4X0ZjuX7TDI8eeouLyCFSV6ciF1BP8AtDjnIB9a0ABGeKAPMtb+HOmjwrf+HLGPCXMVxKHlLTSNdOWmSeSSQmSSQTbWDO5bCgZwBQB8x/CPxZq+t+Gv+EE0ENHfzXM4e9AcR6fp0gjeScuCCbh5XmS3VCpz8xKMFZgD6f8ADnwj8M+GI7P7JZRm501t8V2wxcvKVZWkllTaZM72IjfMMZx5cabE2gHpVABQB5jr/wAZPCXhe+l0rVL/AOz3lsVEsf2a7faXRZF+eK3dDlHU/KxxnBwQQADH/wCGg/An/QT/APJO/wD/AJFoAP8AhoPwJ/0E/wDyTv8A/wCRaAD/AIaD8Cf9BP8A8k7/AP8AkWgD1TR9YtNfs4dS09/OtblBJFJtdNynodsiq6/RlB9qANKgAoA8M+OXxRX4f6X9ksnxq+oIy2+MZgj+69y2cgbSdsQI+eTJAKxvgA5n9nn4Xt4csz4l1ZGGp6guYkkHzwW7HO45ywluOHfOGVNqkKxkFAH0zQAUAFABQAUAeM/8NB+BP+gn/wCSd/8A/ItAB/w0H4E/6Cf/AJJ3/wD8i0AH/DQfgT/oJ/8Aknf/APyLQAf8NB+BP+gn/wCSd/8A/ItAB/w0H4E/6Cf/AJJ3/wD8i0AH/DQfgT/oJ/8Aknf/APyLQB6B4U8Y6T43tXv9Dn+120crQM/lzRYlVEcrtmjjY4WRDkKV5wDkEAA6agAoACM8UAeZa38OdNHhW/8ADljHhLmK4lDylppGunLTJPJJITJJIJtrBncthQM4AoA+Y/hH4s1fW/DX/CCaCGjv5rmcPegOI9P06QRvJOXBBNw8rzJbqhU5+YlGCswB9P8Ahz4R+GfDEdn9ksozc6a2+K7YYuXlKsrSSyptMmd7ERvmGM48uNNibQD0qgAoA8l1D46eC9LuZrK61Hy7i2leGVPsl622SNijruW2ZW2spGVJU4yCRzQBxvjX45eC9X0DU7Cz1HzLm70+8ghT7Lervllt5EjXc9sqruZgMswUZySBk0AcP8D/AIt+FvB/hmPTNYvfs10k87mP7PdSYV3yp3RQSJyOwbI7gUAevf8ADQfgT/oJ/wDknf8A/wAi0Aew286XUSTxHdHKquhwRlWAZTggEZBBwQCO4oAloAKAPDPjl8UV+H+l/ZLJ8avqCMtvjGYI/uvctnIG0nbECPnkyQCsb4AOZ/Z5+F7eHLM+JdWRhqeoLmJJB88FuxzuOcsJbjh3zhlTapCsZBQB9M0AFABQAUAFAHjP/DQfgT/oJ/8Aknf/APyLQAf8NB+BP+gn/wCSd/8A/ItAB/w0H4E/6Cf/AJJ3/wD8i0AH/DQfgT/oJ/8Aknf/APyLQAf8NB+BP+gn/wCSd/8A/ItAB/w0H4E/6Cf/AJJ3/wD8i0AegeFPGOk+N7V7/Q5/tdtHK0DP5c0WJVRHK7Zo42OFkQ5ClecA5BAANy+tlvbeW2cblmjeMj1DqVI/EGgD5e/ZQ1LztF1CwLZNteLKFzkqs8SqOOwZoHIx1Ibj1APqugAoAKACgAoA+PvjZaG2+I3hnUGP7uSSwjxjoYNSMjHJ45E68dsc9RQB9g0AFAHD+OvGieD7RPJia81K9cQafZJ9+4uG6An+CJPvyyMQqqMZ3FQQD5t+BUM3g3xxrHhi9EQlmgEpMI2RCSJklVIk7J5dy5Xn5VQDGDwAfZVABQAUAcxf+CfD+qztd32mafdXEmN801nbyyPgBRud42ZsKAoyTgAAcAUAU/8AhXHhX/oDaV/4AWn/AMaoAP8AhXHhX/oDaV/4AWn/AMaoAP8AhXHhX/oDaV/4AWn/AMaoA6qzsrfToUtbOKO3giG2OKJFjjRf7qIgCqPYACgCzQBzfi7xTZeC9Ln1jUTiG2TIUY3yOeEiTJALyNhVyQBnJIUEgA+Ovhb4VvvjH4lm8Z+IlL6dbzbkRj8jyoQ0FrGMAGC3XaZem87VcOZZSAD7b1PUbfRrSa/u2EVvaxPLIx6KkalmP5DgdzgCgDO8LeIofFml2+s2sc0EN4hkjS4CLKE3MqswjklQBwu9cOfkZc4bKgA36ACgAoAKAOM/4Vx4V/6A2lf+AFp/8aoAP+FceFf+gNpX/gBaf/GqAD/hXHhX/oDaV/4AWn/xqgA/4Vx4V/6A2lf+AFp/8aoAP+FceFf+gNpX/gBaf/GqAD/hXHhX/oDaV/4AWn/xqgDoNK0TT9BiNvpdtb2MLOZGjtoY4ULkKpcpGqqWKqqliMkKozgCgDToAKACgDh/HXjRPB9onkxNealeuINPsk+/cXDdAT/BEn35ZGIVVGM7ioIB82/AqGbwb441jwxeiISzQCUmEbIhJEySqkSdk8u5crz8qoBjB4APsqgAoAKAOSuPAHhq7leefSdMlllZnkkextmd3Ylmd2aIszMxJZiSSSSTmgDjfH3gHw3Z+G9WuLfSdMhmh0y+kjkjsbZHR0tpWR0dYgysrAMrKQVIBBBFAHn37Pvg7Qta8JRXWo6dYXk5uLhTLcWkE0hCvhQXkjZsAcAZwO1AHtv/AArjwr/0BtK/8ALT/wCNUAdhHGsKiOMBEQBVVQAFAGAABwABwAOAKAH0Ac34u8U2XgvS59Y1E4htkyFGN8jnhIkyQC8jYVckAZySFBIAPjr4W+Fb74x+JZvGfiJS+nW825EY/I8qENBaxjABgt12mXpvO1XDmWUgA+29T1G30a0mv7thFb2sTyyMeipGpZj+Q4Hc4AoAzvC3iKHxZpdvrNrHNBDeIZI0uAiyhNzKrMI5JUAcLvXDn5GXOGyoAN+gAoAKACgDjP8AhXHhX/oDaV/4AWn/AMaoAP8AhXHhX/oDaV/4AWn/AMaoAP8AhXHhX/oDaV/4AWn/AMaoAP8AhXHhX/oDaV/4AWn/AMaoAP8AhXHhX/oDaV/4AWn/AMaoAP8AhXHhX/oDaV/4AWn/AMaoA6DStE0/QYjb6XbW9jCzmRo7aGOFC5CqXKRqqliqqpYjJCqM4AoA0JHESl26KCT9AMmgD5E/ZKsWjtNXvSfkmmtIQMHgwpO7HPQ5E68dRjnqKAPr6gAoAKACgAoA+Yf2m9GnXT9P8T2efO0W7G48bVSZoysjA4J2TwwooU5/ekkEfMoB9FaHq8GvafbanandDeQxzoenyyKGAIPIIzgg8ggg8igDh/i1a+I73QjB4QD/ANovcQndHcJbukSN5jsryMiNllRHjZgHjd87h8jAGH8O/h9qlldnxN4zuhqWvPGYYtu3ybSEnlYlRI4/Mfq7oigAlVzl3cA4r4k/DTxHH4ttvG/g1Lee6VUE0MrLH+8VDAXbe8avG9uwRwrrIAhK5JGAD1vwToOtW0s+s+J54pdTvVSPyLQyCztYIslIoldiXdmZ5JJXy25zGrFFDMAehUAFABQAUAFABQAUAFAHyH8cfB3jj4gaqltYaez6LYEeTtvLSPz3dVMkzJJOpVhzFFvjJRQzD/WsKAO88O6v4v8AC2nwaTpvg0Q21qgRFGuWGSerOx8v5ndiXdjyzMSetAHF/EyL4mfECyGlW+hrpdk5DTqupWM0k23lUaTzoQsYPzFAmWIGWwCCAfTPhrR18P6VZ6UmStlbQ24JwSfKjVCxIAGWIJOABk8ACgDboAKACgAoAKACgDzv4l31zFp0GmWEstteaze21jFLAxSWJJH8y5ljcY2NHaxTsr54IGAWIUgHO/8ACm/+pj8Vf+Db/wC56AD/AIU3/wBTH4q/8G3/ANz0AH/Cm/8AqY/FX/g2/wDuegDr9M0ZPAmj3Ql1C+vkjE1011qlyLiWICFQVEpSMLCnl7wuOGZ2z82AAfP/AOy22r3yanqOoS3E9pIYIoXnleRWlTzWl2B2PKq8e9sDJYDJIYAA+t6APM/i1a+I73QjB4QD/wBovcQndHcJbukSN5jsryMiNllRHjZgHjd87h8jAGH8O/h9qlldnxN4zuhqWvPGYYtu3ybSEnlYlRI4/Mfq7oigAlVzl3cA4r4k/DTxHH4ttvG/g1Lee6VUE0MrLH+8VDAXbe8avG9uwRwrrIAhK5JGAD1vwToOtW0s+s+J54pdTvVSPyLQyCztYIslIoldiXdmZ5JJXy25zGrFFDMAehUAFABQBxnxH/5FXWf+wVf/APpJLQB5r+zV/wAiZD/19XP/AKHQB77QAUAFAHyH8cfB3jj4gaqltYaez6LYEeTtvLSPz3dVMkzJJOpVhzFFvjJRQzD/AFrCgDvPDur+L/C2nwaTpvg0Q21qgRFGuWGSerOx8v5ndiXdjyzMSetAHF/EyL4mfECyGlW+hrpdk5DTqupWM0k23lUaTzoQsYPzFAmWIGWwCCAfTPhrR18P6VZ6UmStlbQ24JwSfKjVCxIAGWIJOABk8ACgDboAKACgAoAKACgDzv4l31zFp0GmWEstteaze21jFLAxSWJJH8y5ljcY2NHaxTsr54IGAWIUgHO/8Kb/AOpj8Vf+Db/7noAP+FN/9TH4q/8ABt/9z0AH/Cm/+pj8Vf8Ag2/+56APQPCnhn/hFbV7P7bqGqb5Wl87Urj7TMu5ETy1k2JiIbNypjh3c5+bAAMj4oeI18KeGNQ1EtskW3eOE4J/fzDyocAcnEjqT6KCTgAmgDh/2dfDTeHvCMM0wKy6pK96wJBwjhY4cbf4XhiSUAkkGQ5x91QD3WgAoAKACgAoAzdY0m216yn0y+TzLa7ieKVckZRwQcEcqwzlWGCrAEHIoA+cvB+sXPwOuT4W8TFv7Bmnc6Xqm390nmsXNvcFRiIli0jFuEYyPnyfmQA+mbe5iu41mt3SWJxlXjYMjA9CrKSCD6g4oAmoAKACgAoAKACgAoAKACgAoAKACgAoAKACgAoAKACgAoAKACgDzK7J1rxrbW3WHQtPku3zjAur9zbwY6/MlvDc9cYEoxuydoB1HiXxho/g+EXOtXcVlG2docku+Bk+XEgaSQjuERu3qKAJYPFmkXOmDXI7yD+zWUuLoyKsWASpyzY2sGBUo2GDgqRu4oAzvC/xB0Dxm8sWh3kd3JbE+YiiRHABA3hZURnjyQBIgaMk4DE0AYHxZ8M6z4y0hdD0WSG2S7mQXk0rOpW2U7mWNUGXZmC7lJCsishI35AB2nhvw9Z+FNNg0jTkEdvaIEUd2PV5GPd5HLO57sxNAG5QAUAFABQAUAFABQAUAFABQAUAFABQAUAFABQAUAFABQAUAFABQAUAeZXZOteNba26w6Fp8l2+cYF1fubeDHX5kt4bnrjAlGN2TtAOo8S+MNH8Hwi51q7iso2ztDkl3wMny4kDSSEdwiN29RQBLB4s0i50wa5HeQf2aylxdGRViwCVOWbG1gwKlGwwcFSN3FAGd4X+IOgeM3li0O8ju5LYnzEUSI4AIG8LKiM8eSAJEDRknAYmgDo9S1S00eBru/mitYIxlpJXVEUe7MQPoOpPA5oA+Z9SiuP2gtUt44Elg8G6bM0rXDq0TahMoKYhDBZFUAvHuGCivKWxLtRQD6jiiSBFjjAREAVVAwAoGAAOwAGAKAH0AFABQAUAFABQBWvLKDUIXtbuOOeCVSrxSoro6ngqyMCrAjqCCDQBU0bRLHw9bCy0uCO0tlZnEUS7UDOxZiF6DJJOBwOgAFAGpQAUAFABQAUAFABQAUAFABQAUAFABQAUAFABQAUAFABQB4Z8SfidrfgmFNRj0oppsd+ltcTzyI8rwhjulghgdljjlVWSGW4mRvMaMPANwyAe221xHeRJcQsHilRXRhyGRwGVge4III9qAPNPhljUxqfiTgjWtSmaFl5DWlmFsbYhv4ldYGlUj5cSYXI+YgGl44hsNA0rV/EHkI12dOlR5G+86xxSCKLcd2xCzkFVABLFiCeaAPL/ANnvwy8nhqx1HVAJBE9y+nwsCFhWSVw9wUJw1xIfMWOUjMdsQsW0TTGQAxPCMf8AaHxi1q6tgRDbWmyRlHyeYIrKBkYgY3NIsjbepZGPO1qAPqqgAoAKACgAoAKACgAoAKACgAoAKACgAoAKACgAoAKACgAoAKACgAoA8M+JPxO1vwTCmox6UU02O/S2uJ55EeV4Qx3SwQwOyxxyqrJDLcTI3mNGHgG4ZAPbba4jvIkuIWDxSorow5DI4DKwPcEEEe1AHmnwyxqY1PxJwRrWpTNCy8hrSzC2NsQ38SusDSqR8uJMLkfMQDS8cQ2GgaVq/iDyEa7OnSo8jfedY4pBFFuO7YhZyCqgAlixBPNAHl/7Pfhl5PDVjqOqASCJ7l9PhYELCskrh7goThriQ+YscpGY7YhYtommMgBieEY/7Q+MWtXVsCIba02SMo+TzBFZQMjEDG5pFkbb1LIx52tQB9H634a0zxIscerWsN6kD+ZGk6CRFfaV3bGyp+UkYYEe2cUAbMcaxKEQBVUYCgAAAdAAOAPYUAOoAKACgAoAKACgAoAKACgAoAKACgAoAKACgAoAKACgAoAKACgAoAKACgAoAKACgAoA57xZ4ct/Fuk3WjXY/dXkTR5wCUf70ci5BG6OQLIpwcMo4oA+bfAvj+60HwVq+i32RrPhnfYxR7Wdnadzb2QRVUFwtw3kgLk+WsbMQHBoA+lvC+ip4c0mz0mPlbK2igycZJjQKzHAAyzAscADJNAHi/7TOsLp3hBrTktqN1BAMdhGxuSTyOMwKOM8sPqAD2Twpo//AAjujWWljJNlaQQnpktHGqsewyzAnsMmgD5X+A3iXT9JbXNX1aXZrGoX2P7PBBvJGUySlIbY4md2mndHO3anl5coA5oA+xon8xFcgpuAO1sBlyM4YAkZHQ4JGe9AD6ACgAoAKACgAoAKACgAoAKACgAoAKACgAoAKACgAoAKACgAoAKAOe8WeHLfxbpN1o12P3V5E0ecAlH+9HIuQRujkCyKcHDKOKAPm3wL4/utB8Favot9kaz4Z32MUe1nZ2nc29kEVVBcLcN5IC5PlrGzEBwaAPpbwvoqeHNJs9Jj5WytooMnGSY0CsxwAMswLHAAyTQB4v8AtM6wuneEGtOS2o3UEAx2EbG5JPI4zAo4zyw+oAPZPCmj/wDCO6NZaWMk2VpBCemS0caqx7DLMCewyaAPlf4DeJdP0ltc1fVpdmsahfY/s8EG8kZTJKUhtjiZ3aad0c7dqeXlygDmgD7GifzEVyCm4A7WwGXIzhgCRkdDgkZ70APoAKACgAoAKACgAoAKACgAoAKACgAoAKACgAoAKACgAoAKACgAoAKACgAoAKACgAoAKACgD558VfCm61Hx5p/iGzU/2ZMUk1MJIsaiay/e2zSJ5itOJZEgXasbhGiLyEBsgA+hqAMzU9E0/WRGNRtre8ED+ZELiGOby3/vp5itsb/aXB96ANOgDMt9E0+0upL+C2t4ru4x51wkMazS4GB5kqqHfA4G5jgcUAadABQAUAFABQAUAFABQAUAFABQAUAFABQAUAFABQAUAFABQAUAFABQAUAfPPir4U3Wo+PNP8Q2an+zJikmphJFjUTWX722aRPMVpxLIkC7VjcI0ReQgNkAH0NQBmanomn6yIxqNtb3ggfzIhcQxzeW/wDfTzFbY3+0uD70AadAGZb6Jp9pdSX8FtbxXdxjzrhIY1mlwMDzJVUO+BwNzHA4oA06ACgAoAKACgAoAKACgAoAKACgAoAKACgAoAKACgAoAKACgAoAKACgAoAKACgAoAKACgAoAKACgAoAKACgAoAKACgAoAKACgAoAKACgAoAKACgAoAKACgAoAKACgAoAKACgAoAKACgAoAKACgAoAKACgAoAKACgAoAKACgAoAKACgAoAKACgAoAKACgAoAKACgAoAKACgAoAKACgAoAKACgAoAKACgAoAKACgAoAKACgAoAKACgAoAKACgAoAKACgAoAKACgAoAKACgAoAKACgAoAKACgAoAKACgAoAKACgAoAKACgAoAKACgAoA//2Q==)\n",
        "\n",
        "(500 – 1.96*50/sqrt(50), 500 + 1.96*50/sqrt(50))\n",
        "\n",
        "Therefore, the 95% confidence interval for the population mean revenue is:\n",
        "\n",
        "500 ± 13.85, or (486.15, 513.85)\n",
        "\n",
        "We can be 95% confident that the true population mean revenue falls within this interval.\n"
      ],
      "metadata": {
        "id": "xoWMyRuB1jxa"
      }
    },
    {
      "cell_type": "markdown",
      "source": [
        "Q14. A researcher hypothesizes that a new drug will decrease blood pressure by 10 mmHg. They conduct a\n",
        "clinical trial with 100 patients and find that the sample mean decrease in blood pressure is 8 mmHg with a\n",
        "standard deviation of 3 mmHg. Test the hypothesis with a significance level of 0.05.\n",
        "\n",
        "n= 100 ,\n",
        "\n",
        "μ=10,\n",
        "\n",
        "xbar = 8 mmhg,\n",
        "\n",
        "standard deviation (sigma)= 3 mmhg,\n",
        "\n",
        "significance value =0.05\n",
        " \n",
        " null hypothesis :μ=10\n",
        "\n",
        " alternate hypothesis ::μ=!10 (two tail test)\n",
        "\n",
        " from utilizing z-table i obtained values for z-score:\n",
        "\n",
        "z-score = ± 1.96\n",
        "\n",
        "\n",
        "![download (2).png](data:image/png;base64,iVBORw0KGgoAAAANSUhEUgAAANEAAACICAIAAAD22ZmHAAALIklEQVR4nO3dfVAU5x0H8N8y2+gEwWkqnSzaSiMRBpXGGE1t6OTI4ZGWDlaas6JCHFrTeFatiZLgS88mWuMLMWjAl6jj+IaCYMdpDHceghNMGFGrxjvAKIMCd5nQSbwXTAz30j/ubuG4k7fbfXb37vf5i2Fvbp+7/d6zzz7PPs9SLpcLECIoQugCoLCDmUOkYeYQaZg5RBpmDpGGmUOkYeYQaZg5RBpmDpGGmUOkYeYQaZg5RBpmDpGGmUOkYeYQaZg5RBpmDpGGmUOkYeYQaZg5RBpmDpGGmUOkYeYQaZg5RBpmDpGGmUOk0UIXQJIoiuLqrcJw7Q6s5xBpVBj+zpCwsJ5DpGHmEGmYOUQaZg6RhplDpGHmEGmYOUQaZi4ozo7Sg3+PpSiKotJTTzR1+my02ww7tmSPoiiKil1TYnbyUoCmpekURVHUj/LPm3z3bjmXFktRFBUb+1GTnY99D5sLDZv1+NaU3oOHGcr6b73bbB2a38nYLYoDNQ4+SmBu3jMBAACmyTSdg94kMKznhsvZULl08Zpf7NdZHI42dR4DAB+frrhqAgCw2wxrChadrfW+lv5lXAIv33Rn+5fuuvWppJ+PCryJUSiff4KPfQ8bZm64uiw/dLy69l/Z8qiIiHE5C+ZHA4D9qO602ensKNn015LDJoWstNHi0O1PHRHzdGwMH2VwtrZeewAAoHhZOXGkzyazRnPcAgAwJT4pSmRHWeiKNjR0m7VyBgBAqdLrK3IjgclT6e/zvVdHo0oBAAD06mrjoDcJDjPHDfYYA0D/gfN55WAFbJOxQWeYfY3dPpvE25hzYXuOKxETs/4kpwEAmDyV7v3ipNH87/PuZU2DCQAgZc5v4nxvhOynnSc8vGeTIxFxcc88DtUWmPKCMrG/wEUkFmtcxRzskW3MMfGTmMd8NrGNOf92nghgPceJLqN2+buFFgAAbVX5re9J7NPa3GywAwC9MG3O6N7H0W65VHnEBMDj9XJQxFci6ekyaucuSP+vPitTBgDQYrhn43+nbLCYvhfFzguntlwwAQBMS0lLZvgvylBh5oLkDtzZurwPr+xPn8EAgLH57v/47/d/8FVLqwkAIDZh/JheLaSujlMF66rd+xdjYw4wc8NiubU3nko/WGtvq98847n0s7WyDUXv/P5nP05Pnx8NYDKd+qzOPdDlbCidv36nwcx9EZwNdeV3/f7bZdTOnbcgcfE/khjo1c5z6mv36jv9Xi0YoS+cpeh29ZvRPd9gT88I23kxObms1eEyNpYk0ynq4vaH3BfhfnG+56zJxGyu/9rlcjluXiqRyUAh135pcHeUMEvVbQ9dFl35Csbztzhg5obOoTsgZ89mCrm2vadvrCcKfeLIdRECd/JNTtp942uXwxt9L1mB2sB7B/XgYeaGzhssOqewqG+kbB11i3IZvo+0t8tXsbn0qNx9JwGds1V9scOTfsd13ZvuQihkOzU1Fl7uLxg2nGsoRXfOr3pWXmihV1ff2/qSCK9M+4fXEBLk6fL16yWRCMyc9DhN+mumgV8mWpg5ybHb2pq/ELoQwcDMSQ47tC9VnGbOuOFVatB4myIQ6p5MVKTIAPxGICSDwzLbLfq6c4Pf8W+fSxHb/avSEBmr+LhGyp0NHB51dgQQQJa//POO7j7dMj2dRkDnHKr64A/JQ9751YqFIwdfkw4gfnu5uKZDhQsO6zl20sdS9ZF3N4zzvaML2i+/l5FWaAIAkG0o2pwtx0ouXHF34O1Xr/7bApChPL3RL3Cmpt0ZmWvbAdyJLFCNfSzQW6DwwNmIRoc6F4DOq7jed6DF1n5yunc8msTMFCRyfI+39p5a7DscLimCVQl8EuzL5PPNu6365Z4Bb5icXNYq0cC5MHPcfpn8vbV3djt477GRMGHDwROhvky++hSdHTvXZm866L5hf1Vh2WtTpDgazQrV2AmCn3uZbGf3L567+EQXANB5FVc+yhp6VxwKXdxXnY5LFbmR7jencw7puLxh8MqpBSM4++QTtpWJq4HZbb25Z/v2dftWBLwjTowz8oeH63Or80Z1/uw/Hu4CwL7fwesyfr7+g/xd2+r6GRgR6SSu4eA0wcbGEu+ESl4mfYRiPeeeI+Mmy1ftr6qxOByNKgU7uSbkcJi5Aft+3dOllKrG77jbqcT1tEOYmFWam2wzxDPlIjS/K64yN2Dfb7e1PlsGAExB8X1xTQkRDvsr9Q2ci51a5r/gUijgJHO9+34fMdjALoPK1yqnEsTOWfT/HbKbQvHr4iBzA/X9dlv17783z3MlO2JLw/fB7zIkeOeoBqrM2HmyoZi5oK9bbaWFnr5fALhpWJL80yX9vHrazGfiuLsKkDR2WoP/6nE9s2zEubBSkIL9QM72Ol1/V/h9hNAFf7B63eLaFxtHkS6sFKRg6znOVvALO48/+VQcA3cCxI5dzEuhUqeNIV4w3oVcxS0ZdPSMrJwAlRi7mFeG8p0sWUgeH6EblOHM08FE53x43L12k6Wm6p/uZbxysy8aQ6+XxA3XKxGW3aY/8J+KnW+oDez0JdXCl5RzZ8lCd8wQM4dIC9kfExItzBwiDTOHSMPMIdIwc4g0zBwiDTOHSMPMIdKkuGaeZFAURWxfEurbx3oOkYZjX4g0rOcQaZg5RBpmTiTslnNpsUGsjix0+YcAMycSkn/qw+Bh5sTBrKkqGh/MKjhCf4AhwMyJgtOkv25PDJNJcZg5MbDcvqDRKl5WThwpdElIwMyJgLPh05PtzCu/TgmPoxEen1LcnLcqy2oy/WfzhyrMnODstrbm8/SESUy4PKcFMye4u5c1DbBy1pzR4XIswuVzipdZU1U0vu+6JNZa7a7UVIqiqPTUE02dff9JUalvrag3SvUReRzNzUbD023Wymn67d7rzznai95O6d20U6oav/P7p4RXj8R6TlgPvmpp9Tmx2kq3K/MPTD/hXVUYAFpu6A4VZKw/M+tMjcXhcrU1bBoHAGC6rTf9IFjBgxAml0qCstZqKkuO/cUR9cWx4kTfHjhnw6cn22OyY3se2DIqc/5qXcbslEkR4H2K95W6ZQ+/2V1X+7r7uS7R0T+R+BJ+Qle0Ic1So9kpk8G0mTNHAAC9utrou93RqFI8cqHqbrNW7llt2GcBdXPzngkAEl6CE8+tfIqMiTSvVFvqtTuyZAD2o5V723ufDfsffvAuisgs2rBkek9F6GyoK78LUl6CU5qlloqISS+sy5RF0aOmr1yWGwmmyn2ftPS62Oxsa/72kcMPbLYWpvl0o1ibmw12SS/BiZkjImJq2sJfMWAyqQ/vM3vbaWaNZtfYhPFjArepPdliYp7u1doDu+VS5RETSHqVXMwcGXS0vGCjnAbToY1lt+wA7vTsgAzl808Eej2brT4rXHtvs5PyDQGYOVIiXnzlrRcZMJmOf3La5hxo+IFtzMX7jIk5W1uvPYCexpzdeu1MrdUZ6B3ECzNHDB09888rU2ioPVby2TfgbG25QD+yTeZtzMGU+KQo/8ac20Ojdnbm1LUrqtqkNSCBmSNoVOb8ZVMZuFJbeMbQVHni2muPOLH2NOb6XmFEJSQk0QBg3yaPpUaOTbdDablOOV5ivaxCd9aEGc8DbmRZWTGP7mBje+b8n9nabTWoV6fQAEDnbFVf7JDiOtc4p5owy629zya8fgeAYfadv7c4UWJVFBfw3EpY9MR5b+QzEPCRS2ECM0fc6Ezl38ZJurMjSHhuRaRhPYdIw8wh0jBziDTMHCINM4dIw8wh0jBziDTMHCINM4dIw8wh0jBziDTMHCINM4dIw8wh0jBziLT/A9aNMUa8yk9+AAAAAElFTkSuQmCC)\n",
        "\n",
        "= -6.66\n",
        "\n",
        "As -6.66 lies outside the region ± 1.96, that means it lies in the rejection region.\n",
        "So my final conclusion was:\n",
        "\n",
        "Reject the null hypothesis"
      ],
      "metadata": {
        "id": "pZlBIQc-6Tfu"
      }
    },
    {
      "cell_type": "markdown",
      "source": [
        "Q15. An electronics company produces a certain type of product with a mean weight of 5 pounds and a\n",
        "standard deviation of 0.5 pounds. A random sample of 25 products is taken, and the sample mean weight\n",
        "is found to be 4.8 pounds. Test the hypothesis that the true mean weight of the products is less than 5\n",
        "pounds with a significance level of 0.01.\n",
        "\n",
        "\n",
        "n= 25 ,\n",
        "\n",
        "μ=5,\n",
        "\n",
        "xbar = 4.8 ,\n",
        "\n",
        "standard deviation (sigma)= 0.5,\n",
        "\n",
        "significance value =0.05\n",
        "\n",
        "null hypothesis :μ=5\n",
        "\n",
        "alternate hypothesis ::μ<=5 \n",
        "\n",
        "![download (2).png](data:image/png;base64,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)\n",
        "\n",
        " z test = -2\n",
        "\n",
        "      = 0.2275 < 0.01 =false\n",
        "  we fail to reject null hypothesis"
      ],
      "metadata": {
        "id": "H5XEGTTctHba"
      }
    },
    {
      "cell_type": "markdown",
      "source": [
        "Q16. Two groups of students are given different study materials to prepare for a test. The first group (n1 =\n",
        "30) has a mean score of 80 with a standard deviation of 10, and the second group (n2 = 40) has a mean\n",
        "score of 75 with a standard deviation of 8. Test the hypothesis that the population means for the two\n",
        "groups are equal with a significance level of 0.01.\n",
        "\n",
        "hen I utilized the follwing two sample T-test formula:\n",
        "Test statistic: (x1 – x2)  /  sp(√1/n1 + 1/n2)\n",
        "\n",
        "where x1 and x2 are the sample means, n1 and n2 are the sample sizes, and where sp is calculated as:\n",
        "\n",
        "sp = √ (n1-1)s12 +  (n2-1)s22 /  (n1+n2-2)\n",
        "\n",
        "\n",
        "I got the value of t as:\n",
        "\n",
        "t = 0.5470\n",
        "\n",
        "calculating p value is 0.5861\n",
        "\n",
        "Degrees of Freedom = 68\n",
        "\n",
        "Significance Value = 0.01\n",
        "\n",
        "not significant  o.5861<0.01 =false\n"
      ],
      "metadata": {
        "id": "p50TotmyuvBL"
      }
    },
    {
      "cell_type": "markdown",
      "source": [
        "Q17. A marketing company wants to estimate the average number of ads watched by viewers during a TV\n",
        "program. They take a random sample of 50 viewers and find that the sample mean is 4 with a standard\n",
        "deviation of 1.5. Estimate the population mean with a 99% confidence interval.\n",
        "\n",
        "To estimate the population mean with a 99% confidence interval, we can use the following formula:\n",
        "\n",
        "CI = X̄ ± z*(σ/√n)\n",
        "\n",
        "Where:\n",
        "\n",
        "X̄ = sample mean (4)\n",
        "z = z-score corresponding to the confidence level (99%)\n",
        "σ = population standard deviation (1.5)\n",
        "n = sample size (50)\n",
        "\n",
        "To find the z-score, we can use a standard normal distribution table. For a 99% confidence level, the z-score is\n",
        "\n",
        "z-score = 2.576.\n",
        "\n",
        "Plugging in the values, we get:\n",
        "\n",
        "CI = 4 ± 2.576*(1.5/√50)\n",
        "CI = 4 ± 0.665\n",
        "\n",
        "Therefore, the 99% confidence interval for the population mean of the number of ads watched by viewers during a TV program is (3.335, 4.665). We are 99% confident that the true population mean falls within this interval."
      ],
      "metadata": {
        "id": "n2kxJIloC_Sr"
      }
    },
    {
      "cell_type": "code",
      "source": [],
      "metadata": {
        "id": "gC8B-h5iy1o8"
      },
      "execution_count": null,
      "outputs": []
    }
  ]
}