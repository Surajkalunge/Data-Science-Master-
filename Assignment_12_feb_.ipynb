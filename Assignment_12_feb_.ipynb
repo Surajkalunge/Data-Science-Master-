{
  "nbformat": 4,
  "nbformat_minor": 0,
  "metadata": {
    "colab": {
      "provenance": []
    },
    "kernelspec": {
      "name": "python3",
      "display_name": "Python 3"
    },
    "language_info": {
      "name": "python"
    }
  },
  "cells": [
    {
      "cell_type": "markdown",
      "source": [
        "Q1 what is an exception in python ?write the difference between exception and syntax errors\n",
        "\n",
        "\n",
        "Ans-an exception is an event, which occurs during the execution of a program that disrupts the normal flow of the program's instructions\n",
        "\n",
        "Syntax errors\n",
        "\n",
        "When the proper syntax of the language is not followed then a syntax error is thrown.\n",
        "\n",
        "Exceptions\n",
        "\n",
        "Even if a statement or expression is syntactically correct, it may cause an error when an attempt is made to execute it.\n",
        "\n",
        "Errors detected during code execution are called exceptions and are not unconditionally fatal. Most exceptions are not handled by programs,\n",
        "\n",
        "The last line of the error message indicates what happened. Here you see three different exceptions and the type is printed as part of the message. The types in the example are ZeroDivisionError, NameError and TypeError."
      ],
      "metadata": {
        "id": "2G9Y8bCdg6VT"
      }
    },
    {
      "cell_type": "markdown",
      "source": [
        "Q2 what happens when an exception is not handled ?explain with an example.\n",
        "\n",
        "ANs -if an exception is not caught (with a catch block), the runtime system will abort the program (i.e. crash) and an exception message will print to the console.\n"
      ],
      "metadata": {
        "id": "GxnXjBDijZ8C"
      }
    },
    {
      "cell_type": "markdown",
      "source": [
        "Q3.which python statements are used to catch and handle exceptions ?explain withb an example \n",
        "\n",
        "ans-The try and except block in Python is used to catch and handle exceptions. Python executes code following the try statement as a “normal” part of the program. The code that follows the except statement is the program’s response to any exceptions in the preceding try clause.\n"
      ],
      "metadata": {
        "id": "sLA8ynzVk8b2"
      }
    },
    {
      "cell_type": "code",
      "source": [
        "x = 5\n",
        "y = \"hello\"\n",
        "try:\n",
        "    z = x + y\n",
        "except TypeError:\n",
        "    print(\"Error: cannot add an int and a str\")"
      ],
      "metadata": {
        "colab": {
          "base_uri": "https://localhost:8080/"
        },
        "id": "K78SaHG6jSYP",
        "outputId": "bcacd803-2a27-4ed9-85d1-a4244f6d2cb1"
      },
      "execution_count": 1,
      "outputs": [
        {
          "output_type": "stream",
          "name": "stdout",
          "text": [
            "Error: cannot add an int and a str\n"
          ]
        }
      ]
    },
    {
      "cell_type": "code",
      "source": [],
      "metadata": {
        "id": "o2mWcp1XmpG6"
      },
      "execution_count": null,
      "outputs": []
    },
    {
      "cell_type": "markdown",
      "source": [
        "Q4 explain with an example\n",
        "\n",
        "\n",
        "a .try and else \n",
        "\n",
        "In python, you can also use the else clause on the try-except block which must be present after all the except clauses. The code enters the else block only if the try clause does not raise an exception\n"
      ],
      "metadata": {
        "id": "IXRBcELDmrig"
      }
    },
    {
      "cell_type": "code",
      "source": [
        "def AbyB(a , b):\n",
        "    try:\n",
        "        c = ((a+b) / (a-b))\n",
        "    except ZeroDivisionError:\n",
        "        print (\"a/b result in 0\")\n",
        "    else:\n",
        "        print (c)\n",
        "\n",
        "AbyB(2.0, 3.0)\n",
        "AbyB(3.0, 3.0)"
      ],
      "metadata": {
        "colab": {
          "base_uri": "https://localhost:8080/"
        },
        "id": "5c5QYGl_nDv0",
        "outputId": "fa620995-d212-4e9b-a4dd-d72a38532bb2"
      },
      "execution_count": 3,
      "outputs": [
        {
          "output_type": "stream",
          "name": "stdout",
          "text": [
            "-5.0\n",
            "a/b result in 0\n"
          ]
        }
      ]
    },
    {
      "cell_type": "markdown",
      "source": [
        "b .finally\n",
        "\n",
        "Python provides a keyword finally, which is always executed after the try and except blocks. The final block always executes after normal termination of try block or after try block terminates due to some exception."
      ],
      "metadata": {
        "id": "YxLhrm31nfw9"
      }
    },
    {
      "cell_type": "code",
      "source": [
        "\n",
        "try:\n",
        "    k = 5//0  \n",
        "    print(k)\n",
        " \n",
        "except ZeroDivisionError:\n",
        "    print(\"Can't divide by zero\")\n",
        " \n",
        "finally:\n",
        "    \n",
        "    print('This is always executed')"
      ],
      "metadata": {
        "colab": {
          "base_uri": "https://localhost:8080/"
        },
        "id": "Z0JNcbwFnNx2",
        "outputId": "5f70fd3c-dec5-4468-d13f-a55a9ce36985"
      },
      "execution_count": 4,
      "outputs": [
        {
          "output_type": "stream",
          "name": "stdout",
          "text": [
            "Can't divide by zero\n",
            "This is always executed\n"
          ]
        }
      ]
    },
    {
      "cell_type": "markdown",
      "source": [
        "c.raise\n",
        "\n",
        "The raise statement allows the programmer to force a specific exception to occur. The sole argument in raise indicates the exception to be raised. This must be either an exception instance or an exception class (a class that derives from Exception)."
      ],
      "metadata": {
        "id": "KlOaq_gKn4vG"
      }
    },
    {
      "cell_type": "code",
      "source": [
        "try:\n",
        "  raise NameError(\"Hi there\") \n",
        "except NameError:\n",
        "    print (\"An exception\")\n",
        "    raise "
      ],
      "metadata": {
        "colab": {
          "base_uri": "https://localhost:8080/",
          "height": 165
        },
        "id": "1xgp9WN6nx6S",
        "outputId": "d5477ae5-9877-4860-e9d4-e02774b18b4d"
      },
      "execution_count": 6,
      "outputs": [
        {
          "output_type": "error",
          "ename": "NameError",
          "evalue": "ignored",
          "traceback": [
            "\u001b[0;31m---------------------------------------------------------------------------\u001b[0m",
            "\u001b[0;31mNameError\u001b[0m                                 Traceback (most recent call last)",
            "\u001b[0;32m<ipython-input-6-f1e192a2294e>\u001b[0m in \u001b[0;36m<module>\u001b[0;34m\u001b[0m\n\u001b[0;32m----> 1\u001b[0;31m \u001b[0;32mraise\u001b[0m \u001b[0mNameError\u001b[0m\u001b[0;34m(\u001b[0m\u001b[0;34m\"Hi there\"\u001b[0m\u001b[0;34m)\u001b[0m\u001b[0;34m\u001b[0m\u001b[0;34m\u001b[0m\u001b[0m\n\u001b[0m",
            "\u001b[0;31mNameError\u001b[0m: Hi there"
          ]
        }
      ]
    },
    {
      "cell_type": "markdown",
      "source": [
        "Q5 what are custom exceptions in python why do we need custom exceptions ?explain with an example \n",
        "\n",
        "first, let’s see how to define a custom exception in Python. This is a simple task, as the only thing you need to do is to create a class that inherits from the built-in Exception class\n",
        "\n"
      ],
      "metadata": {
        "id": "TBuHroT2oLe3"
      }
    },
    {
      "cell_type": "code",
      "source": [
        "class PredictionError(Exception):\n",
        "     pass\n"
      ],
      "metadata": {
        "id": "iGjX-AbcqQqC"
      },
      "execution_count": 7,
      "outputs": []
    },
    {
      "cell_type": "markdown",
      "source": [
        "I will show below that you can do more; but the truth is, most of the times I use just an empty class (actually, it’s not empty, as it inherits from Exception), as that’s all I need. Often, I add a descriptive docstring"
      ],
      "metadata": {
        "id": "TbnhP11DqYSM"
      }
    },
    {
      "cell_type": "code",
      "source": [
        "class PredictionError(Exception):\n",
        "    \"\"\"Error occurred during prediction.\"\"\""
      ],
      "metadata": {
        "id": "_83Y1DrXqUiQ"
      },
      "execution_count": 10,
      "outputs": []
    },
    {
      "cell_type": "markdown",
      "source": [
        "As you can see, you do not need to use the pass statement if you add a docstring. You can also replace the pass statement with the ellipsis (…). The three versions work the same way. Choose whichever works better in a given situation, or whichever you prefer.\n",
        "\n",
        "Note how important naming is. PredictionError seems to be quite a general custom exception to be used when something goes wrong during calculating predictions. Depending on your needs, you can create much more specific exceptions, but never forget to use informative names. A general rule in Python is to use short but informative names. Ironically, custom exceptions constitute an exception, as they often have long names. This is because most people — including myself — like to use self-standing exception names, and I think you should follow this rule too. Consider these pairs of informative and vague exception names:\n",
        "\n",
        "NegativeValueToBeSquaredError versus SquaredError\n",
        "IncorrectUserNameError versus InputError\n",
        "OverloadedTruckError and NoLoadOnTruckError versus LoadError"
      ],
      "metadata": {
        "id": "aAWbFHIDqr0R"
      }
    },
    {
      "cell_type": "markdown",
      "source": [
        "Q6. create a custom exception class to handle an exception."
      ],
      "metadata": {
        "id": "ycz1x5nsqvlS"
      }
    },
    {
      "cell_type": "code",
      "source": [
        "class MyError(Exception):\n",
        " \n",
        "  \n",
        "    def __init__(self, value):\n",
        "        self.value = value\n",
        " \n",
        "  \n",
        "    def __str__(self):\n",
        "        return(repr(self.value))\n",
        " \n",
        " \n",
        "try:\n",
        "    raise(MyError(3*2))\n",
        "\n",
        "except MyError as error:\n",
        "    print('A New Exception occurred: ', error.value)"
      ],
      "metadata": {
        "colab": {
          "base_uri": "https://localhost:8080/"
        },
        "id": "4cYVhEMMqeqG",
        "outputId": "b3d8f0f7-8f5a-48d8-e628-51400556176f"
      },
      "execution_count": 11,
      "outputs": [
        {
          "output_type": "stream",
          "name": "stdout",
          "text": [
            "A New Exception occurred:  6\n"
          ]
        }
      ]
    },
    {
      "cell_type": "code",
      "source": [],
      "metadata": {
        "id": "su8VxjC_rMRg"
      },
      "execution_count": null,
      "outputs": []
    }
  ]
}