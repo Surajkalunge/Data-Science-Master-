{
  "nbformat": 4,
  "nbformat_minor": 0,
  "metadata": {
    "colab": {
      "provenance": []
    },
    "kernelspec": {
      "name": "python3",
      "display_name": "Python 3"
    },
    "language_info": {
      "name": "python"
    }
  },
  "cells": [
    {
      "cell_type": "markdown",
      "source": [
        "Q1. What is a database? Differentiate between SQL and NoSQL databases.\n",
        "\n",
        "A database in SQL Server is made up of a collection of tables that stores a specific set of structured data. A table contains a collection of rows, also referred to as records or tuples, and columns, also referred to as attributes.\n",
        "\n",
        "According to what I know and have used I can differentiate SQL and NoSQL in the following ways:-\n",
        "\n",
        "Schema:- SQL databases have predefined schema whereas NoSQL databases have dynamic schema for unstructured data.\n",
        "\n",
        "Scalability:- SQL databases are vertically scalable whereas the NoSQL databases are horizontally scalable. SQL databases are scaled by increasing the horse-power of the hardware. NoSQL databases are scaled by increasing the databases servers in the pool of resources to reduce the load.\n",
        "\n",
        "Data Manipulation:- SQL databases uses SQL ( structured query language ) for defining and manipulating the data, which is very powerful. In NoSQL database, queries are focused on collection of documents. Sometimes it is also called as UnQL (Unstructured Query Language). The syntax of using UnQL varies from database to database.\n",
        "\n",
        "Examples:- SQL database examples: MySql, Oracle, Sqlite, Postgres and MS-SQL. NoSQL database examples: MongoDB, BigTable, Redis, RavenDb, Cassandra, Hbase, Neo4j and CouchDb"
      ],
      "metadata": {
        "id": "rspFwty4Tf8l"
      }
    },
    {
      "cell_type": "markdown",
      "source": [
        "Q2. What is DDL? Explain why CREATE, DROP, ALTER, and TRUNCATE are used with an example.\n",
        "\n",
        "DDL (Data Definition Language): \n",
        "DDL or Data Definition Language actually consists of the SQL commands that can be used to define the database schema. It simply deals with descriptions of the database schema and is used to create and modify the structure of database objects in the database. DDL is a set of SQL commands used to create, modify, and delete database structures but not data. These commands are normally not used by a general user, who should be accessing the database via an application.\n",
        "\n",
        "List of DDL commands: \n",
        "\n",
        "CREATE: This command is used to create the database or its objects (like table, index, function, views, store procedure, and triggers).\n",
        "CREATE TABLE Persons (\n",
        "    PersonID int,\n",
        "    LastName varchar(255),\n",
        "    FirstName varchar(255),\n",
        "    Address varchar(255),\n",
        "    City varchar(255)\n",
        ");\n",
        "\n",
        "DROP: This command is used to delete objects from the database.\n",
        "\n",
        "DROP TABLE table_name;\n",
        "\n",
        "ALTER: This is used to alter the structure of the database.\n",
        "\n",
        "ALTER TABLE Customers\n",
        "ADD Email varchar(255);\n",
        "\n",
        "TRUNCATE: This is used to remove all records from a table, including all spaces allocated for the records are removed.\n",
        "\n",
        "TRUNCATE TABLE table_name;\n",
        "\n",
        "COMMENT: This is used to add comments to the data dictionary.\n",
        "\n",
        "RENAME: This is used to rename an object existing in the database."
      ],
      "metadata": {
        "id": "MOdlwnqAUXhL"
      }
    },
    {
      "cell_type": "markdown",
      "source": [
        "Q3. What is DML? Explain INSERT, UPDATE, and DELETE with an example.\n",
        "\n",
        "DML(Data Manipulation Language): \n",
        "The SQL commands that deals with the manipulation of data present in the database belong to DML or Data Manipulation Language and this includes most of the SQL statements. It is the component of the SQL statement that controls access to data and to the database. Basically, DCL statements are grouped with DML statements.\n",
        "\n",
        "List of DML commands: \n",
        "\n",
        "INSERT : It is used to insert data into a table.\n",
        "\n",
        "INSERT INTO Customers (CustomerName, ContactName, Address, City, PostalCode, Country)\n",
        "VALUES ('Cardinal', 'Tom B. Erichsen', 'Skagen 21', 'Stavanger', '4006', 'Norway');\n",
        "\n",
        "UPDATE: It is used to update existing data within a table\n",
        "\n",
        "UPDATE Customers\n",
        "SET ContactName = 'Alfred Schmidt', City= 'Frankfurt'\n",
        "WHERE CustomerID = 1;\n",
        "\n",
        "DELETE : It is used to delete records from a database table.\n",
        "\n",
        "DELETE FROM Customers WHERE CustomerName='Alfreds Futterkiste';"
      ],
      "metadata": {
        "id": "evGuj8ppU-8a"
      }
    },
    {
      "cell_type": "markdown",
      "source": [
        "Q4. What is DQL? Explain SELECT with an example.\n",
        "\n",
        "DQL (Data Query Language):\n",
        "DQL statements are used for performing queries on the data within schema objects. The purpose of the DQL Command is to get some schema relation based on the query passed to it. We can define DQL as follows it is a component of SQL statement that allows getting data from the database and imposing order upon it. It includes the SELECT statement. This command allows getting the data out of the database to perform operations with it. When a SELECT is fired against a table or tables the result is compiled into a further temporary table, which is displayed or perhaps received by the program i.e. a front-end.\n",
        "\n",
        "List of DQL: \n",
        "\n",
        "SELECT: It is used to retrieve data from the database.\n",
        "\n",
        "SELECT CustomerName, City FROM Customers;"
      ],
      "metadata": {
        "id": "xQgWV35OVYzy"
      }
    },
    {
      "cell_type": "markdown",
      "source": [
        "Q5. Explain Primary Key and Foreign Key.\n",
        "\n",
        "\n",
        "A primary key constraint in the relational database acts as a unique identifier for every row in the table. In contrast, a foreign key constraint establishes a relationship between two different tables to uniquely identify a row of the same table or another table.\n",
        "The primary key column does not store NULL values, whereas the foreign key can accept more than one NULL value.\n",
        "Each table in a relational database can't define more than one primary key while we can specify multiple foreign keys in a table.\n",
        "We can't remove the parent table's primary key value, which is referenced with a foreign key column in the child table. In contrast, we can delete the child table's foreign key value even though they refer to the parent table's primary key.\n",
        "A primary key is a unique and non-null constraint, so no two rows can have identical values for a primary key attribute, whereas foreign key fields can store duplicate values.\n",
        "We can insert the values into the primary key column without any limitation. In contrast, we need to ensure that the value is present in a primary key column while inserting values in the foreign key table.\n",
        "We can implicitly define the primary key constraint on temporary tables, whereas we cannot enforce foreign key constraints on temporary tables."
      ],
      "metadata": {
        "id": "rt_qkas7XYPW"
      }
    },
    {
      "cell_type": "markdown",
      "source": [
        "Q6. Write a python code to connect MySQL to python. Explain the cursor() and execute() method.\n",
        "\n",
        "\n",
        "import mysql.connector\n",
        "\n",
        "mydb = mysql.connector.connect(\n",
        "  host=\"localhost\",\n",
        "  user=\"yourusername\",\n",
        "  password=\"yourpassword\"\n",
        ")\n",
        "\n",
        "print(mydb)\n",
        "\n",
        "Syntax: cursor. execute(operation, params=None, multi=False) iterator = cursor. execute(operation, params=None, multi=True) This method executes the given database operation (query or command). The parameters found in the tuple or dictionary params are bound to the variables in the operation."
      ],
      "metadata": {
        "id": "PrFYHOVaYUJr"
      }
    },
    {
      "cell_type": "markdown",
      "source": [
        "Q7. Give the order of execution of SQL clauses in an SQL query.\n",
        "Let’s say that we want to know the name of only two city names, except San Bruno, where two or more citizens are living on. We also want the result ordered alphabetically.\n",
        "\n",
        "This is the query to get the required information.\n",
        "\n",
        "SELECT city.city_name AS \"City\"\n",
        "FROM citizen\n",
        "JOIN city \n",
        "ON citizen.city_id = city.city_id \n",
        "WHERE city.city_name != 'San Bruno'\n",
        "GROUP BY city.city_name\n",
        "HAVING COUNT(*) >= 2\n",
        "ORDER BY city.city_name ASC\n",
        "LIMIT 2\n",
        "Query Process Steps\n",
        "1. Getting Data (From, Join)\n",
        "2. Row Filter (Where)\n",
        "3. Grouping (Group by)\n",
        "4. Group Filter (Having)\n",
        "5. Return Expressions (Select)\n",
        "6. Order & Paging (Order by & Limit / Offset)\n",
        "\n",
        "Step 1: Getting Data (From, Join)\n",
        "FROM citizen\n",
        "JOIN city \n",
        "The first step in the process is the execution of the statements in From clause followed by the Join clause. The result of these operations is getting a cartesian product of our two tables.\n",
        "\n",
        "\n",
        "Cartesian Product\n",
        "Once the From and Join were executed, the processor will get the qualified rows based on the condition On.\n",
        "\n",
        "ON citizen.city_id = city.city_id\n",
        "\n",
        "Qualified Rows\n",
        "Step 2: Row Filter (Where)\n",
        "After getting qualified rows, it is passed on to the Where clause. This evaluates every row using conditional expressions. When rows do not evaluate to true, they will be removed from the set.\n",
        "\n",
        "WHERE city.city_name != 'San Bruno'\n",
        "\n",
        "Step 3: Grouping (Group by)\n",
        "The next step is to execute Group by clause, it will group rows that have the same values into summary rows. After this point, all Select expressions will be evaluated per group, instead of being evaluated per row.\n",
        "\n",
        "GROUP BY city.city_name\n",
        "\n",
        "Step 4: Group Filter (Having)\n",
        "The Having clause consists of a logical predicate, it is processed after the Group by and it can no longer refer to individual rows, only to groups of rows.\n",
        "\n",
        "HAVING COUNT(*) >= 2\n",
        "The result of executing this operation will keep the set as the figure above. This is because there are two or more elements in every group.\n",
        "\n",
        "Step 5: Return Expressions (Select)\n",
        "During this step, the processor evaluates what will be printed as a result of the query, and if there are some functions to run on data like Distinct, Max, Sqrt, Date, Lower, etc. In this case, the select clause just prints the city names and alias the city_name column with the identifier “City”.\n",
        "\n",
        "SELECT city.city_name AS \"City\"\n",
        "\n",
        "Step 6: Order (Order by) and Paging (Limit / Offset)\n",
        "The final processing steps of the query deal with presentation ordering and the ability to limit the size of the result set. In our example, it is required to present a maximum of two records ordered alphabetically.\n",
        "\n",
        "ORDER BY city.city_name ASC\n",
        "LIMIT 2\n"
      ],
      "metadata": {
        "id": "JQYUDE1CZisz"
      }
    },
    {
      "cell_type": "code",
      "source": [
        "\n"
      ],
      "metadata": {
        "id": "XN8F8n5dTfns"
      },
      "execution_count": null,
      "outputs": []
    },
    {
      "cell_type": "code",
      "execution_count": null,
      "metadata": {
        "id": "CcmhTYjzTRrx"
      },
      "outputs": [],
      "source": []
    }
  ]
}