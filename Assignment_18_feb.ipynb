{
  "nbformat": 4,
  "nbformat_minor": 0,
  "metadata": {
    "colab": {
      "provenance": []
    },
    "kernelspec": {
      "name": "python3",
      "display_name": "Python 3"
    },
    "language_info": {
      "name": "python"
    }
  },
  "cells": [
    {
      "cell_type": "markdown",
      "source": [
        "Q1. What is an API? Give an example, where an API is used in real life.\n",
        "\n",
        "\n",
        "What is an API?\n",
        "An API is a communication interface that allows two separate software components to share data. An API operates as a bridge between internal and external software operations, allowing for a fluid interchange of data that frequently passes undetected by the end-user. Simply said, an API acts as a virtual middleman, transferring data from one interface, such as a mobile app, to another. APIs connect various sections of a software platform to guarantee that information is sent correctly. These connection points serve as an internal communication route, and a way for external tools to access the same data. As a result, APIs may be classified into two types:\n",
        "\n",
        "Private APIs: A private API is only available to developers and users within a company. These APIs are often used to link internal team operations to remove silos and streamline communication.\n",
        "Open APIs: On the other hand, open APIs allow third-party developers to quickly access and merge data from one tool to another. An open or public API saves time for developers by allowing them to link their platform with already existing tools, minimizing the need to construct new services.\n",
        "\n",
        "\n",
        "Weather Snippets\n",
        "Weather data is a popular API example that we come across regularly. Rich weather snippets appear ubiquitous, appearing on all platforms such as Google Search, Apple's Weather app, and even your smart home device.\n",
        "\n",
        "For example, if you Google \"weather + [your city's name],\" you'll get a specialized box at the top of the search results (known as a rich snippet) containing the current weather conditions and prediction.\n",
        "\n",
        "Google isn't in the weather data business (yet!), so they get it from a third party. They do it using an API, which feeds them the most recent meteorological information in a format that they can easily modify. As previously stated, several weather APIs power this type of functionality.\n",
        "\n",
        "Log-in Using XYZ\n",
        "Another well-known API example usage is the \"log in with Facebook/Twitter/Google/GitHub\" capability seen on many websites. It's quite useful, but have you ever pondered how it works? Rather than entering into users' social media accounts (which would be a severe security risk), applications with this capability use the APIs of these platforms to authenticate the user with each login.\n",
        "\n",
        "It operates in a straightforward manner. When the program loads, it checks the API to see whether the user is already logged in to whichever social networking platform. If not, when the user hits the \"Log-in Using XYZ\" button, a pop-up appears asking them to confirm they really want to log in with that social network profile. When the user confirms, the API sends identity information to the application, letting it know who is logging in.\n",
        "\n"
      ],
      "metadata": {
        "id": "DMYcn14nX-ry"
      }
    },
    {
      "cell_type": "markdown",
      "source": [
        "Q2. Give advantages and disadvantages of using API.\n",
        "\n",
        "The term API can be used in a number of ways; I'll restrict my answer to the APIs used by websites such as Twitter, Basecamp, Zendesk, Slack etc.\n",
        "\n",
        "The main advantage of providing an API is that it allows your users to do more with your product or service (i.e. it increases the value of your product). This typically takes one of two forms -\n",
        "\n",
        "an integration. An example of an integration is to push notifications from your product (such as CRM, Helpdesk) to a messaging tool such as Slack. In this way, if your customer uses Slack they can receive notifications without having to login directly to your system or check emails.\n",
        "new functionality. In the early days of Twitter, some of the most popular Twitter clients were produced by third parties using the Twitter API. Twitter and its users benefited from the new functionality that was undertaken by other companies.\n",
        "\n",
        "The disadvantages to providing an API are,\n",
        "\n",
        "Cost. Providing an API is expensive in terms of development time, ongoing maintenance, providing API documentation on your website and providing support to users of your API.\n",
        "Security exposure. Adding an API adds another attack surface to your website.\n",
        "You might not like the result or you may change business direction. It's not always easy to predict exactly how your API will be used. If your integration with a messaging system means that users login to your service less often, will there be an overall negative impact for you? Withdrawing an API can be painful for users if you decide that you need to do so. This is unusual but it can happen. As Twitter's business evolved it changed its rules for accessing its API which resulted in a number of problems for users and developers"
      ],
      "metadata": {
        "id": "IdaY8WW0Yl4L"
      }
    },
    {
      "cell_type": "markdown",
      "source": [
        "Q3. What is a Web API? Differentiate between API and Web API.\n",
        "\n",
        "\n",
        "In computer programming, an application programming interface (API) is a set of subroutine definitions, protocols, and tools for building software and applications.\n",
        "\n",
        "To put it in simple terms, API is some kind of interface which has a set of functions that allow programmers to access specific features or data of an application, operating system or other services.\n",
        "\n",
        "Web API as the name suggests, is an API over the web which can be accessed using HTTP protocol. It is a concept and not a technology. We can build Web API using different technologies such as Java, .NET etc. For example, Twitter's REST APIs provide programmatic access to read and write data using which we can integrate twitter's capabilities into our own application.\n",
        "\n",
        "Definitions from Wikipedia:\n",
        "API:\n",
        "An application programming interface (API) is a set of routines, data structures, object classes and/or protocols provided by libraries and/or operating system services in order to support the building of applications.\n",
        "\n",
        "Webservice:\n",
        "A Web Service is defined by the W3C as \"a software system designed to support interoperable machine-to-machine interaction over a network\"\n",
        "\n",
        "Clearly, both are means of communications. The difference is that Web Service almost always involves communication over network and HTTP is the most commonly used protocol. Web service also uses SOAP, REST, and XML-RPC as a means of communication. While an API can use any means of communication e.g. DLL files in C/C++, Jar files/ RMI in java, Interrupts in Linux kernel API etc.\n",
        "So, you can say that-\n",
        "\n",
        "1. Web Service is an API wrapped in HTTP.\n",
        "2. All Web Services are API but APIs are not Web Services.\n",
        "3. Web Service might not perform all the operations that an API would perform.\n",
        "4. A Web Service needs a network while an API doesn't need a network for its operation.\n",
        "\n",
        "\n"
      ],
      "metadata": {
        "id": "aIWjdO0UZC0k"
      }
    },
    {
      "cell_type": "markdown",
      "source": [
        "Q4. Explain REST and SOAP Architecture. Mention shortcomings of SOAP.\n",
        "\n",
        "Many legacy systems may still adhere to SOAP, while REST came later and is often viewed as a faster alternative in web-based scenarios. REST is a set of guidelines that offers flexible implementation, whereas SOAP is a protocol with specific requirements like XML messaging.\n",
        "\n",
        "REST APIs are lightweight, making them ideal for newer contexts like the Internet of Things (IoT), mobile application development, and serverless computing. SOAP web services offer built-in security and transaction compliance that align with many enterprise needs, but that also makes them heavier. Additionally, many public APIs, like the Google Maps API, follow the REST guidelines.\n",
        "shortcomings\n",
        "Slow: SOAP uses XML format that must be parsed to be read. It defines many standards that must be followed while developing the SOAP applications. So it is slow and consumes more bandwidth and resource."
      ],
      "metadata": {
        "id": "lEWDuMsqZxHi"
      }
    },
    {
      "cell_type": "markdown",
      "source": [
        "Q5 Differentiate between REST and SOAP.\n",
        "\n",
        "1. Short Form \n",
        "REST stands for REpresntational State Transfer (REST) while SOAP Stands for Simple Object Access Protocol (SOAP).\n",
        "\n",
        "\n",
        "2. Architecture style vs Protocol \n",
        "REST is an architectural style, on which RESTFul web services are built while SOAP is a standard devised to streamline communication between client and server in terms of format, structure, and method.\n",
        "\n",
        "\n",
        "3. Use of HTTP Protocol \n",
        "REST takes full advantage of the HTTP protocol, including methods e.g. GET, POST, PUT, and DELETE to represent action like from an application which provides data related to books, GET request can be used to retrieve books, POST can be used to upload data of a new book, and DELETE can be used to remove a book from the library. On the other hand, SOAP uses XML messages to communicate with the server.\n",
        "\n",
        "\n",
        "4. Supported Format \n",
        "RESTful web service can return the response in various formats like JSON, XML, and HTML while using SOAP web service you tie your response with XML because the actual response is bundled inside a SOAP message which is always in XML format.\n",
        "\n",
        "\n",
        "5. Speed \n",
        "Processing a RESTful web service request is much faster than processing a SOAP message because you need to do less parsing. Because of this reason RESTful, web services are faster than SOAP web services.\n",
        "\n",
        "\n",
        "6. Bandwidth \n",
        "SOAP messages consume more bandwidth than RESTFul messages for the same type of an operation because XML is more verbose than JSON, the standard way to send RESTFul messages, and SOAP has an additional header for every message while RESTFul services utilize HTTP header.\n",
        "\n",
        "\n",
        "\n"
      ],
      "metadata": {
        "id": "KJfQUtkZfUXi"
      }
    },
    {
      "cell_type": "code",
      "execution_count": null,
      "metadata": {
        "id": "30KwQPenX1bk"
      },
      "outputs": [],
      "source": []
    }
  ]
}