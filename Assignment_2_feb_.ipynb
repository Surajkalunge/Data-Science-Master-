{
  "nbformat": 4,
  "nbformat_minor": 0,
  "metadata": {
    "colab": {
      "provenance": []
    },
    "kernelspec": {
      "name": "python3",
      "display_name": "Python 3"
    },
    "language_info": {
      "name": "python"
    }
  },
  "cells": [
    {
      "cell_type": "markdown",
      "source": [
        "Q1. Explain with an example each when to use a for loop and a while loop.\n",
        "\n",
        "ans-\n",
        "**For loop:** A for loop is a control flow statement that executes code repeatedly for a particular number of iterations. In this control flow statement, the keyword used is for. The for loop is used when the number of iterations is already known.\n",
        "The for loop has two parts:\n",
        "\n",
        "Header: The header part specifies the iteration of the loop. In this part, the loop variable is also declared, which tells the body which iteration is executed.\n",
        "\n",
        "Body: This part contains the statement executed per iteration.\n",
        "Let's see the flow of the for loop:\n",
        "\n",
        "Initialise the starting value\n",
        "\n",
        "Check that the starting value is less than the stopping value.\n",
        "\n",
        "Execute the statement.\n",
        "\n",
        "Increment the starting value.\n",
        "\n",
        "\n"
      ],
      "metadata": {
        "id": "gGc3VurCOcOG"
      }
    },
    {
      "cell_type": "code",
      "source": [
        "n = [1, 2, 3,45,6,7,56,8]  # Initialization\n",
        "for i in n:  # Condition and Updation\n",
        "    print(i)"
      ],
      "metadata": {
        "colab": {
          "base_uri": "https://localhost:8080/"
        },
        "id": "Xc9VqfACO_At",
        "outputId": "ffd06b98-230c-4be8-b91b-0fd5022bb2c8"
      },
      "execution_count": null,
      "outputs": [
        {
          "output_type": "stream",
          "name": "stdout",
          "text": [
            "1\n",
            "2\n",
            "3\n",
            "45\n",
            "6\n",
            "7\n",
            "56\n",
            "8\n"
          ]
        }
      ]
    },
    {
      "cell_type": "markdown",
      "source": [
        "While loop: A loop that executes a single statement or a group of statements for the given true condition. The keyword used to represent this loop is \"while\". A \"while\" loop is used when the number of iterations is unknown. The statement repeats itself till the boolean value becomes false. In a while loop, the condition is tested at the start, also known as the pre-test loop. Let's see the flow of the while loop:\n",
        "\n",
        "Initialise the starting value\n",
        "\n",
        "Check that the starting value is less than the stopping value.\n",
        "\n",
        "Execute the statement.\n",
        "\n",
        "Increment the starting value\n"
      ],
      "metadata": {
        "id": "QVxg-BzyPXAU"
      }
    },
    {
      "cell_type": "code",
      "source": [
        "i = 1  # Initialization\n",
        "while i < 10:  # Condition\n",
        "    print(i)\n",
        "    i += 1  # Updation"
      ],
      "metadata": {
        "colab": {
          "base_uri": "https://localhost:8080/"
        },
        "id": "GNo4MpJ-PnYS",
        "outputId": "964f7f3f-1622-402c-cb9d-18bca6664973"
      },
      "execution_count": null,
      "outputs": [
        {
          "output_type": "stream",
          "name": "stdout",
          "text": [
            "1\n",
            "2\n",
            "3\n",
            "4\n",
            "5\n",
            "6\n",
            "7\n",
            "8\n",
            "9\n"
          ]
        }
      ]
    },
    {
      "cell_type": "markdown",
      "source": [
        "Write a python program to print the sum and product of the first 10 natural numbers using forand while loop."
      ],
      "metadata": {
        "id": "mAoPKdmuTdeo"
      }
    },
    {
      "cell_type": "code",
      "source": [
        "sum_to_10 = 0 \n",
        "for i in range(1, 11): \n",
        "    sum_to_10 += i \n",
        "print(\"Sum is\", sum_to_10) "
      ],
      "metadata": {
        "colab": {
          "base_uri": "https://localhost:8080/"
        },
        "id": "PX_hwOO-S9RF",
        "outputId": "4eec5324-9c19-413c-f137-285e8f432fee"
      },
      "execution_count": null,
      "outputs": [
        {
          "output_type": "stream",
          "name": "stdout",
          "text": [
            "Sum is 55\n"
          ]
        }
      ]
    },
    {
      "cell_type": "code",
      "source": [
        "num = int(input(\"Enter a number: \")) \n",
        "\n",
        "if num < 0:\n",
        "   print(\"Please enter a positive number\")\n",
        "else:\n",
        "   sum = 0\n",
        "   \n",
        "   # use while loop to iterate until zero\n",
        "   while(num > 0):\n",
        "       sum += num\n",
        "       num -= 1\n",
        "   print(\"The result is\", sum)"
      ],
      "metadata": {
        "colab": {
          "base_uri": "https://localhost:8080/"
        },
        "id": "jBLsMYWwQ6B4",
        "outputId": "f63011cc-e091-44c8-8fd2-27760f1f30e0"
      },
      "execution_count": null,
      "outputs": [
        {
          "output_type": "stream",
          "name": "stdout",
          "text": [
            "Enter a number: 10\n",
            "The result is 55\n"
          ]
        }
      ]
    },
    {
      "cell_type": "code",
      "source": [
        "product_to_10 = 1\n",
        "for i in range(1, 11): \n",
        "    product_to_10 *= i \n",
        "print(\"product is\", product_to_10) "
      ],
      "metadata": {
        "colab": {
          "base_uri": "https://localhost:8080/"
        },
        "id": "6ZaGE9IQTFn1",
        "outputId": "16a16ced-89d0-4418-b355-0dec6cc8a851"
      },
      "execution_count": null,
      "outputs": [
        {
          "output_type": "stream",
          "name": "stdout",
          "text": [
            "product is 3628800\n"
          ]
        }
      ]
    },
    {
      "cell_type": "code",
      "source": [
        "num = int(input(\"Enter a number: \")) \n",
        "\n",
        "if num < 0:\n",
        "   print(\"Please enter a positive number\")\n",
        "else:\n",
        "   product = 1\n",
        "   \n",
        "   # use while loop to iterate until zero\n",
        "   while(num > 1):\n",
        "       product *= num\n",
        "       num -= 1\n",
        "   print(\"The result is\", product)"
      ],
      "metadata": {
        "colab": {
          "base_uri": "https://localhost:8080/"
        },
        "id": "xb6w3UoGRZU0",
        "outputId": "c8d02105-95e4-44bb-8b0d-407c8aab9602"
      },
      "execution_count": null,
      "outputs": [
        {
          "output_type": "stream",
          "name": "stdout",
          "text": [
            "Enter a number: 10\n",
            "The result is 3628800\n"
          ]
        }
      ]
    },
    {
      "cell_type": "markdown",
      "source": [
        "QUS 3- The per-unit charges in rupees are as follows: For the first 100 units, the user will be charged Rs. 4.5 per\n",
        "unit, for the next 100 units, the user will be charged Rs. 6 per unit, and for the next 100 units, the user will\n",
        "be charged Rs. 10 per unit, After 300 units and above the user will be charged Rs. 20 per unit.\n",
        "You are required to take the units of electricity consumed in a month from the user as input.\n",
        "Your program must pass this test case: when the unit of electricity consumed by the user in a month is\n",
        "310, the total electricity bill should be 2250."
      ],
      "metadata": {
        "id": "KcNOFNOXVmwK"
      }
    },
    {
      "cell_type": "code",
      "source": [
        "unit = int(input(\"Enter your unit: \"))\n",
        "if unit <= 100:\n",
        "    bill = unit * 4.5\n",
        "elif unit >= 101 and unit <=200 :\n",
        "    bill = 100 + ((unit - 100) * 6)\n",
        "elif unit >= 201 and unit <= 300:\n",
        "    bill = (100 * 4.5) +(100 * 6) + (unit - 200) *  10\n",
        "else:\n",
        "    bill = (100 * 4.5) +(100 * 6) +(100 *   10) +(unit - 300) * 20\n",
        "print(\"Bill Per Unit:\",bill)"
      ],
      "metadata": {
        "colab": {
          "base_uri": "https://localhost:8080/"
        },
        "id": "lKOG3YV4Wm-F",
        "outputId": "96f4ee92-3bdc-48ce-a21a-39443ee94bee"
      },
      "execution_count": null,
      "outputs": [
        {
          "output_type": "stream",
          "name": "stdout",
          "text": [
            "Enter your unit: 310\n",
            "Bill Per Unit: 2250.0\n"
          ]
        }
      ]
    },
    {
      "cell_type": "markdown",
      "source": [
        "Q4. Create a list of numbers from 1 to 100. Use for loop and while loop to calculate the cube of each\n",
        "number and if the cube of that number is divisible by 4 or 5 then append that number in a list and print\n",
        "that list."
      ],
      "metadata": {
        "id": "99WqE8iHewBO"
      }
    },
    {
      "cell_type": "code",
      "source": [
        "l=list(range(1,100))\n",
        "l1=[]\n",
        "i= 0\n",
        "while i<101:\n",
        "  n=i**3\n",
        "  if (n%4==0 or n%5==0):\n",
        "    l.append(i)\n",
        "  i+=1\n",
        "print (l)\n",
        "\n"
      ],
      "metadata": {
        "colab": {
          "base_uri": "https://localhost:8080/"
        },
        "id": "DYHm0TZqey3-",
        "outputId": "48333211-3112-431c-81f1-0b6a0f3b2452"
      },
      "execution_count": 5,
      "outputs": [
        {
          "output_type": "stream",
          "name": "stdout",
          "text": [
            "[1, 2, 3, 4, 5, 6, 7, 8, 9, 10, 11, 12, 13, 14, 15, 16, 17, 18, 19, 20, 21, 22, 23, 24, 25, 26, 27, 28, 29, 30, 31, 32, 33, 34, 35, 36, 37, 38, 39, 40, 41, 42, 43, 44, 45, 46, 47, 48, 49, 50, 51, 52, 53, 54, 55, 56, 57, 58, 59, 60, 61, 62, 63, 64, 65, 66, 67, 68, 69, 70, 71, 72, 73, 74, 75, 76, 77, 78, 79, 80, 81, 82, 83, 84, 85, 86, 87, 88, 89, 90, 91, 92, 93, 94, 95, 96, 97, 98, 99, 0, 2, 4, 5, 6, 8, 10, 12, 14, 15, 16, 18, 20, 22, 24, 25, 26, 28, 30, 32, 34, 35, 36, 38, 40, 42, 44, 45, 46, 48, 50, 52, 54, 55, 56, 58, 60, 62, 64, 65, 66, 68, 70, 72, 74, 75, 76, 78, 80, 82, 84, 85, 86, 88, 90, 92, 94, 95, 96, 98, 100]\n"
          ]
        }
      ]
    },
    {
      "cell_type": "markdown",
      "source": [
        "Write a program to filter count vowels in the below-given string.\n",
        "string = \"I want to become a data scientist\""
      ],
      "metadata": {
        "id": "pNLdZyPBmG0F"
      }
    },
    {
      "cell_type": "code",
      "source": [
        "vowels = 'aeiou'\n",
        "\n",
        "# take input from the user\n",
        "\n",
        "ip_str = input(\"Enter a string: \")\n",
        "\n",
        "# make it suitable for caseless comparisions\n",
        "\n",
        "ip_str = ip_str.casefold()\n",
        "\n",
        "count = {}.fromkeys(vowels,0)\n",
        "\n",
        "# count the vowels\n",
        "\n",
        "for char in ip_str:\n",
        "\n",
        "   if char in count:\n",
        "\n",
        "       count[char] += 1\n",
        "\n",
        "print(count)"
      ],
      "metadata": {
        "colab": {
          "base_uri": "https://localhost:8080/"
        },
        "id": "tKJZwE2Sg_lq",
        "outputId": "d3cb4e27-9a8a-49e1-991c-3761b320ac9c"
      },
      "execution_count": null,
      "outputs": [
        {
          "output_type": "stream",
          "name": "stdout",
          "text": [
            "Enter a string: I want to become a data scientist\n",
            "{'a': 4, 'e': 3, 'i': 3, 'o': 2, 'u': 0}\n"
          ]
        }
      ]
    },
    {
      "cell_type": "code",
      "source": [],
      "metadata": {
        "id": "sgQVWnVqlkge"
      },
      "execution_count": null,
      "outputs": []
    }
  ]
}