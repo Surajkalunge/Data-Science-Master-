{
  "nbformat": 4,
  "nbformat_minor": 0,
  "metadata": {
    "colab": {
      "provenance": []
    },
    "kernelspec": {
      "name": "python3",
      "display_name": "Python 3"
    },
    "language_info": {
      "name": "python"
    }
  },
  "cells": [
    {
      "cell_type": "code",
      "execution_count": null,
      "metadata": {
        "colab": {
          "base_uri": "https://localhost:8080/"
        },
        "id": "ibNw3qlhh3n6",
        "outputId": "9f14d320-71da-464e-b698-965836e48279"
      },
      "outputs": [
        {
          "output_type": "stream",
          "name": "stdout",
          "text": [
            "enter a marks 81\n",
            "Grade B\n"
          ]
        }
      ],
      "source": [
        "#Que1\n",
        "marks = int(input(\"enter a marks \"))\n",
        "if marks >90:\n",
        "  print (\"Grade A\")\n",
        "elif marks >80 and marks <=90:\n",
        "  print (\"Grade B\")\n",
        "elif marks >=60 and marks <=80:\n",
        "  print (\"Grade C\")\n",
        "else:\n",
        "   print (\"Grade D\")\n"
      ]
    },
    {
      "cell_type": "code",
      "source": [
        "# Que 2\n",
        "cost_price = int(input(\"enter cost price in Rs \"))\n",
        "if cost_price >100000:\n",
        "  print (\"Tax is 15%\")\n",
        "elif cost_price >50000 and cost_price <= 100000:\n",
        "  print (\"Tax is 10%\")\n",
        "else:\n",
        "  print (\"Tax is 5%\")"
      ],
      "metadata": {
        "colab": {
          "base_uri": "https://localhost:8080/"
        },
        "id": "CytDmKqmkQc0",
        "outputId": "eb444b17-8154-4371-a28f-37b1e9197df5"
      },
      "execution_count": null,
      "outputs": [
        {
          "output_type": "stream",
          "name": "stdout",
          "text": [
            "enter cost price in Rs 120000\n",
            "Tax is 15%\n"
          ]
        }
      ]
    },
    {
      "cell_type": "code",
      "source": [
        "#Que 3\n",
        "city = str(input(\"enter city name \"))\n",
        "if city ==\"Delhi\":\n",
        "  print (\"Monument is Red Fort\")\n",
        "elif city ==\"Agra\":\n",
        "   print (\"Monument is Taj Mahal\")\n",
        "elif city ==\"Jaipur\":\n",
        "   print (\"Monument is Jal Mahal\")\n",
        "else:\n",
        "  print (\"no information\")"
      ],
      "metadata": {
        "colab": {
          "base_uri": "https://localhost:8080/"
        },
        "id": "1U-ZooGZmvh9",
        "outputId": "08b74be0-d62b-448d-dcf4-bd45243d6c35"
      },
      "execution_count": null,
      "outputs": [
        {
          "output_type": "stream",
          "name": "stdout",
          "text": [
            "enter city name Delhi\n",
            "Monument is Red Fort\n"
          ]
        }
      ]
    },
    {
      "cell_type": "code",
      "source": [
        "#Que4\n",
        "n = int(input())\n",
        "if n%3!=0:\n",
        "  print(\"entered number is not divisible by 3\")\n",
        "if n%3 ==0 and n >10 :\n",
        "  count = 0\n",
        "  while (n>10):\n",
        "    n=n/3\n",
        "    count +=1\n",
        "  print (\"the number can be divided \",count ,\"times\")\n",
        "\n",
        "if n%3 == 0 and n<10 and n>0:\n",
        "  print (\"the number can be divided 1 time only \")"
      ],
      "metadata": {
        "id": "K08MHgEIo1-u",
        "colab": {
          "base_uri": "https://localhost:8080/"
        },
        "outputId": "8b218583-9fb1-4a84-f9b5-b318d9dfcc91"
      },
      "execution_count": 14,
      "outputs": [
        {
          "output_type": "stream",
          "name": "stdout",
          "text": [
            "222\n",
            "the number can be divided  3 times\n"
          ]
        }
      ]
    },
    {
      "cell_type": "markdown",
      "source": [
        "\n",
        "Que5 -why and how to use while loop in python give detailed description with example\n",
        "\n",
        "\n",
        "Ans - Python While Loop is used to execute a block of statements repeatedly until a given condition is satisfied. And when the condition becomes false, the line immediately after the loop in the program is executed.\n",
        "\n",
        "Syntax: \n",
        "\n",
        "while expression:\n",
        "    statement(s)\n",
        "\n",
        "While loop falls under the category of indefinite iteration. Indefinite iteration means that the number of times the loop is executed isn’t specified explicitly in advance. \n",
        "\n",
        "Statements represent all the statements indented by the same number of character spaces after a programming construct are considered to be part of a single block of code. Python uses indentation as its method of grouping statements. When a while loop is executed, expr is first evaluated in a Boolean context and if it is true, the loop body is executed. Then the expr is checked again, if it is still true then the body is executed again and this continues until the expression becomes false.    "
      ],
      "metadata": {
        "id": "zrLlDfyTM1sG"
      }
    },
    {
      "cell_type": "code",
      "source": [
        "#EXAMPLE\n",
        "# Python program to illustrate\n",
        "# while loop\n",
        "count = 0\n",
        "while (count < 3):\n",
        "    count = count + 1\n",
        "    print(\"Hello world\")"
      ],
      "metadata": {
        "id": "Yjv2dK5W50Y-",
        "colab": {
          "base_uri": "https://localhost:8080/"
        },
        "outputId": "459104e4-4c42-405b-eb2c-16cd87c9cf2c"
      },
      "execution_count": 7,
      "outputs": [
        {
          "output_type": "stream",
          "name": "stdout",
          "text": [
            "Hello world\n",
            "Hello world\n",
            "Hello world\n"
          ]
        }
      ]
    },
    {
      "cell_type": "code",
      "source": [
        "#Que 6\n",
        "# Use nested while loop to print 3 different pattern \n",
        "n = int(input('Enter number of rows : '))\n",
        " \n",
        "i = 1\n",
        "while i <= n :\n",
        "    j = 1\n",
        "    while j <= i:\n",
        "        print(\"*\", end = \" \")\n",
        "        j += 1\n",
        "    print()\n",
        "    i += 1"
      ],
      "metadata": {
        "colab": {
          "base_uri": "https://localhost:8080/"
        },
        "id": "yedvtAvhNb6C",
        "outputId": "b03f27f1-225e-4a36-c4ab-6a6218a69fff"
      },
      "execution_count": 9,
      "outputs": [
        {
          "output_type": "stream",
          "name": "stdout",
          "text": [
            "Enter number of rows : 4\n",
            "* \n",
            "* * \n",
            "* * * \n",
            "* * * * \n"
          ]
        }
      ]
    },
    {
      "cell_type": "code",
      "source": [
        "n = int(input('Enter number of rows : '))\n",
        " \n",
        "i = 1\n",
        "while i <= n :\n",
        "    j = n\n",
        "    while j >= i:\n",
        "        print(\"*\", end = \" \")\n",
        "        j -= 1\n",
        "    print()\n",
        "    i += 1"
      ],
      "metadata": {
        "colab": {
          "base_uri": "https://localhost:8080/"
        },
        "id": "xmZUkJAqPMdU",
        "outputId": "518a5e5a-b18a-4013-dee4-0417af04cc02"
      },
      "execution_count": 10,
      "outputs": [
        {
          "output_type": "stream",
          "name": "stdout",
          "text": [
            "Enter number of rows : 5\n",
            "* * * * * \n",
            "* * * * \n",
            "* * * \n",
            "* * \n",
            "* \n"
          ]
        }
      ]
    },
    {
      "cell_type": "code",
      "source": [
        "n = int(input('Enter number of rows : '))\n",
        " \n",
        "k = 1\n",
        "i = 1\n",
        "while i <= n :\n",
        "    j = 1\n",
        "    while j <= i:\n",
        "        print(\"{:3d}\".format(k), end = \" \")\n",
        "        j += 1\n",
        "        k += 1\n",
        "    print()\n",
        "    i += 1"
      ],
      "metadata": {
        "colab": {
          "base_uri": "https://localhost:8080/"
        },
        "id": "cCIgRiv2Pq8Q",
        "outputId": "b3b1dd60-572b-4c02-ba57-4e1fb97178dd"
      },
      "execution_count": 11,
      "outputs": [
        {
          "output_type": "stream",
          "name": "stdout",
          "text": [
            "Enter number of rows : 8\n",
            "  1 \n",
            "  2   3 \n",
            "  4   5   6 \n",
            "  7   8   9  10 \n",
            " 11  12  13  14  15 \n",
            " 16  17  18  19  20  21 \n",
            " 22  23  24  25  26  27  28 \n",
            " 29  30  31  32  33  34  35  36 \n"
          ]
        }
      ]
    },
    {
      "cell_type": "code",
      "source": [
        "#Que 7\n",
        "#reverse a while loop to display number from 10 to 1\n",
        "i=10 \n",
        "while i>0:\n",
        "  print (i)\n",
        "  i-=1"
      ],
      "metadata": {
        "colab": {
          "base_uri": "https://localhost:8080/"
        },
        "id": "8Y4ztkRNP1uQ",
        "outputId": "cbd94600-cd21-448d-f0fa-61d935774c97"
      },
      "execution_count": 13,
      "outputs": [
        {
          "output_type": "stream",
          "name": "stdout",
          "text": [
            "10\n",
            "9\n",
            "8\n",
            "7\n",
            "6\n",
            "5\n",
            "4\n",
            "3\n",
            "2\n",
            "1\n"
          ]
        }
      ]
    },
    {
      "cell_type": "code",
      "source": [],
      "metadata": {
        "id": "joZdPUV_QcwA"
      },
      "execution_count": null,
      "outputs": []
    }
  ]
}