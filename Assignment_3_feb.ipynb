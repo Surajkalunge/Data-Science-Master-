{
  "nbformat": 4,
  "nbformat_minor": 0,
  "metadata": {
    "colab": {
      "provenance": []
    },
    "kernelspec": {
      "name": "python3",
      "display_name": "Python 3"
    },
    "language_info": {
      "name": "python"
    }
  },
  "cells": [
    {
      "cell_type": "markdown",
      "source": [
        "Que 1 - Which keyword is used to create a function? Create a function to return a list of odd numbers in the range of 1 to 25.\n",
        "\n",
        "Ans - def keyword is used to create a function "
      ],
      "metadata": {
        "id": "P9VKt-69R-uw"
      }
    },
    {
      "cell_type": "code",
      "execution_count": 2,
      "metadata": {
        "colab": {
          "base_uri": "https://localhost:8080/"
        },
        "id": "vI-TaNW8Rq41",
        "outputId": "3f1ca926-3caf-4fe5-d74c-d329fee58bc3"
      },
      "outputs": [
        {
          "output_type": "stream",
          "name": "stdout",
          "text": [
            "[1, 3, 5, 7, 9, 11, 13, 15, 17, 19, 21, 23, 25]\n"
          ]
        }
      ],
      "source": [
        "def odd_numbers(n):\n",
        "  return [x for x in range(n + 1) if x % 2 == 1]\n",
        "print(odd_numbers(25))"
      ]
    },
    {
      "cell_type": "markdown",
      "source": [
        "Que2 -Why * args and ** kwargs is used in some functions? Create a function each for * args and ** kwargs to demonstrate their use.\n",
        "\n",
        "\n",
        "Ans -We use * args and ** kwargs as an argument when we are unsure about the number of arguments to pass in the functions.\n",
        "\n",
        "The special syntax *args in function definitions in python is used to pass a variable number of arguments to a function. It is used to pass a non-key worded, variable-length argument list. \n",
        "\n",
        "The special syntax **kwargs in function definitions in python is used to pass a keyworded, variable-length argument list. We use the name kwargs with the double star. The reason is that the double star allows us to pass through keyword arguments (and any number of them)."
      ],
      "metadata": {
        "id": "fAjBIeueTtft"
      }
    },
    {
      "cell_type": "code",
      "source": [
        "def test1(*args):\n",
        "    return args\n",
        "test1(1,2,3,4,5, \"data science\",\"arguments\" )"
      ],
      "metadata": {
        "colab": {
          "base_uri": "https://localhost:8080/"
        },
        "id": "Yiw_3uWqTswH",
        "outputId": "e9ac3de8-bafa-42a4-a604-22043f317e45"
      },
      "execution_count": 3,
      "outputs": [
        {
          "output_type": "execute_result",
          "data": {
            "text/plain": [
              "(1, 2, 3, 4, 5, 'data science', 'arguments')"
            ]
          },
          "metadata": {},
          "execution_count": 3
        }
      ]
    },
    {
      "cell_type": "code",
      "source": [
        "def test2(**kargs):\n",
        "  return kargs\n",
        "test2(a='python', b=[1,2,3,4,5],c=\"data science \")"
      ],
      "metadata": {
        "colab": {
          "base_uri": "https://localhost:8080/"
        },
        "id": "Wigan2RhTbF_",
        "outputId": "05848cb8-1151-4a72-8bc7-a6fc0e0df4dd"
      },
      "execution_count": 5,
      "outputs": [
        {
          "output_type": "execute_result",
          "data": {
            "text/plain": [
              "{'a': 'python', 'b': [1, 2, 3, 4, 5], 'c': 'data science '}"
            ]
          },
          "metadata": {},
          "execution_count": 5
        }
      ]
    },
    {
      "cell_type": "markdown",
      "source": [
        "Q3. What is an iterator in python? Name the method used to initialise the iterator object and the method used for iteration. Use these methods to print the first five elements of the given list [2, 4, 6, 8, 10, 12, 14,\n",
        "16, 18, 20].\n",
        "\n",
        "Ans-Iterator in Python is an object that is used to iterate over iterable objects like lists, tuples, dicts, and sets. The iterator object is initialized using the iter() method. It uses the next() method for iteration.\n",
        "\n",
        "__iter__(): The iter() method is called for the initialization of an iterator. This returns an iterator object\n",
        "\n",
        "__next__(): The next method returns the next value for the iterable. When we use a for loop to traverse any iterable object, internally it uses the iter() method to get an iterator object, which further uses the next() method to iterate over. This method raises a StopIteration to signal the end of the\n",
        "iteration"
      ],
      "metadata": {
        "id": "mVnf-10WXHdh"
      }
    },
    {
      "cell_type": "code",
      "source": [
        "l=[2,4,6,8,10,12,14,16,18,20]\n",
        "l[:5:]"
      ],
      "metadata": {
        "colab": {
          "base_uri": "https://localhost:8080/"
        },
        "id": "OTuhzvNKW2_e",
        "outputId": "c7ad70a2-abb9-4872-dd2a-a25974c5041d"
      },
      "execution_count": 46,
      "outputs": [
        {
          "output_type": "execute_result",
          "data": {
            "text/plain": [
              "[2, 4, 6, 8, 10]"
            ]
          },
          "metadata": {},
          "execution_count": 46
        }
      ]
    },
    {
      "cell_type": "markdown",
      "source": [
        "Q4.What is a generator function in python? Why yield keyword is used? Give an example of a generator function.\n",
        "\n",
        "In Python, a generator is a function that returns an iterator that produces a sequence of values when iterated over. Generators are useful when we want to produce a large sequence of values, but we don't want to store all of them in memory at once.\n",
        "\n",
        "yield keyword is used to create a generator function. A type of function that is memory efficient and can be used like an iterator object. In layman terms, the yield keyword will turn any expression that is given with it into a generator object and return it to the caller."
      ],
      "metadata": {
        "id": "1_JpVkgOvm0I"
      }
    },
    {
      "cell_type": "code",
      "source": [
        "def mygenerator(n):\n",
        "   for i in range(1, n, 1):\n",
        "    yield i**3"
      ],
      "metadata": {
        "id": "wloPuKdtrcTE"
      },
      "execution_count": 68,
      "outputs": []
    },
    {
      "cell_type": "code",
      "source": [
        " for i in mygenerator(10):\n",
        "   print(i)"
      ],
      "metadata": {
        "colab": {
          "base_uri": "https://localhost:8080/"
        },
        "id": "wkCLbyJPyLLH",
        "outputId": "90b3611b-c2a9-4ee5-e638-5c8aa8b10417"
      },
      "execution_count": 69,
      "outputs": [
        {
          "output_type": "stream",
          "name": "stdout",
          "text": [
            "1\n",
            "8\n",
            "27\n",
            "64\n",
            "125\n",
            "216\n",
            "343\n",
            "512\n",
            "729\n"
          ]
        }
      ]
    },
    {
      "cell_type": "markdown",
      "source": [
        "Q5. Create a generator function for prime numbers less than 1000. Use the next() method to print the first 20 prime numbers."
      ],
      "metadata": {
        "id": "Bgwbt0RSzgzD"
      }
    },
    {
      "cell_type": "code",
      "source": [
        "def prime_num(n=1000):\n",
        "  for i in range(2 ,n+1):\n",
        "    if i==2:\n",
        "      yield i\n",
        "    else:\n",
        "        for j in range (2,i//2+1):\n",
        "          if i%j==0:\n",
        "              break\n",
        "        else:\n",
        "             yield i\n",
        "l =prime_num()\n",
        "print(list(l))\n",
        "print(\" \")\n",
        "x=prime_num()\n",
        "for i in range (1,21):\n",
        "   print(next(x), end=\" \")\n",
        " "
      ],
      "metadata": {
        "colab": {
          "base_uri": "https://localhost:8080/"
        },
        "id": "nFpF-Odw1DEe",
        "outputId": "f6ddf10e-27fd-4798-e349-0391c50b513d"
      },
      "execution_count": 79,
      "outputs": [
        {
          "output_type": "stream",
          "name": "stdout",
          "text": [
            "[2, 3, 5, 7, 11, 13, 17, 19, 23, 29, 31, 37, 41, 43, 47, 53, 59, 61, 67, 71, 73, 79, 83, 89, 97, 101, 103, 107, 109, 113, 127, 131, 137, 139, 149, 151, 157, 163, 167, 173, 179, 181, 191, 193, 197, 199, 211, 223, 227, 229, 233, 239, 241, 251, 257, 263, 269, 271, 277, 281, 283, 293, 307, 311, 313, 317, 331, 337, 347, 349, 353, 359, 367, 373, 379, 383, 389, 397, 401, 409, 419, 421, 431, 433, 439, 443, 449, 457, 461, 463, 467, 479, 487, 491, 499, 503, 509, 521, 523, 541, 547, 557, 563, 569, 571, 577, 587, 593, 599, 601, 607, 613, 617, 619, 631, 641, 643, 647, 653, 659, 661, 673, 677, 683, 691, 701, 709, 719, 727, 733, 739, 743, 751, 757, 761, 769, 773, 787, 797, 809, 811, 821, 823, 827, 829, 839, 853, 857, 859, 863, 877, 881, 883, 887, 907, 911, 919, 929, 937, 941, 947, 953, 967, 971, 977, 983, 991, 997]\n",
            " \n",
            "2 3 5 7 11 13 17 19 23 29 31 37 41 43 47 53 59 61 67 71 "
          ]
        }
      ]
    },
    {
      "cell_type": "code",
      "source": [
        "#Q6.Write a python program to print the first 10 Fibonacci numbers using a while loop.\n",
        "#fibonacci series\n",
        "number= int(input(\"enter the number of element you are looking for \"))\n",
        "a,b = 0,1\n",
        "counter =0\n",
        "while counter <number :\n",
        "  print(a)\n",
        "  c=a+b\n",
        "  a=b\n",
        "  b=c\n",
        "  counter = counter +1"
      ],
      "metadata": {
        "colab": {
          "base_uri": "https://localhost:8080/"
        },
        "id": "d4ruY2syzOMJ",
        "outputId": "bc037f9e-8c2b-48f7-bc55-c7e861662786"
      },
      "execution_count": 70,
      "outputs": [
        {
          "output_type": "stream",
          "name": "stdout",
          "text": [
            "enter the number of element you are looking for 10\n",
            "0\n",
            "1\n",
            "1\n",
            "2\n",
            "3\n",
            "5\n",
            "8\n",
            "13\n",
            "21\n",
            "34\n"
          ]
        }
      ]
    },
    {
      "cell_type": "code",
      "source": [
        "#Q7. Write a List Comprehension to iterate through the given string: ‘pwskills’.\n",
        "#Expected output: ['p', 'w', 's', 'k', 'i', 'l', 'l', 's']\n",
        "l= [i for i in  'pwskills']\n",
        "print (l)\n"
      ],
      "metadata": {
        "colab": {
          "base_uri": "https://localhost:8080/"
        },
        "id": "WjkY65aF0sFC",
        "outputId": "e2132489-33ad-4527-b09b-e4525d2993f8"
      },
      "execution_count": 95,
      "outputs": [
        {
          "output_type": "stream",
          "name": "stdout",
          "text": [
            "['p', 'w', 's', 'k', 'i', 'l', 'l', 's']\n"
          ]
        }
      ]
    },
    {
      "cell_type": "code",
      "source": [
        "#Q8. Write a python program to check whether a given number is Palindrome or not using a while loop.\n",
        "n=int(input(\"Enter number:\"))\n",
        "temp=n\n",
        "rev=0\n",
        "while(n>0):\n",
        "    dig=n%10\n",
        "    rev=rev*10+dig\n",
        "    n=n//10\n",
        "if(temp==rev):\n",
        "    print(\"The number is a palindrome!\")\n",
        "else:\n",
        "    print(\"The number isn't a palindrome!\")"
      ],
      "metadata": {
        "colab": {
          "base_uri": "https://localhost:8080/"
        },
        "id": "TGrsqRkjDOae",
        "outputId": "1b60beb9-a341-41c6-d669-ea2e1a8bd196"
      },
      "execution_count": 101,
      "outputs": [
        {
          "output_type": "stream",
          "name": "stdout",
          "text": [
            "Enter number:22\n",
            "The number is a palindrome!\n"
          ]
        }
      ]
    },
    {
      "cell_type": "code",
      "source": [
        "#Q9. Write a code to print odd numbers from 1 to 100 using list comprehension.\n",
        "l1 = list(range(1,100))\n",
        "\n",
        "[i for i in l1 if i % 2== 1 ]"
      ],
      "metadata": {
        "colab": {
          "base_uri": "https://localhost:8080/"
        },
        "id": "Unnj-NgoDyRu",
        "outputId": "42859e4d-ab55-4f10-fd64-f2aaee6f1534"
      },
      "execution_count": 124,
      "outputs": [
        {
          "output_type": "execute_result",
          "data": {
            "text/plain": [
              "[1,\n",
              " 3,\n",
              " 5,\n",
              " 7,\n",
              " 9,\n",
              " 11,\n",
              " 13,\n",
              " 15,\n",
              " 17,\n",
              " 19,\n",
              " 21,\n",
              " 23,\n",
              " 25,\n",
              " 27,\n",
              " 29,\n",
              " 31,\n",
              " 33,\n",
              " 35,\n",
              " 37,\n",
              " 39,\n",
              " 41,\n",
              " 43,\n",
              " 45,\n",
              " 47,\n",
              " 49,\n",
              " 51,\n",
              " 53,\n",
              " 55,\n",
              " 57,\n",
              " 59,\n",
              " 61,\n",
              " 63,\n",
              " 65,\n",
              " 67,\n",
              " 69,\n",
              " 71,\n",
              " 73,\n",
              " 75,\n",
              " 77,\n",
              " 79,\n",
              " 81,\n",
              " 83,\n",
              " 85,\n",
              " 87,\n",
              " 89,\n",
              " 91,\n",
              " 93,\n",
              " 95,\n",
              " 97,\n",
              " 99]"
            ]
          },
          "metadata": {},
          "execution_count": 124
        }
      ]
    },
    {
      "cell_type": "code",
      "source": [],
      "metadata": {
        "id": "zckt0gIUHA-1"
      },
      "execution_count": null,
      "outputs": []
    }
  ]
}