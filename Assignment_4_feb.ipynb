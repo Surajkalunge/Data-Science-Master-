{
  "nbformat": 4,
  "nbformat_minor": 0,
  "metadata": {
    "colab": {
      "provenance": []
    },
    "kernelspec": {
      "name": "python3",
      "display_name": "Python 3"
    },
    "language_info": {
      "name": "python"
    }
  },
  "cells": [
    {
      "cell_type": "code",
      "execution_count": 2,
      "metadata": {
        "colab": {
          "base_uri": "https://localhost:8080/"
        },
        "id": "XooHmhzwAFqP",
        "outputId": "59bd5591-7fca-44b6-f8bc-5b6f6e6818d3"
      },
      "outputs": [
        {
          "output_type": "stream",
          "name": "stdout",
          "text": [
            "[('Virat Kohli', 24936), ('Jack Kallis', 25534), ('Ricky Ponting', 27483), ('Sachin Tendulkar', 34357)]\n"
          ]
        }
      ],
      "source": [
        "#Q1. Create a python program to sort the given list of tuples based on integer value using a\n",
        "#lambda function.\n",
        "l =[('Sachin Tendulkar', 34357), ('Ricky Ponting', 27483), ('Jack Kallis', 25534), ('Virat Kohli', 24936)]\n",
        "sorted_list=sorted(l, key=lambda x:x[1])\n",
        "print(sorted_list)"
      ]
    },
    {
      "cell_type": "code",
      "source": [
        "#Q2. Write a Python Program to find the squares of all the numbers in the given list of integers using\n",
        "#lambda and map functions.\n",
        "l1=[1, 2, 3, 4, 5, 6, 7, 8, 9, 10]\n",
        "list(map(lambda x : x**2 , l1))"
      ],
      "metadata": {
        "colab": {
          "base_uri": "https://localhost:8080/"
        },
        "id": "bWlg7EGiBwkL",
        "outputId": "2a71d41f-3011-497a-a84a-87b27b756cb4"
      },
      "execution_count": 3,
      "outputs": [
        {
          "output_type": "execute_result",
          "data": {
            "text/plain": [
              "[1, 4, 9, 16, 25, 36, 49, 64, 81, 100]"
            ]
          },
          "metadata": {},
          "execution_count": 3
        }
      ]
    },
    {
      "cell_type": "code",
      "source": [
        "#Q3. Write a python program to convert the given list of integers into a tuple of strings. Use map and\n",
        "#lambda functions\n",
        "s=[1, 2, 3, 4, 5, 6, 7, 8, 9, 10]\n",
        "\n",
        "tuple(map(str, s))\n",
        "\n"
      ],
      "metadata": {
        "colab": {
          "base_uri": "https://localhost:8080/"
        },
        "id": "9rs_sUhPKKCV",
        "outputId": "8fb12df0-6f91-4ede-bef3-87a57a88ea58"
      },
      "execution_count": 14,
      "outputs": [
        {
          "output_type": "execute_result",
          "data": {
            "text/plain": [
              "('1', '2', '3', '4', '5', '6', '7', '8', '9', '10')"
            ]
          },
          "metadata": {},
          "execution_count": 14
        }
      ]
    },
    {
      "cell_type": "code",
      "source": [
        "#Q4. Write a python program using reduce function to compute the product of a list containing numbers from 1 to 25.\n",
        "from functools import  reduce\n",
        "L=list(range(1,25))\n",
        "reduce(lambda x ,y : x*y , L)\n"
      ],
      "metadata": {
        "colab": {
          "base_uri": "https://localhost:8080/"
        },
        "id": "HdVNMhCyLF1d",
        "outputId": "46a38795-06ab-4c84-83b6-3fa88862cbe3"
      },
      "execution_count": 17,
      "outputs": [
        {
          "output_type": "execute_result",
          "data": {
            "text/plain": [
              "620448401733239439360000"
            ]
          },
          "metadata": {},
          "execution_count": 17
        }
      ]
    },
    {
      "cell_type": "code",
      "source": [
        "#Q5. Write a python program to filter the numbers in a given list that are divisible by 2 and 3 using the filter function.\n",
        "l3=[2, 3, 6, 9, 27, 60, 90, 120, 55, 46]\n",
        "list(filter(lambda x : x % 2 == 0 and x % 3==0 , l3))"
      ],
      "metadata": {
        "colab": {
          "base_uri": "https://localhost:8080/"
        },
        "id": "KIBtGnG-NiQI",
        "outputId": "9c01e785-9c0f-462b-d77a-e249e13b80f0"
      },
      "execution_count": 20,
      "outputs": [
        {
          "output_type": "execute_result",
          "data": {
            "text/plain": [
              "[6, 60, 90, 120]"
            ]
          },
          "metadata": {},
          "execution_count": 20
        }
      ]
    },
    {
      "cell_type": "code",
      "source": [
        "#Q6. Write a python program to find palindromes in the given list of strings using lambda and filter function.\n",
        "l4=['python', 'php', 'aba', 'radar', 'level']\n",
        "list(filter(lambda x: (x == \"\".join(reversed(x))), l4)) "
      ],
      "metadata": {
        "colab": {
          "base_uri": "https://localhost:8080/"
        },
        "id": "8KbOLA24OYpk",
        "outputId": "6ffc2814-b08c-4d6a-c8e1-0fed86294260"
      },
      "execution_count": 23,
      "outputs": [
        {
          "output_type": "execute_result",
          "data": {
            "text/plain": [
              "['php', 'aba', 'radar', 'level']"
            ]
          },
          "metadata": {},
          "execution_count": 23
        }
      ]
    },
    {
      "cell_type": "code",
      "source": [],
      "metadata": {
        "id": "Q6kZGOJWPG_a"
      },
      "execution_count": null,
      "outputs": []
    }
  ]
}