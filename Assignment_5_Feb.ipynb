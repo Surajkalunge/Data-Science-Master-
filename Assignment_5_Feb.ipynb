{
  "nbformat": 4,
  "nbformat_minor": 0,
  "metadata": {
    "colab": {
      "provenance": []
    },
    "kernelspec": {
      "name": "python3",
      "display_name": "Python 3"
    },
    "language_info": {
      "name": "python"
    }
  },
  "cells": [
    {
      "cell_type": "markdown",
      "source": [
        "Q1. Explain Class and Object with respect to Object-Oriented Programming. Give a suitable example\n",
        "\n",
        "Ans -Object-oriented programming (OOP) can be seen as a method of encapsulating related properties and behaviors using a special construct called classes into single entities called objects.\n",
        "\n",
        "When we hear of OOP, the first thing that comes to mind is Classes and Objects. Before we delve into what these are, let’s see a real-life example. Imagine an architect who creates a blueprint of a house that shows the dimensions, structure, number of rooms, and other details of the house\n",
        "\n",
        "We can think of the blueprint as a class, and the house attributes to be the doors, windows, roof, walls, floor, etc, and a house can have the following actions such as opening/closing the door and window, shielding from the sun, etc.\n",
        "\n",
        "Each time a new house is built from this blueprint, we are actually creating an instance of the class. Now, each house can have different values for its attributes like the color of the walls, the thickness of the doors and windows, etc."
      ],
      "metadata": {
        "id": "jqE7j1jnF7aD"
      }
    },
    {
      "cell_type": "markdown",
      "source": [
        "Q2. Name the four pillars of OOPs.\n",
        "\n",
        "Ans-The four pillars of object-oriented programming are:\n",
        "\n",
        "Abstraction\n",
        "\n",
        "Encapsulation\n",
        "\n",
        "Inheritance\n",
        "\n",
        "Polymorphism"
      ],
      "metadata": {
        "id": "HI1EBG-qIcXS"
      }
    },
    {
      "cell_type": "markdown",
      "source": [
        "Q3. Explain why the __init__() function is used. Give a suitable example.\n",
        "\n",
        "Ans-The __init__ method is similar to constructors in C++ and Java. Constructors are used to initialize the object’s state. Like methods, a constructor also contains a collection of statements(i.e. instructions) that are executed at the time of Object creation. It runs as soon as an object of a class is instantiated. The method is useful to do any initialization you want to do with your object."
      ],
      "metadata": {
        "id": "lTqIgnE0HORf"
      }
    },
    {
      "cell_type": "code",
      "execution_count": 1,
      "metadata": {
        "colab": {
          "base_uri": "https://localhost:8080/"
        },
        "id": "BOcDKUS5FuYd",
        "outputId": "af07d082-9801-428f-80a5-737c4e2faaaa"
      },
      "outputs": [
        {
          "output_type": "stream",
          "name": "stdout",
          "text": [
            "Hello, my name is Akash\n"
          ]
        }
      ],
      "source": [
        "class Person:\n",
        "    def __init__(self, name):\n",
        "        self.name = name\n",
        "    def say_hi(self):\n",
        "        print('Hello, my name is', self.name)\n",
        " \n",
        " \n",
        "p = Person('Akash')\n",
        "p.say_hi()\n",
        "\n"
      ]
    },
    {
      "cell_type": "markdown",
      "source": [
        "Q4. Why self is used in OOPs?\n",
        "\n",
        "Ans-self represents the instance of the class. By using the “self”  we can access the attributes and methods of the class in python. It binds the attributes with the given arguments.\n",
        "\n",
        "The reason you need to use self. is because Python does not use the @ syntax to refer to instance attributes. Python decided to do methods in a way that makes the instance to which the method belongs be passed automatically, but not received automatically: the first parameter of methods is the instance the method is called on."
      ],
      "metadata": {
        "id": "-DfyY4kII0uE"
      }
    },
    {
      "cell_type": "markdown",
      "source": [
        "Q5. What is inheritance? Give an example for each type of inheritance.\n",
        "\n",
        "Ans-Inheritance allows us to define a class that inherits all the methods and properties from another class.\n",
        "\n",
        "Parent class is the class being inherited from, also called base class.\n",
        "\n",
        "Child class is the class that inherits from another class, also called derived class."
      ],
      "metadata": {
        "id": "ape4v7KSKUr6"
      }
    },
    {
      "cell_type": "code",
      "source": [
        "#create a parent class \n",
        "class Person:\n",
        "  def __init__(self, first_name , last_name, phone_number):\n",
        "    self.first_name = first_name \n",
        "    self.last_name = last_name \n",
        "    self.phone_number= phone_number\n",
        "  def print_detail(self):\n",
        "    print( self.first_name, self.last_name ,self.phone_number)\n",
        "\n",
        "x = Person(\"suraj\",\"k\",544595694)\n",
        "x.print_detail()"
      ],
      "metadata": {
        "colab": {
          "base_uri": "https://localhost:8080/"
        },
        "id": "uBA4Ji9wIJ62",
        "outputId": "d1a73b15-896a-484d-f734-cbba659ba46b"
      },
      "execution_count": 4,
      "outputs": [
        {
          "output_type": "stream",
          "name": "stdout",
          "text": [
            "suraj k 544595694\n"
          ]
        }
      ]
    },
    {
      "cell_type": "code",
      "source": [
        "#create child class\n",
        "class student(Person):\n",
        "  pass"
      ],
      "metadata": {
        "id": "vGq2tjC6TnKh"
      },
      "execution_count": 5,
      "outputs": []
    },
    {
      "cell_type": "code",
      "source": [
        "x = student(\"rushi\", \"k\",55848548568)\n",
        "x.print_detail()"
      ],
      "metadata": {
        "colab": {
          "base_uri": "https://localhost:8080/"
        },
        "id": "X7fihp-pUHFP",
        "outputId": "5219b37e-6b0a-4e69-aef8-110d330eba77"
      },
      "execution_count": 9,
      "outputs": [
        {
          "output_type": "stream",
          "name": "stdout",
          "text": [
            "rushi k 55848548568\n"
          ]
        }
      ]
    },
    {
      "cell_type": "code",
      "source": [],
      "metadata": {
        "id": "RAwyEOBJUSCr"
      },
      "execution_count": null,
      "outputs": []
    }
  ]
}