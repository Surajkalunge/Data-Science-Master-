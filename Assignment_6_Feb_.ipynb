{
  "nbformat": 4,
  "nbformat_minor": 0,
  "metadata": {
    "colab": {
      "provenance": []
    },
    "kernelspec": {
      "name": "python3",
      "display_name": "Python 3"
    },
    "language_info": {
      "name": "python"
    }
  },
  "cells": [
    {
      "cell_type": "code",
      "execution_count": 41,
      "metadata": {
        "colab": {
          "base_uri": "https://localhost:8080/"
        },
        "id": "k_KwSoSHl7v2",
        "outputId": "b39de874-6c40-4cb4-82d3-8e63e75759d1"
      },
      "outputs": [
        {
          "output_type": "stream",
          "name": "stdout",
          "text": [
            "[44, 55, 66, True, 34, 56, 78, 89, 34, 1, 2, 3, 1, 34, (1, 34), 'key2', 55, 67, 78, 89, ('key2', [55, 67, 78, 89]), 4, 45, 22, 61, 34, (4, (45, 22, 61, 34)), 56, 'data science']\n",
            "172279659957795228284743385088000\n"
          ]
        }
      ],
      "source": [
        "from prompt_toolkit.application.application import signal\n",
        "#Q1. Create a function which will take a list as an argument and return the product of all the numbers after creating a flat list.\n",
        "#Use the below-given list as an argument for your function.\n",
        "l1 = [1,2,3,4, [44,55,66, True], False, (34,56,78,89,34), {1,2,3,3,2,1}, {1:34, \"key2\": [55, 67, 78, 89], 4: (45,\n",
        "22, 61, 34)}, [56, 'data science'], 'Machine Learning']\n",
        "def flatlist(l1):\n",
        "  flist=[]\n",
        "  for i in l1:\n",
        "     if type(i) ==list or type(i)== tuple or type(i)== set:\n",
        "       for element in i:\n",
        "         flist.append(element)\n",
        "     elif type(i)==dict:\n",
        "       temp_list=list(i.items())\n",
        "       for i in temp_list:\n",
        "         for element in i:\n",
        "           if type(element)==list or type(element)==tuple:\n",
        "             for j in element:\n",
        "               flist.append(j)\n",
        "           else:\n",
        "             flist.append(element)\n",
        "         else:\n",
        "           flist.append(i)\n",
        "  return flist\n",
        "list2=flatlist(l1)\n",
        "print(list2)\n",
        "a=1\n",
        "for i in list2:\n",
        "  if type(i)==int:\n",
        "    a=a*i\n",
        "print(a)\n",
        "\n"
      ]
    },
    {
      "cell_type": "markdown",
      "source": [
        "Q2. Write a python program for encrypting a message sent to you by your friend. The logic of encryption\n",
        "should be such that, for a the output should be z. For b, the output should be y. For c, the output should\n",
        "be x respectively. Also, the whitespace should be replaced with a dollar sign. Keep the punctuation\n",
        "marks unchanged.\n",
        "Input Sentence: I want to become a Data Scientist.\n",
        "Encrypt the above input sentence using the program you just created."
      ],
      "metadata": {
        "id": "PC1EWZYOB6MH"
      }
    },
    {
      "cell_type": "code",
      "source": [
        "def encrypt_message(message):\n",
        "  encrypted_message = \"\"\n",
        "  for char in message:\n",
        "    if char =='':\n",
        "      encrypted_message +=\"$\"\n",
        "    elif char.isalpha():\n",
        "      encrypted_message +=chr(ord('z')-ord(char.lower())+ord('a'))\n",
        "    else:\n",
        "      encrypted_message += char\n",
        "  return encrypted_message\n",
        "\n",
        "message = input(\"Enter a message to encrypt: \")\n",
        "encrypted_message = encrypt_message(message)\n",
        "print(\"encrypted message: \" ,encrypted_message)"
      ],
      "metadata": {
        "colab": {
          "base_uri": "https://localhost:8080/"
        },
        "id": "4WuzdNqKB7j3",
        "outputId": "90267808-1f26-401d-d8df-9564bbcf27ff"
      },
      "execution_count": 57,
      "outputs": [
        {
          "output_type": "stream",
          "name": "stdout",
          "text": [
            "Enter a message to encrypt: i want to become a data scientist.\n",
            "encrypted message:  r dzmg gl yvxlnv z wzgz hxrvmgrhg.\n"
          ]
        }
      ]
    },
    {
      "cell_type": "code",
      "source": [],
      "metadata": {
        "id": "4d5ODU11M1le"
      },
      "execution_count": null,
      "outputs": []
    }
  ]
}