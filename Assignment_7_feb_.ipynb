{
  "nbformat": 4,
  "nbformat_minor": 0,
  "metadata": {
    "colab": {
      "provenance": []
    },
    "kernelspec": {
      "name": "python3",
      "display_name": "Python 3"
    },
    "language_info": {
      "name": "python"
    }
  },
  "cells": [
    {
      "cell_type": "markdown",
      "source": [
        "Q1. You are writing code for a company. The requirement of the company is that you create a python\n",
        "function that will check whether the password entered by the user is correct or not. The function should\n",
        "take the password as input and return the string “Valid Password” if the entered password follows the\n",
        "below-given password guidelines else it should return “Invalid Password”.\n",
        "Note: 1. The Password should contain at least two uppercase letters and at least two lowercase letters.\n",
        "2. The Password should contain at least a number and three special characters.\n",
        "3. The length of the password should be 10 characters long."
      ],
      "metadata": {
        "id": "m60AZwPLHlDb"
      }
    },
    {
      "cell_type": "code",
      "execution_count": null,
      "metadata": {
        "colab": {
          "base_uri": "https://localhost:8080/"
        },
        "id": "U-tvDHBvHiZz",
        "outputId": "84c50403-e2ad-4237-f934-7c6ffee38427"
      },
      "outputs": [
        {
          "output_type": "stream",
          "name": "stdout",
          "text": [
            "Enter password SUraj@#$10\n",
            "valid password\n"
          ]
        }
      ],
      "source": [
        "def check_password(password):\n",
        "  upper_count =0\n",
        "  lower_count =0\n",
        "  number_count=0\n",
        "  special_count=0\n",
        "\n",
        "  for chr in password :\n",
        "    if chr.isdigit():\n",
        "      number_count +=1\n",
        "    elif chr.isupper():\n",
        "      upper_count+=1\n",
        "    elif chr.islower():\n",
        "      lower_count+=1\n",
        "    elif chr in \"@#$%^&*=\":\n",
        "      special_count +=1\n",
        "  if upper_count >=2 and lower_count >=2 and special_count >=3 and number_count >=1 and len(password)>=10:\n",
        "    return \"valid password\"\n",
        "  else:\n",
        "    return \"invalid password\"\n",
        "password = input(\"Enter password \")\n",
        "print(check_password(password))"
      ]
    },
    {
      "cell_type": "markdown",
      "source": [
        "Q2. Solve the below-given questions using at least one of the following:\n",
        "1. Lambda function\n",
        "2. Filter function\n",
        "3. map function\n",
        "4. List Comprehension\n",
        "\n",
        " Check if the string starts with a particular letter \n",
        "\n",
        " Check if the string is numeric\n",
        "\n",
        "Sort a list of tuples having fruit \n",
        "names and their quantity.\n",
        " [(\"mango\",99),(\"orange\",80), (\"grapes\", 1000)-\n",
        "\n",
        " Find the squares of numbers from 1 to 10\n",
        "\n",
        "Find the cube root of numbers from 1 to 10\n",
        "Check if a given number is even\n",
        "\n",
        "Filter odd numbers from the given list.\n",
        "[1,2,3,4,5,6,7,8,9,10]\n",
        "\n",
        " Sort a list of integers into positive and negative integers lists.\n",
        "[1,2,3,4,5,6,-1,-2,-3,-4,-5,0]\n",
        "\n",
        "\n",
        "\n"
      ],
      "metadata": {
        "id": "jDT-9QorZb81"
      }
    },
    {
      "cell_type": "code",
      "source": [
        "#Filter odd numbers from the given list.\n",
        " l=[1,2,3,4,5,6,7,8,9,10]\n",
        " list(filter(lambda x : x % 2 != 0 , l))"
      ],
      "metadata": {
        "colab": {
          "base_uri": "https://localhost:8080/"
        },
        "id": "W72xRIuIH6SH",
        "outputId": "a21673f2-fa92-4122-f256-9c32a25cfed8"
      },
      "execution_count": null,
      "outputs": [
        {
          "output_type": "execute_result",
          "data": {
            "text/plain": [
              "[1, 3, 5, 7, 9]"
            ]
          },
          "metadata": {},
          "execution_count": 3
        }
      ]
    },
    {
      "cell_type": "code",
      "source": [
        "#Find the squares of numbers from 1 to 10\n",
        "list(map(lambda x : x**2 , l))"
      ],
      "metadata": {
        "colab": {
          "base_uri": "https://localhost:8080/"
        },
        "id": "wFfHrtVsbrOU",
        "outputId": "afdfef62-fed1-4b56-a143-a3a9e02a2247"
      },
      "execution_count": null,
      "outputs": [
        {
          "output_type": "execute_result",
          "data": {
            "text/plain": [
              "[1, 4, 9, 16, 25, 36, 49, 64, 81, 100]"
            ]
          },
          "metadata": {},
          "execution_count": 27
        }
      ]
    },
    {
      "cell_type": "code",
      "source": [
        "#Sort a list of integers into positive and negative integers lists\n",
        "l1=[1,2,3,4,5,6,-1,-2,-3,-4,-5,0]\n",
        "list(filter(lambda x :  x<0  , l1))"
      ],
      "metadata": {
        "colab": {
          "base_uri": "https://localhost:8080/"
        },
        "id": "QU_hzBWzb6-x",
        "outputId": "7bca4b69-da68-4816-92d7-a6c6f6215f46"
      },
      "execution_count": null,
      "outputs": [
        {
          "output_type": "execute_result",
          "data": {
            "text/plain": [
              "[-1, -2, -3, -4, -5]"
            ]
          },
          "metadata": {},
          "execution_count": 20
        }
      ]
    },
    {
      "cell_type": "code",
      "source": [
        "list(filter(lambda x :  x>0  , l1))"
      ],
      "metadata": {
        "colab": {
          "base_uri": "https://localhost:8080/"
        },
        "id": "p4k21INpcepo",
        "outputId": "804d0ac4-ef52-4718-9e69-a769aa4820f0"
      },
      "execution_count": null,
      "outputs": [
        {
          "output_type": "execute_result",
          "data": {
            "text/plain": [
              "[1, 2, 3, 4, 5, 6]"
            ]
          },
          "metadata": {},
          "execution_count": 22
        }
      ]
    },
    {
      "cell_type": "code",
      "source": [
        "#ind the cube root of numbers from 1 to 10 Check if a given number is even\n",
        "import math\n",
        "[round(math.exp(math.log(i)/3), 6)  for i in l if i % 2 ==0 ]"
      ],
      "metadata": {
        "colab": {
          "base_uri": "https://localhost:8080/"
        },
        "id": "xguj0kBjfJ9f",
        "outputId": "ccba01ca-99a3-430f-9436-18b4757e0ee7"
      },
      "execution_count": null,
      "outputs": [
        {
          "output_type": "execute_result",
          "data": {
            "text/plain": [
              "[1.259921, 1.587401, 1.817121, 2.0, 2.154435]"
            ]
          },
          "metadata": {},
          "execution_count": 26
        }
      ]
    },
    {
      "cell_type": "code",
      "source": [
        "#Sort a list of tuples having fruit names and their quantity.\n",
        "l3= [(\"mango\",99),(\"orange\",80), (\"grapes\", 1000)]\n",
        "sorted_list = sorted(l3, key=lambda x:x[1])\n",
        "print (sorted_list)"
      ],
      "metadata": {
        "colab": {
          "base_uri": "https://localhost:8080/"
        },
        "id": "Oj0G4i0nmAhY",
        "outputId": "c28be801-72cd-4b76-fa66-7ebb073e5c4d"
      },
      "execution_count": null,
      "outputs": [
        {
          "output_type": "stream",
          "name": "stdout",
          "text": [
            "[('orange', 80), ('mango', 99), ('grapes', 1000)]\n"
          ]
        }
      ]
    },
    {
      "cell_type": "code",
      "source": [
        "#Check if the string is numeric\n",
        "x=\"34348384\"\n",
        "x.isnumeric() \n"
      ],
      "metadata": {
        "colab": {
          "base_uri": "https://localhost:8080/"
        },
        "id": "XlybHpyrsj3x",
        "outputId": "15978cf6-8bc0-41d2-a9e5-4ec655f7fdb5"
      },
      "execution_count": 46,
      "outputs": [
        {
          "output_type": "execute_result",
          "data": {
            "text/plain": [
              "True"
            ]
          },
          "metadata": {},
          "execution_count": 46
        }
      ]
    },
    {
      "cell_type": "code",
      "source": [
        "#Check if the string starts with a particular letter\n",
        "s=\"I am data science student\"\n",
        "s.startswith(\"I\")"
      ],
      "metadata": {
        "id": "6ZQl-IAVuTvu",
        "colab": {
          "base_uri": "https://localhost:8080/"
        },
        "outputId": "adc82eae-b570-47fc-83e7-7e2df6354750"
      },
      "execution_count": 49,
      "outputs": [
        {
          "output_type": "execute_result",
          "data": {
            "text/plain": [
              "True"
            ]
          },
          "metadata": {},
          "execution_count": 49
        }
      ]
    },
    {
      "cell_type": "code",
      "source": [],
      "metadata": {
        "id": "bQxUcS0owHtd"
      },
      "execution_count": null,
      "outputs": []
    }
  ]
}