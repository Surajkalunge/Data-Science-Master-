{
  "nbformat": 4,
  "nbformat_minor": 0,
  "metadata": {
    "colab": {
      "provenance": []
    },
    "kernelspec": {
      "name": "python3",
      "display_name": "Python 3"
    },
    "language_info": {
      "name": "python"
    }
  },
  "cells": [
    {
      "cell_type": "markdown",
      "source": [
        "Q1. What is the Probability density function?\n",
        "\n",
        "Probability density function (PDF) is a statistical expression that defines a probability distribution (the likelihood of an outcome) for a discrete random variable (e.g., a stock or ETF) as opposed to a continuous random variable. The difference between a discrete random variable is that you can identify an exact value of the variable.\n",
        "\n",
        "The normal distribution is a common example of a PDF, forming the well-known bell curve shape.\n"
      ],
      "metadata": {
        "id": "bjYuMU-v7Grz"
      }
    },
    {
      "cell_type": "markdown",
      "source": [
        "Q2. What are the types of Probability distribution?\n",
        "\n",
        "normal distribution,\n",
        "\n",
        " chi square distribution,\n",
        "\n",
        " binomial distribution, \n",
        "  \n",
        " Poisson distribution,\n",
        " \n",
        "  bernoulli distribution ,\n",
        "  \n",
        "  uniform distribution .\n",
        "  "
      ],
      "metadata": {
        "id": "6ja63zpZ769h"
      }
    },
    {
      "cell_type": "markdown",
      "source": [
        "Q3. Write a Python function to calculate the probability density function of a normal distribution with\n",
        "given mean and standard deviation at a given point.\n",
        "\n"
      ],
      "metadata": {
        "id": "RxSngQZN8zXv"
      }
    },
    {
      "cell_type": "code",
      "execution_count": 1,
      "metadata": {
        "colab": {
          "base_uri": "https://localhost:8080/"
        },
        "id": "XiztUCnM6jM9",
        "outputId": "f01323c9-10e7-4c18-b691-223d90b21ea1"
      },
      "outputs": [
        {
          "output_type": "stream",
          "name": "stdout",
          "text": [
            "0.0804410163156249\n"
          ]
        }
      ],
      "source": [
        "from scipy.stats import norm\n",
        "import numpy as np\n",
        "  \n",
        "data_start = -5\n",
        "data_end = 5\n",
        "data_points = 11\n",
        "data = np.linspace(data_start, data_end, data_points)\n",
        "  \n",
        "mean = np.mean(data)\n",
        "std = np.std(data)\n",
        "  \n",
        "probability_pdf = norm.pdf(3, loc=mean, scale=std)\n",
        "print(probability_pdf)"
      ]
    },
    {
      "cell_type": "markdown",
      "source": [
        "Q4. What are the properties of Binomial distribution? Give two examples of events where binomial\n",
        "distribution can be applied.\n",
        "\n",
        "Properties of Binomial Distribution\n",
        "The properties of the binomial distribution are:\n",
        "\n",
        "There are two possible outcomes: true or false, success or failure, yes or no.\n",
        "There is ‘n’ number of independent trials or a fixed number of n times repeated trials.\n",
        "The probability of success or failure remains the same for each trial.\n",
        "Only the number of success is calculated out of n independent trials.\n",
        "Every trial is an independent trial, which means the outcome of one trial does not affect the outcome of another trial.\n",
        "\n",
        "Binomial Distribution Examples\n",
        "As we already know, binomial distribution gives the possibility of a different set of outcomes. In real life, the concept is used for:\n",
        "\n",
        "Finding the quantity of raw and used materials while making a product.\n",
        "Taking a survey of positive and negative reviews from the public for any specific product or place.\n",
        "By using the YES/ NO survey, we can check whether the number of persons views the particular channel"
      ],
      "metadata": {
        "id": "KmhrFXI--3Ui"
      }
    },
    {
      "cell_type": "markdown",
      "source": [
        "Q5. Generate a random sample of size 1000 from a binomial distribution with probability of success 0.4\n",
        "and plot a histogram of the results using matplotlib.\n"
      ],
      "metadata": {
        "id": "tYER5SBW_lgn"
      }
    },
    {
      "cell_type": "code",
      "source": [
        "from scipy.stats import binom\n",
        "import matplotlib.pyplot as plt\n",
        "# setting the values\n",
        "# of n and p\n",
        "n = 1000\n",
        "p = 0.4\n",
        "# defining list of r values\n",
        "r_values = list(range(n + 1))\n",
        "# list of pmf values\n",
        "dist = [binom.pmf(r, n, p) for r in r_values ]\n",
        "# plotting the graph \n",
        "plt.bar(r_values, dist)\n",
        "plt.show()"
      ],
      "metadata": {
        "colab": {
          "base_uri": "https://localhost:8080/",
          "height": 265
        },
        "id": "epJ26Q649CzE",
        "outputId": "db860086-93bb-4aac-d6bb-15dc9d6abbf2"
      },
      "execution_count": 16,
      "outputs": [
        {
          "output_type": "display_data",
          "data": {
            "text/plain": [
              "<Figure size 432x288 with 1 Axes>"
            ],
            "image/png": "[encoded data removed]"
          },
          "metadata": {
            "needs_background": "light"
          }
        }
      ]
    },
    {
      "cell_type": "markdown",
      "source": [
        "Q6. Write a Python function to calculate the cumulative distribution function of a Poisson distribution with given mean at a given point."
      ],
      "metadata": {
        "id": "FkD3hlI5Gm9V"
      }
    },
    {
      "cell_type": "code",
      "source": [
        "import numpy as np\n",
        "import matplotlib.pyplot as plt\n",
        "from scipy.stats import poisson\n",
        "k = np.arange(0, 17)\n",
        "cdf = poisson.cdf(k, mu=7)\n",
        "cdf = np.round(cdf, 3)"
      ],
      "metadata": {
        "id": "QHuQmfZBAAd_"
      },
      "execution_count": 22,
      "outputs": []
    },
    {
      "cell_type": "code",
      "source": [
        "for val, prob in zip(k,cdf):\n",
        "    print(f\"k-value {val} has probability = {prob}\")"
      ],
      "metadata": {
        "colab": {
          "base_uri": "https://localhost:8080/"
        },
        "id": "4Ldyb-elIv6c",
        "outputId": "cf05c892-4db7-4b15-c1b8-cf851f88de40"
      },
      "execution_count": 23,
      "outputs": [
        {
          "output_type": "stream",
          "name": "stdout",
          "text": [
            "k-value 0 has probability = 0.001\n",
            "k-value 1 has probability = 0.007\n",
            "k-value 2 has probability = 0.03\n",
            "k-value 3 has probability = 0.082\n",
            "k-value 4 has probability = 0.173\n",
            "k-value 5 has probability = 0.301\n",
            "k-value 6 has probability = 0.45\n",
            "k-value 7 has probability = 0.599\n",
            "k-value 8 has probability = 0.729\n",
            "k-value 9 has probability = 0.83\n",
            "k-value 10 has probability = 0.901\n",
            "k-value 11 has probability = 0.947\n",
            "k-value 12 has probability = 0.973\n",
            "k-value 13 has probability = 0.987\n",
            "k-value 14 has probability = 0.994\n",
            "k-value 15 has probability = 0.998\n",
            "k-value 16 has probability = 0.999\n"
          ]
        }
      ]
    },
    {
      "cell_type": "code",
      "source": [
        "plt.plot(k, cdf, marker='o')\n",
        "plt.xlabel('k')\n",
        "plt.ylabel('Cumulative Probability')\n",
        "\n",
        "plt.show()"
      ],
      "metadata": {
        "colab": {
          "base_uri": "https://localhost:8080/",
          "height": 279
        },
        "id": "d1sDVOKmDwKp",
        "outputId": "bf2b913c-402e-4a2b-863f-302261f0eee6"
      },
      "execution_count": 24,
      "outputs": [
        {
          "output_type": "display_data",
          "data": {
            "text/plain": [
              "<Figure size 432x288 with 1 Axes>"
            ],
            "image/png": "[encoded data removed]"
          },
          "metadata": {
            "needs_background": "light"
          }
        }
      ]
    },
    {
      "cell_type": "markdown",
      "source": [
        "Q7. How Binomial distribution different from Poisson distribution?\n",
        "\n",
        "The differences between binomial and poisson distribution can be drawn clearly on the following grounds:\n",
        "\n",
        "The binomial distribution is one in which the probability of repeated number of trials is studied. A probability distribution that gives the count of a number of independent events occur randomly within a given period, is called probability distribution.\n",
        "Binomial Distribution is biparametric, i.e. it is featured by two parameters n and p whereas Poisson distribution is uniparametric, i.e. characterised by a single parameter m.\n",
        "There are a fixed number of attempts in the binomial distribution. On the other hand, an unlimited number of trials are there in a poisson distribution.\n",
        "The success probability is constant in binomial distribution but in poisson distribution, there are an extremely small number of success chances.\n",
        "In a binomial distribution, there are only two possible outcomes, i.e. success or failure. Conversely, there are an unlimited number of possible outcomes in the case of poisson distribution.\n",
        "In binomial distribution Mean > Variance while in poisson distribution mean = variance.\n"
      ],
      "metadata": {
        "id": "1MbwvU09I40F"
      }
    },
    {
      "cell_type": "markdown",
      "source": [
        "Q8. Generate a random sample of size 1000 from a Poisson distribution with mean 5 and calculate the\n",
        "sample mean and variance."
      ],
      "metadata": {
        "id": "vDZJTTyuJKz9"
      }
    },
    {
      "cell_type": "code",
      "source": [
        "import numpy as np\n",
        "\n",
        "sample = poisson.rvs(mu=5, size=1000)\n",
        "\n",
        "#calculate the sample mean and variance\n",
        "sample_mean = np.mean(sample)\n",
        "sample_var = np.var(sample, ddof=1)\n",
        "\n",
        "print(\"Sample mean:\", sample_mean)\n",
        "print(\"Sample variance:\", sample_var)"
      ],
      "metadata": {
        "colab": {
          "base_uri": "https://localhost:8080/"
        },
        "id": "aQYm8VLAIyGY",
        "outputId": "bc9d8909-74c8-4949-e401-4f7fcd85ac27"
      },
      "execution_count": 25,
      "outputs": [
        {
          "output_type": "stream",
          "name": "stdout",
          "text": [
            "Sample mean: 4.992\n",
            "Sample variance: 5.085021021021021\n"
          ]
        }
      ]
    },
    {
      "cell_type": "markdown",
      "source": [
        "Q9. How mean and variance are related in Binomial distribution and Poisson distribution?\n",
        "\n",
        "In a binomial distribution, the mean (or expected value) and variance are related by the following formula:\n",
        "\n",
        "mean = np variance = np(1-p)\n",
        "\n",
        "where n is the number of trials and p is the probability of success in each trial.\n",
        "\n",
        "In a Poisson distribution, the mean and variance are equal and are given by:\n",
        "\n",
        "mean = variance = λ\n",
        "\n",
        "where λ is the rate parameter of the Poisson distribution.\n",
        "\n",
        "The relationship between mean and variance in these distributions reflects the nature of the underlying processes they model.\n",
        "\n",
        "In a binomial distribution, the variance increases as the probability of success (p) moves away from 0.5, indicating that the spread of the distribution increases as the probability of success becomes more extreme.\n",
        "\n",
        "In a Poisson distribution, the variance is equal to the mean because the distribution models events that occur randomly and independently with a constant rate, such as the number of arrivals in a fixed period of time. The constant rate λ determines both the mean and the variance, and the distribution has no underlying variability beyond what is explained by the rate parameter."
      ],
      "metadata": {
        "id": "disXwFX3J09W"
      }
    },
    {
      "cell_type": "markdown",
      "source": [
        "Q10. In normal distribution with respect to mean position, where does the least frequent data appear?\n",
        "\n",
        "In a normal distribution, the least frequent data points are located in the tails of the distribution, which are the regions farthest away from the mean.\n",
        "The probability of observing a data point in the tails decreases rapidly as the distance from the mean increases."
      ],
      "metadata": {
        "id": "iL9BNB4IJ9v2"
      }
    },
    {
      "cell_type": "code",
      "source": [],
      "metadata": {
        "id": "BjgdWoHFJvde"
      },
      "execution_count": 25,
      "outputs": []
    }
  ]
}