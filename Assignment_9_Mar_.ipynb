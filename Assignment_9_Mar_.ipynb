{
  "nbformat": 4,
  "nbformat_minor": 0,
  "metadata": {
    "colab": {
      "provenance": []
    },
    "kernelspec": {
      "name": "python3",
      "display_name": "Python 3"
    },
    "language_info": {
      "name": "python"
    }
  },
  "cells": [
    {
      "cell_type": "markdown",
      "source": [
        "Q1: What are the Probability Mass Function (PMF) and Probability Density Function (PDF)? Explain with\n",
        "an example.\n",
        "\n",
        "**Probability density function (PDF)** is a statistical expression that defines a probability distribution (the likelihood of an outcome) for a discrete random variable (e.g., a stock or ETF) as opposed to a continuous random variable. The difference between a discrete random variable is that you can identify an exact value of the variable.\n",
        "\n",
        "The normal distribution is a common example of a PDF, forming the well-known bell curve shape.\n",
        "\n",
        "In finance, traders and investors use PDFs to understand how price returns are distributed in order to evaluate their risk and expected return profile.\n",
        "\n",
        "Probability mass function\n",
        "\n",
        "Probability mass function can be defined as the probability that a discrete random variable will be exactly equal to some particular value. In other words, the probability mass function assigns a particular probability to every possible value of a discrete random variable.\n",
        "\n",
        "Probability Mass Function Example\n",
        "Suppose a fair coin is tossed twice and the sample space is recorded as S = [HH, HT, TH, TT]. The probability of getting heads needs to be determined. Let X be the random variable that shows how many heads are obtained. X can take on the values 0, 1, 2. The probability that X will be equal to 1 is 0.5. Thus, it can be said that the probability mass function of X evaluated at 1 will be 0.5."
      ],
      "metadata": {
        "id": "tnHG7454mkOC"
      }
    },
    {
      "cell_type": "markdown",
      "source": [
        "Q2: What is Cumulative Density Function (CDF)? Explain with an example. Why CDF is used?\n",
        "\n",
        "The cumulative distribution function is used to describe the probability distribution of random variables. It can be used to describe the probability for a discrete, continuous or mixed variable. It is obtained by summing up the probability density function and getting the cumulative probability for a random variable.\n",
        "\n",
        "The Probability Density Function is a function that gives us the probability distribution of a random variable for any value of it. To get the probability distribution at a point, you only have to solve the probability density function for that point. \n",
        "\n",
        "The cumulative distribution function of a random variable to be calculated at a point x is represented as Fx(X). It is the probability that the random variable X will take a value less than or equal to x.\n",
        "\n",
        "Understanding the Cumulative Distribution Function With the IRIS Dataset\n",
        "In this case study, you will be looking at the Iris dataset, which contains information on the sepal length, sepal width, petal length, and petal width of three different species of Iris:\n",
        "\n",
        "Iris Setosa\n",
        "Iris Versicolor \n",
        "Iris Virginica\n",
        "\n",
        "![Cumulative_Distribution_Function_8.webp](data:image/webp;base64,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)"
      ],
      "metadata": {
        "id": "4_hneU8motM2"
      }
    },
    {
      "cell_type": "markdown",
      "source": [
        "Q3: What are some examples of situations where the normal distribution might be used as a model?\n",
        "Explain how the parameters of the normal distribution relate to the shape of the distribution.\n",
        "\n",
        "Example 1: Birthweight of Babies\n",
        "It’s well-documented that the birthweight of newborn babies is normally distributed with a mean of about 7.5 pounds.\n",
        "\n",
        "Example 2: Height of Males\n",
        "The distribution of the height of males in the U.S. is roughly normally distributed with a mean of 70 inches and a standard deviation of 3 inches.\n",
        "\n",
        "Example 3: Shoe Sizes\n",
        "The distribution of shoe sizes for males in the U.S. is roughly normally distributed with a mean of size 10 and a standard deviation of 1.\n",
        "\n",
        "Example 4: ACT Scores\n",
        "The distribution of ACT scores for high school students in the U.S. is normally distributed with a mean of 21 and a standard deviation of about 5.\n",
        "\n",
        "Parameters of Normal Distribution\n",
        "The two main parameters of a (normal) distribution are the mean and standard deviation. The parameters determine the shape and probabilities of the distribution. The shape of the distribution changes as the parameter values change."
      ],
      "metadata": {
        "id": "1iGM0inmqhwr"
      }
    },
    {
      "cell_type": "markdown",
      "source": [
        "Q4: Explain the importance of Normal Distribution. Give a few real-life examples of Normal\n",
        "Distribution.\n",
        "\n",
        "\n",
        "Importance of normal distribution\n",
        "\n",
        "1)      It has one of the important properties called central theorem. Central theorem means relationship between shape of population distribution and shape of sampling distribution of mean. This means that sampling distribution of mean approaches normal as sample size increase.\n",
        "\n",
        "2)      In case the sample size is large the normal distribution serves as good approximation.\n",
        "\n",
        "3)      Due to its mathematical properties it is more popular and easy to calculate.\n",
        "\n",
        "4)      It is used in statistical quality control in setting up of control limits.\n",
        "\n",
        "5)      The whole theory of sample tests t, f and chi-square test is based on the normal distribution.\n",
        "\n",
        "\n",
        "1. Height\n",
        "\n",
        "The height of people is an example of normal distribution. Most of the people in a specific population are of average height. The number of people taller and shorter than the average height people is almost equal, and a very small number of people are either extremely tall or extremely short. Several genetic and environmental factors influence height. Therefore, it follows the normal distribution.\n",
        "\n",
        "2. Rolling A Dice\n",
        "\n",
        "A fair rolling of dice is also a good example of normal distribution. In an experiment, it has been found that when a dice is rolled 100 times, chances to get ‘1’ are 15-18% and if we roll the dice 1000 times, the chances to get ‘1’ is, again, the same, which averages to 16.7% (1/6). If we roll two dice simultaneously, there are 36 possible combinations. The probability of rolling ‘1’ (with six possible combinations) again averages to around 16.7%, i.e., (6/36). More the number of dice more elaborate will be the normal distribution graph."
      ],
      "metadata": {
        "id": "sTwuSUCmsNav"
      }
    },
    {
      "cell_type": "markdown",
      "source": [
        "Q5: What is Bernaulli Distribution? Give an Example. What is the difference between Bernoulli Distribution and Binomial Distribution?\n",
        "\n",
        "Bernoulli Distribution!\n",
        "\n",
        "This distribution deals with the data which only has 1 trial & only 2 possible outcomes. Anything other than that will not fall under the Bernoulli Distribution category.\n",
        "\n",
        "Example of Bernoulli Distribution!\n",
        "\n",
        "For the real-life example, let’s consider the situation of passing or failing an exam. Let’s assume the probability to pass the exam is 95%, therefore the probability to fail will be 5%.\n",
        "\n",
        "In this case, if the event to pass the exam is considered, then the Bernoulli event will contain the probability of passing the exam. Similarly, it goes for failing the exam\n",
        "\n",
        "Binomial VS Bernoulli \n",
        "\n",
        "\n",
        "Bernoulli deals with the outcome of the single trial of the event, whereas Binomial deals with the outcome of the multiple trials of the single event.\n",
        "Bernoulli is used when the outcome of an event is required for only one time, whereas the Binomial is used when the outcome of an event is required multiple times.\n",
        "\n"
      ],
      "metadata": {
        "id": "s2QGVosMtakj"
      }
    },
    {
      "cell_type": "markdown",
      "source": [
        "Q6. Consider a dataset with a mean of 50 and a standard deviation of 10. If we assume that the dataset\n",
        "is normally distributed, what is the probability that a randomly selected observation will be greater\n",
        "than 60? Use the appropriate formula and show your calculations.\n",
        "\n",
        "We can use the z-table to solve this question.\n",
        "\n",
        "The appropriate formula to use is:\n",
        "z = (x - μ) / σ\n",
        "\n",
        "where x is the value of the observation you are interested in (in this case, x = 60), μ is the mean of the dataset, and σ is the standard deviation of the dataset.\n",
        "\n",
        "Substituting the values given in the question, we get:\n",
        "z = (60 - 50) / 10 = 1\n",
        "\n",
        "Now, we need to use the z-table to find the probability that a z-score is greater than 1.\n",
        "\n",
        "Using the z-table, we look up the probability corresponding to a z-score of 1.00 in the positive z-score column. The table tells us that the probability is 0.8413.\n",
        "\n",
        "The probabilty that we got from z-table is the probability of randomly selected number less than 60, because z-table gives us the probability of the values on the left side of 60. But we need the values on the right side (greater than 60) of 60. So we can get that probability by subtracting 0.8413 from 1 as:\n",
        "\n",
        "1 - 0.8413 = 0.1587"
      ],
      "metadata": {
        "id": "bgX1PmXFz6PR"
      }
    },
    {
      "cell_type": "markdown",
      "source": [
        "Q7: Explain uniform Distribution with an example.\n",
        "\n",
        "Uniform distribution, also known as a rectangular distribution, is a probability distribution where all possible outcomes are equally likely to occur. It is often used in statistics to model situations where each outcome is equally likely to occur, such as rolling a fair die or picking a card from a well-shuffled deck.\n",
        "\n",
        "Example:\n",
        "Rolling a fair six-sided die: When rolling the die, each face has an equal probability of showing up, which is 1/6 or approximately 0.1667. This means that any number between 1 and 6 is equally likely to be rolled, and the probability of rolling any particular number is 1/6.\n",
        "\n",
        "In the above examples, the probability density function of the uniform distribution is constant over the entire range of possible outcomes. That is, the probability of any particular outcome is proportional to the size of the range of possible outcomes."
      ],
      "metadata": {
        "id": "nAghJ7CK0MsO"
      }
    },
    {
      "cell_type": "markdown",
      "source": [
        "Q8: What is the z score? State the importance of the z score.\n",
        "\n",
        "The z-score is a statistical measure that expresses how far a data point is from the mean of a distribution in terms of standard deviations.\n",
        "\n",
        "The formula for calculating the z-score of a data point is:\n",
        "z = (x - μ) / σ\n",
        "where x is the data point, μ is the mean of the distribution, and σ is the standard deviation.\n",
        "\n",
        "Importance:\n",
        "\n",
        "The z-score is important because it allows us to standardize data from different distributions, which can then be compared and analyzed more easily. By converting data into z-scores, we can compare observations from different samples or populations and make meaningful statements about their relative positions.\n",
        "The z-score is also useful in hypothesis testing, where it is used to calculate the probability of observing a value as extreme as the one observed, assuming a certain null hypothesis.\n"
      ],
      "metadata": {
        "id": "72F5yiBh0SLB"
      }
    },
    {
      "cell_type": "markdown",
      "source": [
        "Q9: What is Central Limit Theorem? State the significance of the Central Limit Theorem.\n",
        "\n",
        "The Central Limit Theorem (CLT) is a fundamental result in probability theory and statistics that describes the behavior of the sum or average of a large number of independent and identically distributed random variables. It states that, under certain conditions, the sum or average of such variables will converge to a normal distribution, regardless of the distribution of the individual variables.\n",
        "\n",
        "The significance of the CLT is that it provides a theoretical foundation for many statistical techniques that assume normally distributed data. For example, many hypothesis tests and confidence intervals rely on the assumption of normality, which is often justified by the CLT.\n",
        "Additionally, the CLT is important in practical applications such as quality control, where it is often necessary to estimate the mean and variance of a population based on a sample."
      ],
      "metadata": {
        "id": "B4enwtbZ0clv"
      }
    },
    {
      "cell_type": "markdown",
      "source": [
        "Q10: State the assumptions of the Central Limit Theorem.\n",
        "\n",
        "The assumptions of the Central Limit Theorem are:\n",
        "\n",
        "Independence: The observations in the sample are independent of each other, meaning that the outcome of one observation does not influence the outcome of another observation.\n",
        "\n",
        "Sample size: The sample size is sufficiently large. The larger the sample size, the better the approximation to the normal distribution.\n",
        "\n",
        "Identically distributed: The sample data comes from a population that has a well-defined mean and variance. The observations in the sample are identically distributed, meaning that they come from the same population.\n",
        "\n",
        "Finite variance: The population has a finite variance. This assumption ensures that the sample variance is also finite.\n",
        "\n",
        "Non-skewed population distribution: The population distribution is not strongly skewed. A strongly skewed population distribution can affect the validity of the Central Limit Theorem, and a larger sample size may be required to approximate a normal distribution"
      ],
      "metadata": {
        "id": "38mBhFTK0oDR"
      }
    },
    {
      "cell_type": "code",
      "source": [],
      "metadata": {
        "id": "Gz5gWnXzqfqO"
      },
      "execution_count": null,
      "outputs": []
    }
  ]
}