{
  "nbformat": 4,
  "nbformat_minor": 0,
  "metadata": {
    "colab": {
      "provenance": []
    },
    "kernelspec": {
      "name": "python3",
      "display_name": "Python 3"
    },
    "language_info": {
      "name": "python"
    }
  },
  "cells": [
    {
      "cell_type": "markdown",
      "source": [
        "Q1, Create a vehicle class with an init method having instance variables as name_of_vehicle, max_speed\n",
        "and average_of_vehicle."
      ],
      "metadata": {
        "id": "yxgTA-Wnv1U8"
      }
    },
    {
      "cell_type": "code",
      "execution_count": 17,
      "metadata": {
        "id": "2kkJKQh9vzjh"
      },
      "outputs": [],
      "source": [
        "class vehicle :\n",
        " def __init__(self,name_of_vehicle, max_speed, average_of_vehicle):\n",
        "      self.name_of_vehicle =name_of_vehicle\n",
        "      self.max_speed= max_speed\n",
        "      self.average_of_vehicle=average_of_vehicle\n",
        "\n",
        "\n",
        " def return_vehicle_detials(self):\n",
        "      return self.name_of_vehicle,self.max_speed,self.average_of_vehicle"
      ]
    },
    {
      "cell_type": "code",
      "source": [
        "w3=vehicle('honda_amaze ', 150,16)"
      ],
      "metadata": {
        "id": "aEtfLUvOyJ6O"
      },
      "execution_count": 18,
      "outputs": []
    },
    {
      "cell_type": "code",
      "source": [
        "w3.return_vehicle_detials()"
      ],
      "metadata": {
        "colab": {
          "base_uri": "https://localhost:8080/"
        },
        "id": "qPhGHNl5zm6V",
        "outputId": "c80e1d9c-8afc-4921-8416-19736f0f1683"
      },
      "execution_count": 19,
      "outputs": [
        {
          "output_type": "execute_result",
          "data": {
            "text/plain": [
              "('honda_amaze ', 150, 16)"
            ]
          },
          "metadata": {},
          "execution_count": 19
        }
      ]
    },
    {
      "cell_type": "markdown",
      "source": [
        "Q2. Create a child class car from the vehicle class created in Que 1, which will inherit the vehicle class.\n",
        "Create a method named seating_capacity which takes capacity as an argument and returns the name of\n",
        "the vehicle and its seating capacity."
      ],
      "metadata": {
        "id": "VOY_ls9nzy0H"
      }
    },
    {
      "cell_type": "code",
      "source": [
        "class car(vehicle):\n",
        "   def __init__(self,name_of_vehicle, max_speed, average_of_vehicle,seating_capacity) :\n",
        "     self.seating_capacity=seating_capacity\n"
      ],
      "metadata": {
        "id": "JMAjQBJuzrVD"
      },
      "execution_count": 29,
      "outputs": []
    },
    {
      "cell_type": "code",
      "source": [
        "obj_car=car('honda_amaze ', 150,16,5)"
      ],
      "metadata": {
        "id": "QPl0ygGn02qj"
      },
      "execution_count": 31,
      "outputs": []
    },
    {
      "cell_type": "code",
      "source": [
        "obj_car.seating_capacity\n"
      ],
      "metadata": {
        "colab": {
          "base_uri": "https://localhost:8080/"
        },
        "id": "kHxpJknL13Lr",
        "outputId": "7542fc65-57e0-4666-f7bb-d28a14e4948b"
      },
      "execution_count": 36,
      "outputs": [
        {
          "output_type": "execute_result",
          "data": {
            "text/plain": [
              "5"
            ]
          },
          "metadata": {},
          "execution_count": 36
        }
      ]
    },
    {
      "cell_type": "markdown",
      "source": [
        "Q3. What is multiple inheritance? Write a python code to demonstrate multiple inheritance\n",
        "\n",
        "When a class is derived from more than one base class it is called multiple Inheritance. The derived class inherits all the features of the base case."
      ],
      "metadata": {
        "id": "hw5Sflh86jB1"
      }
    },
    {
      "cell_type": "code",
      "source": [
        "class class1:\n",
        "    def test_class1(self) : \n",
        "        print(\"this is my class 1\" )\n",
        "      \n",
        "class class2 :\n",
        "    def test_class2(self) : \n",
        "        print(\"this is my class 2\")\n",
        "\n",
        "\n",
        "class class3 (class1 , class2) : \n",
        "    pass\n",
        "obj_class3 = class3()\n",
        "obj_class3.test_class1()"
      ],
      "metadata": {
        "id": "7zI5aMjD6c_a",
        "outputId": "f3ec59ad-e55a-477f-9613-509a348ef396",
        "colab": {
          "base_uri": "https://localhost:8080/"
        }
      },
      "execution_count": 38,
      "outputs": [
        {
          "output_type": "stream",
          "name": "stdout",
          "text": [
            "this is my class 1\n"
          ]
        }
      ]
    },
    {
      "cell_type": "code",
      "source": [
        "obj_class3.test_class2()"
      ],
      "metadata": {
        "id": "t761qWT17R2A",
        "outputId": "5462ec61-d396-46dc-c94f-ca676ce10491",
        "colab": {
          "base_uri": "https://localhost:8080/"
        }
      },
      "execution_count": 39,
      "outputs": [
        {
          "output_type": "stream",
          "name": "stdout",
          "text": [
            "this is my class 2\n"
          ]
        }
      ]
    },
    {
      "cell_type": "markdown",
      "source": [
        "Q4. What are getter and setter in python? Create a class and create a getter and a setter method in this\n",
        "class.\n",
        "\n",
        "In Python, getters and setters are not the same as those in other object-oriented programming languages. Basically, the main purpose of using getters and setters in object-oriented programs is to ensure data encapsulation. Private variables in python are not actually hidden fields like in other object oriented languages. Getters and Setters in python are often used when:\n",
        "\n",
        "We use getters & setters to add validation logic around getting and setting a value.\n",
        "To avoid direct access of a class field i.e. private variables cannot be accessed directly or modified by external user.\n",
        "Using normal function to achieve getters and setters behaviour\n",
        "\n",
        "To achieve getters & setters property, if we define normal get() and set() methods it will not reflect any special implementation"
      ],
      "metadata": {
        "id": "S2GVnp9R7lKv"
      }
    },
    {
      "cell_type": "code",
      "source": [
        "class pwskills:\n",
        "     def __init__(self):\n",
        "          self._age = 0\n",
        "     @property\n",
        "     def age(self):\n",
        "         print(\"getter method called\")\n",
        "         return self._age\n",
        "     @age.setter\n",
        "     def age(self, a):\n",
        "         if(a < 18):\n",
        "            raise ValueError(\"Sorry you age is below eligibility criteria\")\n",
        "         print(\"setter method called\")\n",
        "         self._age = a\n",
        "  \n",
        "mark = pwskills()\n",
        "  \n",
        "mark.age = 43\n",
        "  \n",
        "print(mark.age)"
      ],
      "metadata": {
        "id": "3Ji9KbiQ7gHO",
        "outputId": "7ab1ec54-a49f-4eae-a287-3152a1ab5fbb",
        "colab": {
          "base_uri": "https://localhost:8080/"
        }
      },
      "execution_count": 42,
      "outputs": [
        {
          "output_type": "stream",
          "name": "stdout",
          "text": [
            "setter method called\n",
            "getter method called\n",
            "43\n"
          ]
        }
      ]
    },
    {
      "cell_type": "markdown",
      "source": [
        "Q5.What is method overriding in python? Write a python code to demonstrate method overriding.\n",
        "\n",
        "Method overriding is an ability of any object-oriented programming language that allows a subclass or child class to provide a specific implementation of a method that is already provided by one of its super-classes or parent classes. When a method in a subclass has the same name, same parameters or signature and same return type(or sub-type) as a method in its super-class, then the method in the subclass is said to override the method in the super-class."
      ],
      "metadata": {
        "id": "bTfqP1Jq-Kfv"
      }
    },
    {
      "cell_type": "code",
      "source": [
        "\n",
        "class Parent():\n",
        "    def __init__(self):\n",
        "        self.value = \"Inside Parent\"\n",
        "    def show(self):\n",
        "        print(self.value)\n",
        "class Child(Parent):\n",
        "    def __init__(self):\n",
        "        self.value = \"Inside Child\"\n",
        "    def show(self):\n",
        "        print(self.value)\n",
        "obj1 = Parent()\n",
        "obj2 = Child()\n",
        "  \n",
        "obj1.show()\n",
        "obj2.show()"
      ],
      "metadata": {
        "id": "b-Q9tKw29521",
        "outputId": "3bd2e93b-a136-47ab-ff66-6401f1906328",
        "colab": {
          "base_uri": "https://localhost:8080/"
        }
      },
      "execution_count": 47,
      "outputs": [
        {
          "output_type": "stream",
          "name": "stdout",
          "text": [
            "Inside Parent\n",
            "Inside Child\n"
          ]
        }
      ]
    },
    {
      "cell_type": "code",
      "source": [],
      "metadata": {
        "id": "GkKBkLwW_CvZ"
      },
      "execution_count": null,
      "outputs": []
    }
  ]
}