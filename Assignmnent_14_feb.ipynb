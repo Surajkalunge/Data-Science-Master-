{
  "nbformat": 4,
  "nbformat_minor": 0,
  "metadata": {
    "colab": {
      "provenance": []
    },
    "kernelspec": {
      "name": "python3",
      "display_name": "Python 3"
    },
    "language_info": {
      "name": "python"
    }
  },
  "cells": [
    {
      "cell_type": "markdown",
      "source": [
        "Q1 what is multithreading in python? why is it used? Name the module used to handle threads in python\n",
        "\n",
        "Ans- If you wish to save time and improve performance, you should use multithreading in Python!\n",
        "\n",
        "Multithreading in Python is a popular technique that enables multiple tasks to be executed simultaneously. In simple words, the ability of a processor to execute multiple threads simultaneously is known as multithreading.\n",
        "\n",
        "Python multithreading facilitates sharing data space and resources of multiple threads with the main thread. It allows efficient and easy communication between the threads.\n",
        "\n",
        "If you wish to break down your tasks and applications into multiple sub-tasks and then execute them simultaneously, then multithreading in Python is your best bet. All important aspects such as performance, rendering, speed and time consumption will drastically be improved by using proper Python multithreading.\n",
        "\n",
        "Multithreading in Python should be used only when there is no existing inter-dependency between the threads.\n",
        "\n",
        "Name the module used to handle threads in python\n",
        "\n",
        "Start()\n",
        "\n",
        "run()\n",
        "\n",
        "Join()"
      ],
      "metadata": {
        "id": "qHUc8OBR6oGi"
      }
    },
    {
      "cell_type": "markdown",
      "source": [
        "Q2 why threading module used? write the use of the following functions\n",
        "activeCount()\n",
        "currentThread()\n",
        " enumerate()\n",
        "\n",
        " Ans- threading module is used for creating, controlling and managing threads in python.\n",
        "\n",
        "The activeCount() method of thread class is used to return the number of active threads in the current thread's thread group.\n",
        "\n",
        "The currentThread() method of thread class is used to return a reference to the currently executing thread object.\n",
        "\n",
        "The enumerate() function takes a collection (e.g. a tuple) and returns it as an enumerate object. The enumerate() function adds a counter as the key of the enumerate object.\n",
        "\n",
        "\n"
      ],
      "metadata": {
        "id": "ajzhipBFKk3W"
      }
    },
    {
      "cell_type": "markdown",
      "source": [
        "Q3. Explain the following functions\n",
        "( run\n",
        " start\n",
        " join\n",
        "' isAlive)\n",
        "\n",
        " Ans -The . run() method executes any target function belonging to a given thread object that is now active. It normally executes in the background after the . start() method is invoked.\n",
        "\n",
        " start() method is an inbuilt method of the Thread class of the threading module in Python. It is used to start a thread's activity. This method calls the run() method internally which then executes the target method. This method must be called at most one time for one thread\n",
        "\n",
        " The . join() method delays a program's flow of execution until the target thread has been completely read.\n",
        "\n",
        " is_alive() method is an inbuilt method of the Thread class of the threading module in Python. It uses a Thread object, and checks whether that thread is alive or not, ie, it is still running or not. This method returns True before the run() starts until just after the run() method is executed"
      ],
      "metadata": {
        "id": "O_sW1dXTMG_y"
      }
    },
    {
      "cell_type": "markdown",
      "source": [
        "4. write a python program to create two threads. Thread one must print the list of squares and thread two must print the list of cubes"
      ],
      "metadata": {
        "id": "XGAxVU-nNPsO"
      }
    },
    {
      "cell_type": "code",
      "execution_count": 10,
      "metadata": {
        "colab": {
          "base_uri": "https://localhost:8080/"
        },
        "id": "-_uAVCLS6PL4",
        "outputId": "8dacb176-d2bc-4fb7-e9c6-5c75ec92b511"
      },
      "outputs": [
        {
          "output_type": "stream",
          "name": "stdout",
          "text": [
            "Square: 25\n",
            "Cube: 729\n",
            "Done!\n"
          ]
        }
      ],
      "source": [
        "import threading\n",
        " \n",
        " \n",
        "def print_cube(num):\n",
        "    print(\"Cube: {}\" .format(num * num * num))\n",
        " \n",
        " \n",
        "def print_square(num):\n",
        "    print(\"Square: {}\" .format(num * num))\n",
        " \n",
        " \n",
        "if __name__ ==\"__main__\":\n",
        "    t1 = threading.Thread(target=print_square, args=(5,))\n",
        "    t2 = threading.Thread(target=print_cube, args=(9,))\n",
        "    t1.start()\n",
        "    \n",
        "    t2.start()\n",
        "\n",
        "    t1.join()\n",
        "\n",
        "    t2.join()\n",
        " \n",
        "    print(\"Done!\")\n"
      ]
    },
    {
      "cell_type": "markdown",
      "source": [
        "5. State advantages and disadvantages of multithreading\n",
        "\n",
        "Multithreading in Python has several advantages, making it a popular approach. Let's take a look at some of them –\n",
        "\n",
        "Python multithreading enables efficient utilization of the resources as the threads share the data space and memory.\n",
        "\n",
        "Multithreading in Python allows the concurrent and parallel occurrence of various tasks.\n",
        "\n",
        "It causes a reduction in time consumption or response time, thereby increasing the performance.\n",
        "disadvantages of multithreading\n",
        "Difficulty of writing code. Multithreaded and multicontexted applications are not easy to write. ...\n",
        "Difficulty of debugging. ...\n",
        "Difficulty of managing concurrency. ...\n",
        "Difficulty of testing. ...\n",
        "Difficulty of porting existing code."
      ],
      "metadata": {
        "id": "sBPK225oPG5M"
      }
    },
    {
      "cell_type": "markdown",
      "source": [
        "6. Explain deadlocks and race conditions.\n",
        "\n",
        "Race Conditions\n",
        "Race conditions are one of the primary issues you will face while working with multithreading in Python.\n",
        "\n",
        "Most commonly, race conditions happen when two or more threads access the shared piece of data and resource. In real-time multithreading in Python, it can occur when threads overlap. The solution to this is synchronizing threads which we will see further\n",
        "\n",
        "A deadlock is a concurrency failure mode where a thread or threads wait for a condition that never occurs. The result is that the deadlock threads are unable to progress and the program is stuck or frozen and must be terminated forcefully."
      ],
      "metadata": {
        "id": "t3v5AfXHP4YQ"
      }
    },
    {
      "cell_type": "code",
      "source": [],
      "metadata": {
        "id": "8VzgZq34N5wt"
      },
      "execution_count": null,
      "outputs": []
    }
  ]
}