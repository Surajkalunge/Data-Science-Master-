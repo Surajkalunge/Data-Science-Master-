{
  "nbformat": 4,
  "nbformat_minor": 0,
  "metadata": {
    "colab": {
      "provenance": []
    },
    "kernelspec": {
      "name": "python3",
      "display_name": "Python 3"
    },
    "language_info": {
      "name": "python"
    }
  },
  "cells": [
    {
      "cell_type": "markdown",
      "source": [
        "Q1. Which function is used to open a file? What are the different modes of opening a file? Explain each mode\n",
        "of file opening.\n",
        "\n",
        "Ans-\n",
        "\n",
        " open() fuction is used to open a file\n",
        "\n",
        "\n",
        " Read Only (‘r’) : Open text file for reading. The handle is positioned at the beginning of the file. If the file does not exists, raises the I/O error. This is also the default mode in which a file is opened.\n",
        " \n",
        "Read and Write (‘r+’): Open the file for reading and writing. The handle is positioned at the beginning of the file. Raises I/O error if the file does not exist.\n",
        "\n",
        "Write Only (‘w’) : Open the file for writing. For the existing files, the data is truncated and over-written. The handle is positioned at the beginning of the file. Creates the file if the file does not exist.\n",
        "\n",
        "Write and Read (‘w+’) : Open the file for reading and writing. For an existing file, data is truncated and over-written. The handle is positioned at the beginning of the file.\n",
        "\n",
        "Append Only (‘a’): Open the file for writing. The file is created if it does not exist. The handle is positioned at the end of the file. The data being written will be inserted at the end, after the existing data.\n",
        "\n",
        "Append and Read (‘a+’) : Open the file for reading and writing. The file is created if it does not exist. The handle is positioned at the end of the file. The data being written will be inserted at the end, after the existing data.\n"
      ],
      "metadata": {
        "id": "rmBVv2bNCP1i"
      }
    },
    {
      "cell_type": "markdown",
      "source": [
        "Q2 Why close() function is used? Why is it important to close a file?\n",
        "\n",
        "Ans-The close() function closes a descriptor, fildes. This frees the descriptor to be returned by future open() calls and other calls that create descriptors.\n",
        "\n",
        "\n",
        "Because files are limited resources managed by the operating system, making sure files are closed after use will protect against hard-to-debug issues like running out of file handles or experiencing corrupted data. The best defense is always to open files with a context manager"
      ],
      "metadata": {
        "id": "p-jG9PypDxe_"
      }
    },
    {
      "cell_type": "markdown",
      "source": [
        "Q3 Write a python program to create a text file. Write ‘I want to become a Data Scientist’ in that file. Then\n",
        "close the file. Open this file and read the content of the file."
      ],
      "metadata": {
        "id": "3T628DuIkTVY"
      }
    },
    {
      "cell_type": "code",
      "execution_count": 13,
      "metadata": {
        "id": "CMWYgb4AB4z9"
      },
      "outputs": [],
      "source": [
        "f= open(\"test.txt\",'a')"
      ]
    },
    {
      "cell_type": "code",
      "source": [
        "f.write(\"I want to become a data scientist\")"
      ],
      "metadata": {
        "colab": {
          "base_uri": "https://localhost:8080/"
        },
        "id": "7QaddaELlCP_",
        "outputId": "da29fd59-03ff-4cd0-8bdc-1df886bb163a"
      },
      "execution_count": 14,
      "outputs": [
        {
          "output_type": "execute_result",
          "data": {
            "text/plain": [
              "33"
            ]
          },
          "metadata": {},
          "execution_count": 14
        }
      ]
    },
    {
      "cell_type": "code",
      "source": [
        "f.close()"
      ],
      "metadata": {
        "id": "5sW_AHLyloKm"
      },
      "execution_count": 15,
      "outputs": []
    },
    {
      "cell_type": "code",
      "source": [
        "f=open(\"test.txt\",'r')"
      ],
      "metadata": {
        "id": "8NAX1mAdls69"
      },
      "execution_count": 17,
      "outputs": []
    },
    {
      "cell_type": "code",
      "source": [
        "f.read()"
      ],
      "metadata": {
        "colab": {
          "base_uri": "https://localhost:8080/",
          "height": 35
        },
        "id": "S50ggaKol7W3",
        "outputId": "1ada23ac-3507-4029-e7a2-f1200bda0ab4"
      },
      "execution_count": 18,
      "outputs": [
        {
          "output_type": "execute_result",
          "data": {
            "text/plain": [
              "'I want to become a data scientist'"
            ],
            "application/vnd.google.colaboratory.intrinsic+json": {
              "type": "string"
            }
          },
          "metadata": {},
          "execution_count": 18
        }
      ]
    },
    {
      "cell_type": "markdown",
      "source": [
        "Q4. Explain the following with python code: read(), readline() and readlines().\n",
        "\n",
        "Python readline() method will return a line from the file when called readline()\n",
        "\n",
        "readlines() method will return all the lines in a file in the format of a list where each element is a line in the file."
      ],
      "metadata": {
        "id": "np1ez3nqnHp_"
      }
    },
    {
      "cell_type": "code",
      "source": [
        "f1=open(\"test1.txt\",\"a\")"
      ],
      "metadata": {
        "id": "SiE7joOHmD0W"
      },
      "execution_count": 19,
      "outputs": []
    },
    {
      "cell_type": "code",
      "source": [
        "f1.write(\"Data Science Masters course is highly curated and uniquely designed according to the latest industry standards. This program instills students the skills essential to knowledge discovery efforts to identify standard, novel, and truly differentiated solutions and decision-making, including skills in managing, querying, analyzing, visualizing, and extracting meaning from extremely large data sets. This trending program provides students with the statistical, mathematical and computational skills needed to meet the large-scale data science challenges of today's professional world. You will learn all the stack required to work in data science industry including cloud infrastructure and real-time industry projects. This course will be taught in Hindi language\")"
      ],
      "metadata": {
        "colab": {
          "base_uri": "https://localhost:8080/"
        },
        "id": "C1e_wJkWoWNk",
        "outputId": "ff6d10be-6b8e-4f26-9420-9ad0294f4a7d"
      },
      "execution_count": 21,
      "outputs": [
        {
          "output_type": "execute_result",
          "data": {
            "text/plain": [
              "764"
            ]
          },
          "metadata": {},
          "execution_count": 21
        }
      ]
    },
    {
      "cell_type": "code",
      "source": [
        "f1.close()"
      ],
      "metadata": {
        "id": "Y64NhTqKojKA"
      },
      "execution_count": 22,
      "outputs": []
    },
    {
      "cell_type": "code",
      "source": [
        "f1= open(\"test1.txt\" , 'r')"
      ],
      "metadata": {
        "id": "d6Zga9RDowBR"
      },
      "execution_count": 28,
      "outputs": []
    },
    {
      "cell_type": "code",
      "source": [
        "f1.read()"
      ],
      "metadata": {
        "colab": {
          "base_uri": "https://localhost:8080/",
          "height": 191
        },
        "id": "sXJorbNao0lr",
        "outputId": "33b03954-f43d-4cb3-f111-e41c93bd4ce8"
      },
      "execution_count": 29,
      "outputs": [
        {
          "output_type": "execute_result",
          "data": {
            "text/plain": [
              "\"Data Science Masters course is highly curated and uniquely designed according to the latest industry standards. This program instills students the skills essential to knowledge discovery efforts to identify standard, novel, and truly differentiated solutions and decision-making, including skills in managing, querying, analyzing, visualizing, and extracting meaning from extremely large data sets. This trending program provides students with the statistical, mathematical and computational skills needed to meet the large-scale data science challenges of today's professional world. You will learn all the stack required to work in data science industry including cloud infrastructure and real-time industry projects. This course will be taught in Hindi language\""
            ],
            "application/vnd.google.colaboratory.intrinsic+json": {
              "type": "string"
            }
          },
          "metadata": {},
          "execution_count": 29
        }
      ]
    },
    {
      "cell_type": "code",
      "source": [
        "f1.readline()"
      ],
      "metadata": {
        "colab": {
          "base_uri": "https://localhost:8080/",
          "height": 35
        },
        "id": "TrSxPCDIo4Oh",
        "outputId": "751ddf35-6eb9-46d0-a1e1-5cec0f7ee22a"
      },
      "execution_count": 38,
      "outputs": [
        {
          "output_type": "execute_result",
          "data": {
            "text/plain": [
              "''"
            ],
            "application/vnd.google.colaboratory.intrinsic+json": {
              "type": "string"
            }
          },
          "metadata": {},
          "execution_count": 38
        }
      ]
    },
    {
      "cell_type": "code",
      "source": [
        "f1.readlines(80)"
      ],
      "metadata": {
        "colab": {
          "base_uri": "https://localhost:8080/"
        },
        "id": "C9OB4CIXpQPc",
        "outputId": "9768ad0d-db57-458e-dc0b-acd00612cb72"
      },
      "execution_count": 36,
      "outputs": [
        {
          "output_type": "execute_result",
          "data": {
            "text/plain": [
              "[]"
            ]
          },
          "metadata": {},
          "execution_count": 36
        }
      ]
    },
    {
      "cell_type": "code",
      "source": [],
      "metadata": {
        "id": "1AQ7jSBDpqs6"
      },
      "execution_count": null,
      "outputs": []
    },
    {
      "cell_type": "markdown",
      "source": [
        "Q5. Explain why with statement is used with open(). What is the advantage of using with statement and\n",
        "open() together?\n",
        "\n",
        "The with statement works with the open() function to open a file. Unlike open() where you have to close the file with the close() method, the with statement closes the file for you without you telling it to. This is because the with statement calls 2 built-in methods behind the scene – __enter()__ and __exit()__ .\n"
      ],
      "metadata": {
        "id": "BIEk8zP7qjOu"
      }
    },
    {
      "cell_type": "markdown",
      "source": [
        "Q6 Explain the write() and writelines() functions. Give a suitable example.\n",
        "\n",
        "write() function\n",
        "\n",
        "The write() function will write the content in the file without adding any extra characters.\n",
        "\n",
        "writelines() function\n",
        "This function writes the content of a list to a file.\n",
        "\n",
        "As per the syntax, the list of strings that is passed to the writelines() function is written into the opened file. Similar to the write() function, the writelines() function does not add a newline character(\\n) to the end of the string.\n",
        "\n",
        "\n",
        "\n",
        "\n"
      ],
      "metadata": {
        "id": "J4l7g55erYWe"
      }
    },
    {
      "cell_type": "code",
      "source": [
        "file = open(\"Employees.txt\", \"w\")\n",
        "  \n",
        "for i in range(3):\n",
        "   name = input(\"Enter the name of the employee: \")\n",
        "   file.write(name)\n",
        "   file.write(\"\\n\")\n",
        "     \n",
        "file.close()\n",
        "  \n",
        "print(\"Data is written into the file.\")"
      ],
      "metadata": {
        "colab": {
          "base_uri": "https://localhost:8080/"
        },
        "id": "eyYxtb0SrVgf",
        "outputId": "0135e46d-38ed-4bcd-f352-4ea7dd904b73"
      },
      "execution_count": 39,
      "outputs": [
        {
          "output_type": "stream",
          "name": "stdout",
          "text": [
            "Enter the name of the employee: suraj\n",
            "Enter the name of the employee: rushi\n",
            "Enter the name of the employee: mahesh\n",
            "Data is written into the file.\n"
          ]
        }
      ]
    },
    {
      "cell_type": "code",
      "source": [
        "file1 = open(\"Employees.txt\", \"w\")\n",
        "lst = []\n",
        "for i in range(3):\n",
        "    name = input(\"Enter the name of the employee: \")\n",
        "    lst.append(name + '\\n')\n",
        "      \n",
        "file1.writelines(lst)\n",
        "file1.close()\n",
        "print(\"Data is written into the file.\") "
      ],
      "metadata": {
        "colab": {
          "base_uri": "https://localhost:8080/"
        },
        "id": "3ihlrcMetWo0",
        "outputId": "9c1aef62-da55-4f1c-8c71-e384ec88c071"
      },
      "execution_count": 40,
      "outputs": [
        {
          "output_type": "stream",
          "name": "stdout",
          "text": [
            "Enter the name of the employee: ravi\n",
            "Enter the name of the employee: om\n",
            "Enter the name of the employee: jay\n",
            "Data is written into the file.\n"
          ]
        }
      ]
    },
    {
      "cell_type": "code",
      "source": [],
      "metadata": {
        "id": "VUcuBtowtz_B"
      },
      "execution_count": null,
      "outputs": []
    }
  ]
}